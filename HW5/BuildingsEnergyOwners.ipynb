{
  "nbformat": 4,
  "nbformat_minor": 0,
  "metadata": {
    "colab": {
      "name": "HW5/BuildingsEnergyOwners.ipynb",
      "provenance": [],
      "collapsed_sections": [],
      "include_colab_link": true
    },
    "kernelspec": {
      "display_name": "Python 3",
      "language": "python",
      "name": "python3"
    },
    "language_info": {
      "codemirror_mode": {
        "name": "ipython",
        "version": 3
      },
      "file_extension": ".py",
      "mimetype": "text/x-python",
      "name": "python",
      "nbconvert_exporter": "python",
      "pygments_lexer": "ipython3",
      "version": "3.7.3"
    },
    "latex_envs": {
      "LaTeX_envs_menu_present": true,
      "autoclose": false,
      "autocomplete": true,
      "bibliofile": "biblio.bib",
      "cite_by": "apalike",
      "current_citInitial": 1,
      "eqLabelWithNumbers": true,
      "eqNumInitial": 1,
      "hotkeys": {
        "equation": "Ctrl-E",
        "itemize": "Ctrl-I"
      },
      "labels_anchors": false,
      "latex_user_defs": false,
      "report_style_numbering": false,
      "user_envs_cfg": false
    },
    "nbTranslate": {
      "displayLangs": [
        "*"
      ],
      "hotkey": "alt-t",
      "langInMainMenu": true,
      "sourceLang": "en",
      "targetLang": "fr",
      "useGoogleTranslate": true
    },
    "toc": {
      "base_numbering": 1,
      "nav_menu": {},
      "number_sections": true,
      "sideBar": true,
      "skip_h1_title": false,
      "title_cell": "Table of Contents",
      "title_sidebar": "Contents",
      "toc_cell": false,
      "toc_position": {},
      "toc_section_display": true,
      "toc_window_display": false
    }
  },
  "cells": [
    {
      "cell_type": "markdown",
      "metadata": {
        "id": "view-in-github",
        "colab_type": "text"
      },
      "source": [
        "<a href=\"https://colab.research.google.com/github/melvinte/DSPS_mtejada/blob/master/HW5/BuildingsEnergyOwners.ipynb\" target=\"_parent\"><img src=\"https://colab.research.google.com/assets/colab-badge.svg\" alt=\"Open In Colab\"/></a>"
      ]
    },
    {
      "cell_type": "code",
      "metadata": {
        "colab_type": "code",
        "id": "mwsn7ih7RWle",
        "outputId": "a039c6d5-1207-439a-8ef5-15a3abe5df65",
        "colab": {
          "base_uri": "https://localhost:8080/",
          "height": 122
        }
      },
      "source": [
        "# -- link google drive\n",
        "#from google.colab import drive\n",
        "#drive.mount(\"/content/drive\")\n",
        "#Note: this was commented out because at times i need to re run all my cells\n",
        "#and redoing this action was hurting the performance"
      ],
      "execution_count": 1,
      "outputs": [
        {
          "output_type": "stream",
          "text": [
            "Go to this URL in a browser: https://accounts.google.com/o/oauth2/auth?client_id=947318989803-6bn6qk8qdgf4n4g3pfee6491hc0brc4i.apps.googleusercontent.com&redirect_uri=urn%3Aietf%3Awg%3Aoauth%3A2.0%3Aoob&scope=email%20https%3A%2F%2Fwww.googleapis.com%2Fauth%2Fdocs.test%20https%3A%2F%2Fwww.googleapis.com%2Fauth%2Fdrive%20https%3A%2F%2Fwww.googleapis.com%2Fauth%2Fdrive.photos.readonly%20https%3A%2F%2Fwww.googleapis.com%2Fauth%2Fpeopleapi.readonly&response_type=code\n",
            "\n",
            "Enter your authorization code:\n",
            "··········\n",
            "Mounted at /content/drive\n"
          ],
          "name": "stdout"
        }
      ]
    },
    {
      "cell_type": "code",
      "metadata": {
        "ExecuteTime": {
          "end_time": "2019-09-24T21:52:47.068553Z",
          "start_time": "2019-09-24T21:52:47.065670Z"
        },
        "colab_type": "code",
        "id": "yav2dVuWJn_T",
        "colab": {}
      },
      "source": [
        "# -- useful imports\n",
        "import numpy as np\n",
        "import pandas as pd\n",
        "import matplotlib.pyplot as pl\n",
        "import scipy as sp\n",
        "from scipy import stats"
      ],
      "execution_count": 0,
      "outputs": []
    },
    {
      "cell_type": "markdown",
      "metadata": {
        "id": "rCnUCueiY5Xt",
        "colab_type": "text"
      },
      "source": [
        "# data retrival\n",
        "### LL84\n",
        "get the Local Law 84 (ll84) data from the URL: https://data.cityofnewyork.us/api/views/8u86-bviy/rows.csv and read it in with Pandas\n",
        "\n",
        "### Pluto\n",
        "Download the pluto csv data and store it in your google drive. \n",
        "\n",
        "You can find the data here \n",
        "https://www1.nyc.gov/site/planning/data-maps/open-data/dwn-pluto-mappluto.page\n",
        "\n",
        "IMPORTANT: store it in the path *drive/My Drive/dsps/ with the name pluto_18v2_1.csv*\n",
        "\n",
        "This path and name have to be exact. This way the grader and I will be able to run your notebook without changing anything as long as we also have stored the data in path drive/My Drive/dsps/pluto_18v2_1.csv. This is part of the _reproducibility_ requirement."
      ]
    },
    {
      "cell_type": "code",
      "metadata": {
        "id": "TTdg_HOYSj03",
        "colab_type": "code",
        "colab": {}
      },
      "source": [
        "data = pd.read_csv(\"https://data.cityofnewyork.us/api/views/8u86-bviy/rows.csv\")"
      ],
      "execution_count": 0,
      "outputs": []
    },
    {
      "cell_type": "code",
      "metadata": {
        "id": "uM57MPiNSqzR",
        "colab_type": "code",
        "colab": {
          "base_uri": "https://localhost:8080/",
          "height": 598
        },
        "outputId": "1f5bc87d-956b-4673-aa31-a4941e48b42f"
      },
      "source": [
        "data.head()"
      ],
      "execution_count": 4,
      "outputs": [
        {
          "output_type": "execute_result",
          "data": {
            "text/html": [
              "<div>\n",
              "<style scoped>\n",
              "    .dataframe tbody tr th:only-of-type {\n",
              "        vertical-align: middle;\n",
              "    }\n",
              "\n",
              "    .dataframe tbody tr th {\n",
              "        vertical-align: top;\n",
              "    }\n",
              "\n",
              "    .dataframe thead th {\n",
              "        text-align: right;\n",
              "    }\n",
              "</style>\n",
              "<table border=\"1\" class=\"dataframe\">\n",
              "  <thead>\n",
              "    <tr style=\"text-align: right;\">\n",
              "      <th></th>\n",
              "      <th>Order</th>\n",
              "      <th>Property Id</th>\n",
              "      <th>Property Name</th>\n",
              "      <th>Parent Property Id</th>\n",
              "      <th>Parent Property Name</th>\n",
              "      <th>BBL - 10 digits</th>\n",
              "      <th>NYC Borough, Block and Lot (BBL) self-reported</th>\n",
              "      <th>NYC Building Identification Number (BIN)</th>\n",
              "      <th>Address 1 (self-reported)</th>\n",
              "      <th>Address 2</th>\n",
              "      <th>Postal Code</th>\n",
              "      <th>Street Number</th>\n",
              "      <th>Street Name</th>\n",
              "      <th>Borough</th>\n",
              "      <th>DOF Gross Floor Area</th>\n",
              "      <th>Primary Property Type - Self Selected</th>\n",
              "      <th>List of All Property Use Types at Property</th>\n",
              "      <th>Largest Property Use Type</th>\n",
              "      <th>Largest Property Use Type - Gross Floor Area (ft²)</th>\n",
              "      <th>2nd Largest Property Use Type</th>\n",
              "      <th>2nd Largest Property Use - Gross Floor Area (ft²)</th>\n",
              "      <th>3rd Largest Property Use Type</th>\n",
              "      <th>3rd Largest Property Use Type - Gross Floor Area (ft²)</th>\n",
              "      <th>Year Built</th>\n",
              "      <th>Number of Buildings - Self-reported</th>\n",
              "      <th>Occupancy</th>\n",
              "      <th>Metered Areas (Energy)</th>\n",
              "      <th>Metered Areas  (Water)</th>\n",
              "      <th>ENERGY STAR Score</th>\n",
              "      <th>Site EUI (kBtu/ft²)</th>\n",
              "      <th>Weather Normalized Site EUI (kBtu/ft²)</th>\n",
              "      <th>Weather Normalized Site Electricity Intensity (kWh/ft²)</th>\n",
              "      <th>Weather Normalized Site Natural Gas Intensity (therms/ft²)</th>\n",
              "      <th>Weather Normalized Source EUI (kBtu/ft²)</th>\n",
              "      <th>Fuel Oil #1 Use (kBtu)</th>\n",
              "      <th>Fuel Oil #2 Use (kBtu)</th>\n",
              "      <th>Fuel Oil #4 Use (kBtu)</th>\n",
              "      <th>Fuel Oil #5 &amp; 6 Use (kBtu)</th>\n",
              "      <th>Diesel #2 Use (kBtu)</th>\n",
              "      <th>District Steam Use (kBtu)</th>\n",
              "      <th>Natural Gas Use (kBtu)</th>\n",
              "      <th>Weather Normalized Site Natural Gas Use (therms)</th>\n",
              "      <th>Electricity Use - Grid Purchase (kBtu)</th>\n",
              "      <th>Weather Normalized Site Electricity (kWh)</th>\n",
              "      <th>Total GHG Emissions (Metric Tons CO2e)</th>\n",
              "      <th>Direct GHG Emissions (Metric Tons CO2e)</th>\n",
              "      <th>Indirect GHG Emissions (Metric Tons CO2e)</th>\n",
              "      <th>Property GFA - Self-Reported (ft²)</th>\n",
              "      <th>Water Use (All Water Sources) (kgal)</th>\n",
              "      <th>Water Intensity (All Water Sources) (gal/ft²)</th>\n",
              "      <th>Source EUI (kBtu/ft²)</th>\n",
              "      <th>Release Date</th>\n",
              "      <th>Water Required?</th>\n",
              "      <th>DOF Benchmarking Submission Status</th>\n",
              "      <th>Latitude</th>\n",
              "      <th>Longitude</th>\n",
              "      <th>Community Board</th>\n",
              "      <th>Council District</th>\n",
              "      <th>Census Tract</th>\n",
              "      <th>NTA</th>\n",
              "    </tr>\n",
              "  </thead>\n",
              "  <tbody>\n",
              "    <tr>\n",
              "      <th>0</th>\n",
              "      <td>1</td>\n",
              "      <td>13286</td>\n",
              "      <td>201/205</td>\n",
              "      <td>13286</td>\n",
              "      <td>201/205</td>\n",
              "      <td>1.013160e+09</td>\n",
              "      <td>1013160001</td>\n",
              "      <td>1037549</td>\n",
              "      <td>201/205  East  42nd  st.</td>\n",
              "      <td>Not Available</td>\n",
              "      <td>10017</td>\n",
              "      <td>675.0</td>\n",
              "      <td>3 AVENUE</td>\n",
              "      <td>Manhattan</td>\n",
              "      <td>289356.0</td>\n",
              "      <td>Office</td>\n",
              "      <td>Office</td>\n",
              "      <td>Office</td>\n",
              "      <td>293447.0</td>\n",
              "      <td>Not Available</td>\n",
              "      <td>Not Available</td>\n",
              "      <td>Not Available</td>\n",
              "      <td>Not Available</td>\n",
              "      <td>1963</td>\n",
              "      <td>2</td>\n",
              "      <td>100</td>\n",
              "      <td>Whole Building</td>\n",
              "      <td>Not Available</td>\n",
              "      <td>Not Available</td>\n",
              "      <td>305.6</td>\n",
              "      <td>303.1</td>\n",
              "      <td>37.8</td>\n",
              "      <td>Not Available</td>\n",
              "      <td>614.2</td>\n",
              "      <td>Not Available</td>\n",
              "      <td>Not Available</td>\n",
              "      <td>Not Available</td>\n",
              "      <td>Not Available</td>\n",
              "      <td>Not Available</td>\n",
              "      <td>5.15506751E7</td>\n",
              "      <td>Not Available</td>\n",
              "      <td>Not Available</td>\n",
              "      <td>38139374.2</td>\n",
              "      <td>1.10827705E7</td>\n",
              "      <td>6962.2</td>\n",
              "      <td>0.0</td>\n",
              "      <td>6962.2</td>\n",
              "      <td>762051</td>\n",
              "      <td>Not Available</td>\n",
              "      <td>Not Available</td>\n",
              "      <td>619.4</td>\n",
              "      <td>05/01/2017 05:32:03 PM</td>\n",
              "      <td>No</td>\n",
              "      <td>In Compliance</td>\n",
              "      <td>40.750791</td>\n",
              "      <td>-73.973963</td>\n",
              "      <td>6.0</td>\n",
              "      <td>4.0</td>\n",
              "      <td>88.0</td>\n",
              "      <td>Turtle Bay-East Midtown                       ...</td>\n",
              "    </tr>\n",
              "    <tr>\n",
              "      <th>1</th>\n",
              "      <td>2</td>\n",
              "      <td>28400</td>\n",
              "      <td>NYP Columbia (West Campus)</td>\n",
              "      <td>28400</td>\n",
              "      <td>NYP Columbia (West Campus)</td>\n",
              "      <td>1.021380e+09</td>\n",
              "      <td>1-02138-0040</td>\n",
              "      <td>1084198; 1084387;1084385; 1084386; 1084388; 10...</td>\n",
              "      <td>622 168th Street</td>\n",
              "      <td>Not Available</td>\n",
              "      <td>10032</td>\n",
              "      <td>180.0</td>\n",
              "      <td>FT WASHINGTON AVENUE</td>\n",
              "      <td>Manhattan</td>\n",
              "      <td>3693539.0</td>\n",
              "      <td>Hospital (General Medical &amp; Surgical)</td>\n",
              "      <td>Hospital (General Medical &amp; Surgical)</td>\n",
              "      <td>Hospital (General Medical &amp; Surgical)</td>\n",
              "      <td>3889181.0</td>\n",
              "      <td>Not Available</td>\n",
              "      <td>Not Available</td>\n",
              "      <td>Not Available</td>\n",
              "      <td>Not Available</td>\n",
              "      <td>1969</td>\n",
              "      <td>12</td>\n",
              "      <td>100</td>\n",
              "      <td>Whole Building</td>\n",
              "      <td>Whole Building</td>\n",
              "      <td>55</td>\n",
              "      <td>229.8</td>\n",
              "      <td>228.8</td>\n",
              "      <td>24.8</td>\n",
              "      <td>2.4</td>\n",
              "      <td>401.1</td>\n",
              "      <td>Not Available</td>\n",
              "      <td>1.96248472E7</td>\n",
              "      <td>Not Available</td>\n",
              "      <td>Not Available</td>\n",
              "      <td>Not Available</td>\n",
              "      <td>-3.914148026E8</td>\n",
              "      <td>933073441</td>\n",
              "      <td>9330734.4</td>\n",
              "      <td>332365924.0</td>\n",
              "      <td>9.62613121E7</td>\n",
              "      <td>55870.4</td>\n",
              "      <td>51016.4</td>\n",
              "      <td>4854.1</td>\n",
              "      <td>3889181</td>\n",
              "      <td>Not Available</td>\n",
              "      <td>Not Available</td>\n",
              "      <td>404.3</td>\n",
              "      <td>04/27/2017 11:23:27 AM</td>\n",
              "      <td>No</td>\n",
              "      <td>In Compliance</td>\n",
              "      <td>40.841402</td>\n",
              "      <td>-73.942568</td>\n",
              "      <td>12.0</td>\n",
              "      <td>10.0</td>\n",
              "      <td>251.0</td>\n",
              "      <td>Washington Heights South                      ...</td>\n",
              "    </tr>\n",
              "    <tr>\n",
              "      <th>2</th>\n",
              "      <td>3</td>\n",
              "      <td>4778226</td>\n",
              "      <td>MSCHoNY North</td>\n",
              "      <td>28400</td>\n",
              "      <td>NYP Columbia (West Campus)</td>\n",
              "      <td>1.021380e+09</td>\n",
              "      <td>1-02138-0030</td>\n",
              "      <td>1063380</td>\n",
              "      <td>3975 Broadway</td>\n",
              "      <td>Not Available</td>\n",
              "      <td>10032</td>\n",
              "      <td>3975.0</td>\n",
              "      <td>BROADWAY</td>\n",
              "      <td>Manhattan</td>\n",
              "      <td>152765.0</td>\n",
              "      <td>Hospital (General Medical &amp; Surgical)</td>\n",
              "      <td>Hospital (General Medical &amp; Surgical)</td>\n",
              "      <td>Hospital (General Medical &amp; Surgical)</td>\n",
              "      <td>231342.0</td>\n",
              "      <td>Not Available</td>\n",
              "      <td>Not Available</td>\n",
              "      <td>Not Available</td>\n",
              "      <td>Not Available</td>\n",
              "      <td>1924</td>\n",
              "      <td>1</td>\n",
              "      <td>100</td>\n",
              "      <td>Not Available</td>\n",
              "      <td>Not Available</td>\n",
              "      <td>Not Available</td>\n",
              "      <td>NaN</td>\n",
              "      <td>Not Available</td>\n",
              "      <td>Not Available</td>\n",
              "      <td>Not Available</td>\n",
              "      <td>Not Available</td>\n",
              "      <td>Not Available</td>\n",
              "      <td>Not Available</td>\n",
              "      <td>Not Available</td>\n",
              "      <td>Not Available</td>\n",
              "      <td>Not Available</td>\n",
              "      <td>Not Available</td>\n",
              "      <td>Not Available</td>\n",
              "      <td>Not Available</td>\n",
              "      <td>NaN</td>\n",
              "      <td>Not Available</td>\n",
              "      <td>0.0</td>\n",
              "      <td>0.0</td>\n",
              "      <td>0.0</td>\n",
              "      <td>231342</td>\n",
              "      <td>Not Available</td>\n",
              "      <td>Not Available</td>\n",
              "      <td>NaN</td>\n",
              "      <td>04/27/2017 11:23:27 AM</td>\n",
              "      <td>No</td>\n",
              "      <td>In Compliance</td>\n",
              "      <td>40.840427</td>\n",
              "      <td>-73.940249</td>\n",
              "      <td>12.0</td>\n",
              "      <td>10.0</td>\n",
              "      <td>251.0</td>\n",
              "      <td>Washington Heights South                      ...</td>\n",
              "    </tr>\n",
              "    <tr>\n",
              "      <th>3</th>\n",
              "      <td>4</td>\n",
              "      <td>4778267</td>\n",
              "      <td>Herbert Irving Pavilion &amp; Millstein Hospital</td>\n",
              "      <td>28400</td>\n",
              "      <td>NYP Columbia (West Campus)</td>\n",
              "      <td>1.021390e+09</td>\n",
              "      <td>1-02139-0001</td>\n",
              "      <td>1087281; 1076746</td>\n",
              "      <td>161 Fort Washington Ave</td>\n",
              "      <td>177 Fort Washington Ave</td>\n",
              "      <td>10032</td>\n",
              "      <td>161.0</td>\n",
              "      <td>FT WASHINGTON AVENUE</td>\n",
              "      <td>Manhattan</td>\n",
              "      <td>891040.0</td>\n",
              "      <td>Hospital (General Medical &amp; Surgical)</td>\n",
              "      <td>Hospital (General Medical &amp; Surgical)</td>\n",
              "      <td>Hospital (General Medical &amp; Surgical)</td>\n",
              "      <td>1305748.0</td>\n",
              "      <td>Not Available</td>\n",
              "      <td>Not Available</td>\n",
              "      <td>Not Available</td>\n",
              "      <td>Not Available</td>\n",
              "      <td>1971</td>\n",
              "      <td>1</td>\n",
              "      <td>100</td>\n",
              "      <td>Not Available</td>\n",
              "      <td>Not Available</td>\n",
              "      <td>Not Available</td>\n",
              "      <td>NaN</td>\n",
              "      <td>Not Available</td>\n",
              "      <td>Not Available</td>\n",
              "      <td>Not Available</td>\n",
              "      <td>Not Available</td>\n",
              "      <td>Not Available</td>\n",
              "      <td>Not Available</td>\n",
              "      <td>Not Available</td>\n",
              "      <td>Not Available</td>\n",
              "      <td>Not Available</td>\n",
              "      <td>Not Available</td>\n",
              "      <td>Not Available</td>\n",
              "      <td>Not Available</td>\n",
              "      <td>NaN</td>\n",
              "      <td>Not Available</td>\n",
              "      <td>0.0</td>\n",
              "      <td>0.0</td>\n",
              "      <td>0.0</td>\n",
              "      <td>1305748</td>\n",
              "      <td>Not Available</td>\n",
              "      <td>Not Available</td>\n",
              "      <td>NaN</td>\n",
              "      <td>04/27/2017 11:23:27 AM</td>\n",
              "      <td>No</td>\n",
              "      <td>In Compliance</td>\n",
              "      <td>40.840746</td>\n",
              "      <td>-73.942854</td>\n",
              "      <td>12.0</td>\n",
              "      <td>10.0</td>\n",
              "      <td>255.0</td>\n",
              "      <td>Washington Heights South                      ...</td>\n",
              "    </tr>\n",
              "    <tr>\n",
              "      <th>4</th>\n",
              "      <td>5</td>\n",
              "      <td>4778288</td>\n",
              "      <td>Neuro Institute</td>\n",
              "      <td>28400</td>\n",
              "      <td>NYP Columbia (West Campus)</td>\n",
              "      <td>1.021390e+09</td>\n",
              "      <td>1-02139-0085</td>\n",
              "      <td>1063403</td>\n",
              "      <td>710 West 168th Street</td>\n",
              "      <td>Not Available</td>\n",
              "      <td>10032</td>\n",
              "      <td>193.0</td>\n",
              "      <td>FT WASHINGTON AVENUE</td>\n",
              "      <td>Manhattan</td>\n",
              "      <td>211400.0</td>\n",
              "      <td>Hospital (General Medical &amp; Surgical)</td>\n",
              "      <td>Hospital (General Medical &amp; Surgical)</td>\n",
              "      <td>Hospital (General Medical &amp; Surgical)</td>\n",
              "      <td>179694.0</td>\n",
              "      <td>Not Available</td>\n",
              "      <td>Not Available</td>\n",
              "      <td>Not Available</td>\n",
              "      <td>Not Available</td>\n",
              "      <td>1932</td>\n",
              "      <td>1</td>\n",
              "      <td>100</td>\n",
              "      <td>Not Available</td>\n",
              "      <td>Not Available</td>\n",
              "      <td>Not Available</td>\n",
              "      <td>NaN</td>\n",
              "      <td>Not Available</td>\n",
              "      <td>Not Available</td>\n",
              "      <td>Not Available</td>\n",
              "      <td>Not Available</td>\n",
              "      <td>Not Available</td>\n",
              "      <td>Not Available</td>\n",
              "      <td>Not Available</td>\n",
              "      <td>Not Available</td>\n",
              "      <td>Not Available</td>\n",
              "      <td>Not Available</td>\n",
              "      <td>Not Available</td>\n",
              "      <td>Not Available</td>\n",
              "      <td>NaN</td>\n",
              "      <td>Not Available</td>\n",
              "      <td>0.0</td>\n",
              "      <td>0.0</td>\n",
              "      <td>0.0</td>\n",
              "      <td>179694</td>\n",
              "      <td>Not Available</td>\n",
              "      <td>Not Available</td>\n",
              "      <td>NaN</td>\n",
              "      <td>04/27/2017 11:23:27 AM</td>\n",
              "      <td>No</td>\n",
              "      <td>In Compliance</td>\n",
              "      <td>40.841559</td>\n",
              "      <td>-73.942528</td>\n",
              "      <td>12.0</td>\n",
              "      <td>10.0</td>\n",
              "      <td>255.0</td>\n",
              "      <td>Washington Heights South                      ...</td>\n",
              "    </tr>\n",
              "  </tbody>\n",
              "</table>\n",
              "</div>"
            ],
            "text/plain": [
              "   Order  ...                                                NTA\n",
              "0      1  ...  Turtle Bay-East Midtown                       ...\n",
              "1      2  ...  Washington Heights South                      ...\n",
              "2      3  ...  Washington Heights South                      ...\n",
              "3      4  ...  Washington Heights South                      ...\n",
              "4      5  ...  Washington Heights South                      ...\n",
              "\n",
              "[5 rows x 60 columns]"
            ]
          },
          "metadata": {
            "tags": []
          },
          "execution_count": 4
        }
      ]
    },
    {
      "cell_type": "code",
      "metadata": {
        "id": "b4cIm2t7dWer",
        "colab_type": "code",
        "colab": {
          "base_uri": "https://localhost:8080/",
          "height": 34
        },
        "outputId": "0cf3a697-691b-4df6-eb2f-411c73c9058e"
      },
      "source": [
        "data.shape"
      ],
      "execution_count": 5,
      "outputs": [
        {
          "output_type": "execute_result",
          "data": {
            "text/plain": [
              "(11746, 60)"
            ]
          },
          "metadata": {
            "tags": []
          },
          "execution_count": 5
        }
      ]
    },
    {
      "cell_type": "code",
      "metadata": {
        "id": "VtkNYopZS0ol",
        "colab_type": "code",
        "colab": {
          "base_uri": "https://localhost:8080/",
          "height": 765
        },
        "outputId": "d6cb4f56-6b21-4fe4-ff6f-ab4c35aec556"
      },
      "source": [
        "ls \"drive/My Drive\""
      ],
      "execution_count": 6,
      "outputs": [
        {
          "output_type": "stream",
          "text": [
            " 20170512_154101.mp4\n",
            "'Agilent Notes.gdoc'\n",
            "'Amazon resume.gdoc'\n",
            "\u001b[0m\u001b[01;34m'AndroidStudioProjects copy'\u001b[0m/\n",
            "\u001b[01;34m'Colab Notebooks'\u001b[0m/\n",
            "'Community Proposal.gdoc'\n",
            "'Cover letter.gdoc'\n",
            " \u001b[01;34mdsps\u001b[0m/\n",
            " \u001b[01;34mDSPS_2019\u001b[0m/\n",
            "'Getting started.pdf'\n",
            "'homework 1.nb'\n",
            " IMG_7160.JPG\n",
            " IMG_7177.JPG\n",
            " IMG_7179.JPG\n",
            " IMG_7181.JPG\n",
            " IMG_7192.JPG\n",
            " IMG_7232.JPG\n",
            " IMG_7257.JPG\n",
            "'Lab1 .gdoc'\n",
            "'Lab 3 .gdoc'\n",
            "'Lab 4.gdoc'\n",
            "'lab 5.gdoc'\n",
            " Lab_6.zip\n",
            " Lab_7.zip\n",
            "'Last Lab.gdoc'\n",
            "\"Melvin's Journal — Converted from Classic Sites.gsite\"\n",
            "\"Melvin's Journal.gdoc\"\n",
            "'Melvin Tejada Amazon Resume.gdoc'\n",
            "'Melvin Tejada.docx'\n",
            " Metropolis_mc_ising.m\n",
            "'MUMO. Invite.png'\n",
            "'Native American Heritage Month.gdoc'\n",
            "\u001b[01;34m'Newsletter photos'\u001b[0m/\n",
            "'Phys 603 (1).pdf'\n",
            "'Phys 603.pdf'\n",
            "'pics (1).zip'\n",
            " pics.zip\n",
            " \u001b[01;34mProject_CISC275\u001b[0m/\n",
            "'RA mid year training.gslides'\n",
            "'RLTS Staff Numbers Anything else you want to share.gsheet'\n",
            "'Spacetime Physics - Introduction to Special Relativity [Taylor-Wheeler]PDF.pdf'\n",
            " \u001b[01;34mtest_dir\u001b[0m/\n",
            "'Things to bring to RAT camp.docx'\n",
            " TOPS_Schedule_20190701_v1.gsheet\n"
          ],
          "name": "stdout"
        }
      ]
    },
    {
      "cell_type": "code",
      "metadata": {
        "id": "0malVMwTUwa8",
        "colab_type": "code",
        "colab": {
          "base_uri": "https://localhost:8080/",
          "height": 51
        },
        "outputId": "305e51cf-22fc-4845-e848-a5ef1100c396"
      },
      "source": [
        "#mkdir \"drive/My Drive/dsps\"\n",
        "#Note: this was commented out because at times i need to re run all my cells\n",
        "#and redoing this action was hurting the performance"
      ],
      "execution_count": 86,
      "outputs": [
        {
          "output_type": "stream",
          "text": [
            "shell-init: error retrieving current directory: getcwd: cannot access parent directories: Transport endpoint is not connected\n",
            "mkdir: cannot create directory ‘drive/My Drive/dsps’: Transport endpoint is not connected\n"
          ],
          "name": "stdout"
        }
      ]
    },
    {
      "cell_type": "code",
      "metadata": {
        "id": "AbRBTQ6sS8cG",
        "colab_type": "code",
        "colab": {
          "base_uri": "https://localhost:8080/",
          "height": 204
        },
        "outputId": "35947039-d4b0-4d02-b6ed-a3a49d6e1d02"
      },
      "source": [
        "#!wget https://www1.nyc.gov/site/planning/data-maps/open-data/dwn-pluto-mappluto.page -P \"drive/My Drive/dsps\"\n",
        "#Note: this was commented out because at times i need to re run all my cells\n",
        "#and redoing this action was hurting the performance"
      ],
      "execution_count": 66,
      "outputs": [
        {
          "output_type": "stream",
          "text": [
            "--2019-09-26 23:38:06--  https://www1.nyc.gov/site/planning/data-maps/open-data/dwn-pluto-mappluto.page\n",
            "Resolving www1.nyc.gov (www1.nyc.gov)... 23.199.181.110, 2600:1402:3800:290::1500, 2600:1402:3800:29d::1500\n",
            "Connecting to www1.nyc.gov (www1.nyc.gov)|23.199.181.110|:443... connected.\n",
            "HTTP request sent, awaiting response... 200 OK\n",
            "Length: 23968 (23K) [text/html]\n",
            "Saving to: ‘drive/My Drive/dsps/dwn-pluto-mappluto.page’\n",
            "\n",
            "\rdwn-pluto-mappluto.   0%[                    ]       0  --.-KB/s               \rdwn-pluto-mappluto. 100%[===================>]  23.41K  --.-KB/s    in 0.001s  \n",
            "\n",
            "2019-09-26 23:38:07 (29.4 MB/s) - ‘drive/My Drive/dsps/dwn-pluto-mappluto.page’ saved [23968/23968]\n",
            "\n"
          ],
          "name": "stdout"
        }
      ]
    },
    {
      "cell_type": "code",
      "metadata": {
        "id": "F9tp5rVcTMcD",
        "colab_type": "code",
        "colab": {
          "base_uri": "https://localhost:8080/",
          "height": 34
        },
        "outputId": "0580adc6-3ed4-4b61-fded-4887ccfce7d2"
      },
      "source": [
        "ls \"drive/My Drive/dsps\""
      ],
      "execution_count": 7,
      "outputs": [
        {
          "output_type": "stream",
          "text": [
            "\u001b[0m\u001b[01;34mdrive\u001b[0m/  pluto_18v2_1.csv\n"
          ],
          "name": "stdout"
        }
      ]
    },
    {
      "cell_type": "code",
      "metadata": {
        "id": "u3axqpZcYyTQ",
        "colab_type": "code",
        "colab": {
          "base_uri": "https://localhost:8080/",
          "height": 34
        },
        "outputId": "8c8be361-7dfe-4166-ae20-768a6a3a5d73"
      },
      "source": [
        "cd \"drive/My Drive/dsps\""
      ],
      "execution_count": 8,
      "outputs": [
        {
          "output_type": "stream",
          "text": [
            "/content/drive/My Drive/dsps\n"
          ],
          "name": "stdout"
        }
      ]
    },
    {
      "cell_type": "code",
      "metadata": {
        "id": "EqRvcbaVY18h",
        "colab_type": "code",
        "colab": {
          "base_uri": "https://localhost:8080/",
          "height": 34
        },
        "outputId": "9ac25107-1da5-431c-f4bf-7bbd918a8042"
      },
      "source": [
        "ls"
      ],
      "execution_count": 9,
      "outputs": [
        {
          "output_type": "stream",
          "text": [
            "\u001b[0m\u001b[01;34mdrive\u001b[0m/  pluto_18v2_1.csv\n"
          ],
          "name": "stdout"
        }
      ]
    },
    {
      "cell_type": "code",
      "metadata": {
        "id": "GbojsLmSY380",
        "colab_type": "code",
        "colab": {}
      },
      "source": [
        "#mv \"dwn-pluto-mappluto.page\" \"pluto_18v2_1.csv\" \n",
        "#Note: this was commented out because at times i need to re run all my cells\n",
        "#and redoing this action was hurting the performance"
      ],
      "execution_count": 0,
      "outputs": []
    },
    {
      "cell_type": "code",
      "metadata": {
        "id": "dyW0mjmHZOzA",
        "colab_type": "code",
        "colab": {
          "base_uri": "https://localhost:8080/",
          "height": 34
        },
        "outputId": "b16e131e-c1b6-44ec-9cf3-93bdab4f1b08"
      },
      "source": [
        "ls"
      ],
      "execution_count": 10,
      "outputs": [
        {
          "output_type": "stream",
          "text": [
            "\u001b[0m\u001b[01;34mdrive\u001b[0m/  pluto_18v2_1.csv\n"
          ],
          "name": "stdout"
        }
      ]
    },
    {
      "cell_type": "markdown",
      "metadata": {
        "id": "Jns_yfQ2Y5Xz",
        "colab_type": "text"
      },
      "source": [
        "# data fusion\n",
        "\n",
        "### select data\n",
        "select the data for buildings _in the borough of Manhattan_ only from the pluto file (you can do it broadcasting!)\n",
        "\n",
        "### merge\n",
        "merge the pluto and ll84 dataframes. you will have to choose an appropriate column that both datasets share fo do so. The column may not have the same nbame, but should have the same _variable_."
      ]
    },
    {
      "cell_type": "code",
      "metadata": {
        "id": "q8VRKKu2bqLH",
        "colab_type": "code",
        "colab": {}
      },
      "source": [
        "goodData = data[data['Borough'] == 'Manhattan']"
      ],
      "execution_count": 0,
      "outputs": []
    },
    {
      "cell_type": "code",
      "metadata": {
        "id": "ApZvGUHPb-0d",
        "colab_type": "code",
        "colab": {
          "base_uri": "https://localhost:8080/",
          "height": 34
        },
        "outputId": "672ff6e8-f581-46a5-e38d-6327dcd747b6"
      },
      "source": [
        "goodData.shape"
      ],
      "execution_count": 73,
      "outputs": [
        {
          "output_type": "execute_result",
          "data": {
            "text/plain": [
              "(5176, 60)"
            ]
          },
          "metadata": {
            "tags": []
          },
          "execution_count": 73
        }
      ]
    },
    {
      "cell_type": "code",
      "metadata": {
        "id": "ymeuY0sE6eGX",
        "colab_type": "code",
        "colab": {
          "base_uri": "https://localhost:8080/",
          "height": 130
        },
        "outputId": "16ba44d1-3048-4f39-8702-e91b73504a35"
      },
      "source": [
        "cd \"drive/My Drive/dsps\"\n",
        "#pluto_data = pd.read_csv(\"drive/My Drive/dsps/pluto_18v2_1.csv\")"
      ],
      "execution_count": 76,
      "outputs": [
        {
          "output_type": "error",
          "ename": "SyntaxError",
          "evalue": "ignored",
          "traceback": [
            "\u001b[0;36m  File \u001b[0;32m\"<ipython-input-76-fb5ff0481fc5>\"\u001b[0;36m, line \u001b[0;32m1\u001b[0m\n\u001b[0;31m    cd \"drive/My Drive/dsps\"\u001b[0m\n\u001b[0m                           ^\u001b[0m\n\u001b[0;31mSyntaxError\u001b[0m\u001b[0;31m:\u001b[0m invalid syntax\n"
          ]
        }
      ]
    },
    {
      "cell_type": "markdown",
      "metadata": {
        "id": "eExs_TXwlQkT",
        "colab_type": "text"
      },
      "source": [
        "# data exploration and cleaning\n",
        "\n",
        "### extact columns\n",
        "extract the columns listed in the file \"columns.txt\" from the dataset.\n",
        "\n",
        "convert the resulting dataset to numerical, converting non-numerical values to NaN. drop rows that contain invalid values and save the resulting dataframe (_reducted_ dataframe)"
      ]
    },
    {
      "cell_type": "markdown",
      "metadata": {
        "id": "C5-nB1RdY5X5",
        "colab_type": "text"
      },
      "source": [
        "### Assess impact of data wrangling\n",
        "Describe the  datasets resulting from this data cleaning: \n",
        "\n",
        "- how many observations have you lost? \n",
        "\n",
        "- did any of the features (=columns) have inconsistent distribution between the full and reducted dataset? \n",
        "\n",
        "You can approach this question in a number of ways, and you have done this in the  homewors already (with a KS test, and by just looking at uncertainties are two examples of ways to do ut that you worked out in HW3 and HW4, the Z test might work if you can convince yourself that the full sample is the \"population\" - up to you! a quick google search would probably describe many more ways). Choose _2_ ways, describe what each does and why it is appropriate. Compare the results (indeed I did it in 4 ways and did not always get consistent results! each of these meathods measures a slightly different thing).\n",
        "\n"
      ]
    },
    {
      "cell_type": "code",
      "metadata": {
        "ExecuteTime": {
          "end_time": "2019-09-25T02:24:30.299322Z",
          "start_time": "2019-09-25T02:24:30.184734Z"
        },
        "id": "_cZwH0d4Y5X_",
        "colab_type": "code",
        "outputId": "8f9ed8ed-f4a4-4f77-f2c2-11188dd1601b",
        "colab": {
          "base_uri": "https://localhost:8080/",
          "height": 402
        }
      },
      "source": [
        "ll84pl[goodcols].describe()"
      ],
      "execution_count": 0,
      "outputs": [
        {
          "output_type": "execute_result",
          "data": {
            "text/html": [
              "<div>\n",
              "<style scoped>\n",
              "    .dataframe tbody tr th:only-of-type {\n",
              "        vertical-align: middle;\n",
              "    }\n",
              "\n",
              "    .dataframe tbody tr th {\n",
              "        vertical-align: top;\n",
              "    }\n",
              "\n",
              "    .dataframe thead th {\n",
              "        text-align: right;\n",
              "    }\n",
              "</style>\n",
              "<table border=\"1\" class=\"dataframe\">\n",
              "  <thead>\n",
              "    <tr style=\"text-align: right;\">\n",
              "      <th></th>\n",
              "      <th>Year Built</th>\n",
              "      <th>Number of Buildings - Self-reported</th>\n",
              "      <th>Occupancy</th>\n",
              "      <th>ENERGY STAR Score</th>\n",
              "      <th>Site EUI (kBtu/ft²)</th>\n",
              "      <th>Weather Normalized Site EUI (kBtu/ft²)</th>\n",
              "      <th>Weather Normalized Site Electricity Intensity (kWh/ft²)</th>\n",
              "      <th>Weather Normalized Site Natural Gas Intensity (therms/ft²)</th>\n",
              "      <th>Weather Normalized Source EUI (kBtu/ft²)</th>\n",
              "      <th>Electricity Use - Grid Purchase (kBtu)</th>\n",
              "      <th>Total GHG Emissions (Metric Tons CO2e)</th>\n",
              "      <th>Property GFA - Self-Reported (ft²)</th>\n",
              "      <th>Water Use (All Water Sources) (kgal)</th>\n",
              "      <th>Water Intensity (All Water Sources) (gal/ft²)</th>\n",
              "      <th>Source EUI (kBtu/ft²)</th>\n",
              "      <th>bldgarea</th>\n",
              "      <th>numbldgs</th>\n",
              "      <th>numfloors</th>\n",
              "      <th>unitsres</th>\n",
              "      <th>unitstotal</th>\n",
              "      <th>yearalter1</th>\n",
              "    </tr>\n",
              "  </thead>\n",
              "  <tbody>\n",
              "    <tr>\n",
              "      <th>count</th>\n",
              "      <td>5176.000000</td>\n",
              "      <td>5176.000000</td>\n",
              "      <td>5176.000000</td>\n",
              "      <td>4057.000000</td>\n",
              "      <td>5122.000000</td>\n",
              "      <td>4619.000000</td>\n",
              "      <td>4899.000000</td>\n",
              "      <td>4070.000000</td>\n",
              "      <td>4619.000000</td>\n",
              "      <td>5.101000e+03</td>\n",
              "      <td>5.160000e+03</td>\n",
              "      <td>5.176000e+03</td>\n",
              "      <td>3.388000e+03</td>\n",
              "      <td>3388.000000</td>\n",
              "      <td>5122.000000</td>\n",
              "      <td>4.290000e+04</td>\n",
              "      <td>42844.000000</td>\n",
              "      <td>42844.000000</td>\n",
              "      <td>42898.000000</td>\n",
              "      <td>42898.000000</td>\n",
              "      <td>42898.000000</td>\n",
              "    </tr>\n",
              "    <tr>\n",
              "      <th>mean</th>\n",
              "      <td>1943.956723</td>\n",
              "      <td>1.056221</td>\n",
              "      <td>98.469861</td>\n",
              "      <td>58.689426</td>\n",
              "      <td>252.626045</td>\n",
              "      <td>266.941373</td>\n",
              "      <td>10.414227</td>\n",
              "      <td>0.411818</td>\n",
              "      <td>381.910067</td>\n",
              "      <td>8.584119e+06</td>\n",
              "      <td>4.704265e+03</td>\n",
              "      <td>2.088364e+05</td>\n",
              "      <td>1.481517e+04</td>\n",
              "      <td>94.268548</td>\n",
              "      <td>364.565502</td>\n",
              "      <td>4.301289e+04</td>\n",
              "      <td>1.113762</td>\n",
              "      <td>5.872763</td>\n",
              "      <td>22.280876</td>\n",
              "      <td>25.351858</td>\n",
              "      <td>1055.207096</td>\n",
              "    </tr>\n",
              "    <tr>\n",
              "      <th>std</th>\n",
              "      <td>33.123462</td>\n",
              "      <td>0.773553</td>\n",
              "      <td>8.486776</td>\n",
              "      <td>30.809480</td>\n",
              "      <td>3124.750511</td>\n",
              "      <td>3277.960226</td>\n",
              "      <td>58.764605</td>\n",
              "      <td>2.624555</td>\n",
              "      <td>3987.815401</td>\n",
              "      <td>2.498918e+07</td>\n",
              "      <td>8.912783e+04</td>\n",
              "      <td>3.109891e+05</td>\n",
              "      <td>1.483005e+05</td>\n",
              "      <td>1126.541657</td>\n",
              "      <td>3802.615408</td>\n",
              "      <td>1.664784e+05</td>\n",
              "      <td>1.383727</td>\n",
              "      <td>6.189731</td>\n",
              "      <td>92.373077</td>\n",
              "      <td>95.386177</td>\n",
              "      <td>993.277780</td>\n",
              "    </tr>\n",
              "    <tr>\n",
              "      <th>min</th>\n",
              "      <td>1600.000000</td>\n",
              "      <td>0.000000</td>\n",
              "      <td>0.000000</td>\n",
              "      <td>1.000000</td>\n",
              "      <td>0.000000</td>\n",
              "      <td>0.000000</td>\n",
              "      <td>0.000000</td>\n",
              "      <td>0.000000</td>\n",
              "      <td>0.000000</td>\n",
              "      <td>0.000000e+00</td>\n",
              "      <td>0.000000e+00</td>\n",
              "      <td>0.000000e+00</td>\n",
              "      <td>0.000000e+00</td>\n",
              "      <td>0.000000</td>\n",
              "      <td>0.000000</td>\n",
              "      <td>0.000000e+00</td>\n",
              "      <td>0.000000</td>\n",
              "      <td>0.000000</td>\n",
              "      <td>0.000000</td>\n",
              "      <td>0.000000</td>\n",
              "      <td>0.000000</td>\n",
              "    </tr>\n",
              "    <tr>\n",
              "      <th>25%</th>\n",
              "      <td>1920.000000</td>\n",
              "      <td>1.000000</td>\n",
              "      <td>100.000000</td>\n",
              "      <td>33.000000</td>\n",
              "      <td>61.900000</td>\n",
              "      <td>64.800000</td>\n",
              "      <td>4.800000</td>\n",
              "      <td>0.000000</td>\n",
              "      <td>110.750000</td>\n",
              "      <td>1.540483e+06</td>\n",
              "      <td>4.000250e+02</td>\n",
              "      <td>7.230700e+04</td>\n",
              "      <td>2.375100e+03</td>\n",
              "      <td>22.580000</td>\n",
              "      <td>106.800000</td>\n",
              "      <td>4.390000e+03</td>\n",
              "      <td>1.000000</td>\n",
              "      <td>3.000000</td>\n",
              "      <td>1.000000</td>\n",
              "      <td>2.000000</td>\n",
              "      <td>0.000000</td>\n",
              "    </tr>\n",
              "    <tr>\n",
              "      <th>50%</th>\n",
              "      <td>1930.000000</td>\n",
              "      <td>1.000000</td>\n",
              "      <td>100.000000</td>\n",
              "      <td>66.000000</td>\n",
              "      <td>77.200000</td>\n",
              "      <td>80.800000</td>\n",
              "      <td>7.300000</td>\n",
              "      <td>0.300000</td>\n",
              "      <td>143.100000</td>\n",
              "      <td>3.180848e+06</td>\n",
              "      <td>6.545500e+02</td>\n",
              "      <td>1.150115e+05</td>\n",
              "      <td>4.327050e+03</td>\n",
              "      <td>35.925000</td>\n",
              "      <td>139.300000</td>\n",
              "      <td>8.875000e+03</td>\n",
              "      <td>1.000000</td>\n",
              "      <td>5.000000</td>\n",
              "      <td>6.000000</td>\n",
              "      <td>8.000000</td>\n",
              "      <td>1968.000000</td>\n",
              "    </tr>\n",
              "    <tr>\n",
              "      <th>75%</th>\n",
              "      <td>1967.000000</td>\n",
              "      <td>1.000000</td>\n",
              "      <td>100.000000</td>\n",
              "      <td>85.000000</td>\n",
              "      <td>98.400000</td>\n",
              "      <td>102.000000</td>\n",
              "      <td>12.400000</td>\n",
              "      <td>0.600000</td>\n",
              "      <td>188.100000</td>\n",
              "      <td>7.265680e+06</td>\n",
              "      <td>1.292225e+03</td>\n",
              "      <td>2.136252e+05</td>\n",
              "      <td>8.308225e+03</td>\n",
              "      <td>53.855000</td>\n",
              "      <td>184.975000</td>\n",
              "      <td>2.321050e+04</td>\n",
              "      <td>1.000000</td>\n",
              "      <td>6.000000</td>\n",
              "      <td>18.000000</td>\n",
              "      <td>20.000000</td>\n",
              "      <td>1988.000000</td>\n",
              "    </tr>\n",
              "    <tr>\n",
              "      <th>max</th>\n",
              "      <td>2016.000000</td>\n",
              "      <td>35.000000</td>\n",
              "      <td>100.000000</td>\n",
              "      <td>100.000000</td>\n",
              "      <td>126307.400000</td>\n",
              "      <td>126307.400000</td>\n",
              "      <td>4074.900000</td>\n",
              "      <td>131.000000</td>\n",
              "      <td>152001.300000</td>\n",
              "      <td>1.037256e+09</td>\n",
              "      <td>4.764456e+06</td>\n",
              "      <td>8.942176e+06</td>\n",
              "      <td>6.376003e+06</td>\n",
              "      <td>57699.300000</td>\n",
              "      <td>152001.300000</td>\n",
              "      <td>1.343508e+07</td>\n",
              "      <td>159.000000</td>\n",
              "      <td>104.000000</td>\n",
              "      <td>8764.000000</td>\n",
              "      <td>8812.000000</td>\n",
              "      <td>2018.000000</td>\n",
              "    </tr>\n",
              "  </tbody>\n",
              "</table>\n",
              "</div>"
            ],
            "text/plain": [
              "        Year Built  ...    yearalter1\n",
              "count  5176.000000  ...  42898.000000\n",
              "mean   1943.956723  ...   1055.207096\n",
              "std      33.123462  ...    993.277780\n",
              "min    1600.000000  ...      0.000000\n",
              "25%    1920.000000  ...      0.000000\n",
              "50%    1930.000000  ...   1968.000000\n",
              "75%    1967.000000  ...   1988.000000\n",
              "max    2016.000000  ...   2018.000000\n",
              "\n",
              "[8 rows x 21 columns]"
            ]
          },
          "metadata": {
            "tags": []
          },
          "execution_count": 99
        }
      ]
    },
    {
      "cell_type": "code",
      "metadata": {
        "id": "6J1q5XnwvtJC",
        "colab_type": "code",
        "outputId": "662719ef-43b2-4626-e6da-ee3e817d4b99",
        "colab": {
          "base_uri": "https://localhost:8080/",
          "height": 34
        }
      },
      "source": [
        "print(\"lost buildings: ... (...\\%) \")"
      ],
      "execution_count": 0,
      "outputs": [
        {
          "output_type": "stream",
          "text": [
            "lost buildings: ... (...\\%) \n"
          ],
          "name": "stdout"
        }
      ]
    },
    {
      "cell_type": "markdown",
      "metadata": {
        "id": "OBPiLSfnY5YE",
        "colab_type": "text"
      },
      "source": [
        "### plot WNEC\n",
        "Regardless of what you found above, plot the distribution of the _log base 10_ of the weather-normalized site energy consumption (WNEC) for all values larger than 0.1 (such that log10(min) is -1) for the _entire dataset_ and for the _reducted one_: do you think inference on this feature would be affected by this way of dealing with missing data affects the result?\n",
        "\n"
      ]
    },
    {
      "cell_type": "code",
      "metadata": {
        "ExecuteTime": {
          "end_time": "2019-09-25T02:33:55.288516Z",
          "start_time": "2019-09-25T02:33:55.263386Z"
        },
        "id": "hepCz2zGY5YG",
        "colab_type": "code",
        "outputId": "433a7754-e1e6-4a91-e4a6-688d4e534b4c",
        "colab": {
          "base_uri": "https://localhost:8080/",
          "height": 337
        }
      },
      "source": [
        ""
      ],
      "execution_count": 0,
      "outputs": [
        {
          "output_type": "stream",
          "text": [
            "/usr/local/lib/python3.6/dist-packages/ipykernel_launcher.py:1: RuntimeWarning: divide by zero encountered in log10\n",
            "  \"\"\"Entry point for launching an IPython kernel.\n"
          ],
          "name": "stderr"
        },
        {
          "output_type": "display_data",
          "data": {
            "image/png": "[encoded data removed]",
            "text/plain": [
              "<Figure size 432x288 with 1 Axes>"
            ]
          },
          "metadata": {
            "tags": []
          }
        }
      ]
    },
    {
      "cell_type": "markdown",
      "metadata": {
        "ExecuteTime": {
          "end_time": "2019-09-25T02:08:23.211182Z",
          "start_time": "2019-09-25T02:08:23.205135Z"
        },
        "id": "WIANEJHKY5YI",
        "colab_type": "text"
      },
      "source": [
        "# 667 and extyra credit\n",
        "plot a \"scatter matrix\" of the selected columns. Identify 4 promising \"scaling laws\" and plot them separately (a scatter plot of column1 vs column2). Does it make sense that there should be a scaling law between the 2 variables? \n",
        "\n",
        "which features should be strongly correlated or identical but are not? discuss\n",
        "\n",
        "([this](https://stackoverflow.com/questions/26975089/making-the-labels-of-the-scatterplot-vertical-and-horizontal-in-pandas) stackoverflow may come in handy)"
      ]
    },
    {
      "cell_type": "markdown",
      "metadata": {
        "id": "1fI3IMcNY5YM",
        "colab_type": "text"
      },
      "source": [
        "## all students\n",
        "At last, from the original dataset remove only the columns that are NaN in the column \"Weather Normalized Site EUI (kBtu/ft²)\"\n"
      ]
    },
    {
      "cell_type": "code",
      "metadata": {
        "ExecuteTime": {
          "end_time": "2019-09-25T02:40:28.827861Z",
          "start_time": "2019-09-25T02:38:20.245957Z"
        },
        "id": "LWaJVQG0Y5YN",
        "colab_type": "code",
        "outputId": "4feb7662-b886-47ba-cf26-9b3684c44b90",
        "colab": {
          "base_uri": "https://localhost:8080/",
          "height": 34
        }
      },
      "source": [
        "# -- drop buildings for which WN Site EUI is NaN\n",
        "wnec = \"Weather Normalized Site EUI (kBtu/ft²)\"\n",
        "...\n",
        "ll84pl.shape"
      ],
      "execution_count": 0,
      "outputs": [
        {
          "output_type": "execute_result",
          "data": {
            "text/plain": [
              "(4619, 156)"
            ]
          },
          "metadata": {
            "tags": []
          },
          "execution_count": 131
        }
      ]
    },
    {
      "cell_type": "markdown",
      "metadata": {
        "id": "vMDOfS6nY5YQ",
        "colab_type": "text"
      },
      "source": [
        "## Analysis: Owner investigation \n",
        "### Find owner of the single most energy consuming building\n",
        "\n",
        "**Find owner of the single most energy consuming building**, as measured by the \"Site Weather Normalized EUI per unit area \". \n",
        "\n",
        "**Find all the buildings that they own.**\n",
        "\n",
        "\n",
        "show the weather-normalized site energy consumption and the owner name for the top 30 consuming buildings in Manhattan"
      ]
    },
    {
      "cell_type": "code",
      "metadata": {
        "id": "l3dF3RQowmJ4",
        "colab_type": "code",
        "outputId": "b6695264-4ec1-46ce-864d-ed7602fe7915",
        "colab": {
          "base_uri": "https://localhost:8080/",
          "height": 34
        }
      },
      "source": [
        "print(\"Owner of the hisghest consuming building:...\", \n",
        "      \"They own ... buildings\")"
      ],
      "execution_count": 0,
      "outputs": [
        {
          "output_type": "stream",
          "text": [
            "Owner of the hisghest consuming building:... They own ... buildings\n"
          ],
          "name": "stdout"
        }
      ]
    },
    {
      "cell_type": "markdown",
      "metadata": {
        "ExecuteTime": {
          "end_time": "2019-09-24T18:40:17.239813Z",
          "start_time": "2019-09-24T18:40:17.235991Z"
        },
        "id": "0m4jRavdY5Yh",
        "colab_type": "text"
      },
      "source": [
        "### Find average building consumption by owner \n",
        "For all owners that own more than one building, find the average consumption for buildings owned by the same owner. Your dataframe should have 2 columns called _Weather Normalized Site EUI (kBtu/ft²)_\tand _counts_\n",
        "\n",
        "**Who owns the most energy consuming buildings on average?**\n",
        "\n",
        "**Who owns the most buildings**"
      ]
    },
    {
      "cell_type": "markdown",
      "metadata": {
        "id": "Y9amLZSHxC26",
        "colab_type": "text"
      },
      "source": [
        "# 667 and EC\n",
        "\n",
        "Universities are big realtors in NYC. The may own by different names. Find all builgings owned by NYU and COLUMBIA. replace the ownename with NYU and COLUMBIA respectively and re-aggregate the data based on these names and again find the owner of the buildings that pon average consume the most, of the highest number of buildings, and that owns the most sq footage "
      ]
    },
    {
      "cell_type": "code",
      "metadata": {
        "id": "vhpxcsYKC0B3",
        "colab_type": "code",
        "colab": {}
      },
      "source": [
        ""
      ],
      "execution_count": 0,
      "outputs": []
    }
  ]
}