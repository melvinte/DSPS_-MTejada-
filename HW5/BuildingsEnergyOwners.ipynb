{
  "nbformat": 4,
  "nbformat_minor": 0,
  "metadata": {
    "colab": {
      "name": "HW5/BuildingsEnergyOwners.ipynb",
      "provenance": [],
      "collapsed_sections": [],
      "include_colab_link": true
    },
    "kernelspec": {
      "display_name": "Python 3",
      "language": "python",
      "name": "python3"
    },
    "language_info": {
      "codemirror_mode": {
        "name": "ipython",
        "version": 3
      },
      "file_extension": ".py",
      "mimetype": "text/x-python",
      "name": "python",
      "nbconvert_exporter": "python",
      "pygments_lexer": "ipython3",
      "version": "3.7.3"
    },
    "latex_envs": {
      "LaTeX_envs_menu_present": true,
      "autoclose": false,
      "autocomplete": true,
      "bibliofile": "biblio.bib",
      "cite_by": "apalike",
      "current_citInitial": 1,
      "eqLabelWithNumbers": true,
      "eqNumInitial": 1,
      "hotkeys": {
        "equation": "Ctrl-E",
        "itemize": "Ctrl-I"
      },
      "labels_anchors": false,
      "latex_user_defs": false,
      "report_style_numbering": false,
      "user_envs_cfg": false
    },
    "nbTranslate": {
      "displayLangs": [
        "*"
      ],
      "hotkey": "alt-t",
      "langInMainMenu": true,
      "sourceLang": "en",
      "targetLang": "fr",
      "useGoogleTranslate": true
    },
    "toc": {
      "base_numbering": 1,
      "nav_menu": {},
      "number_sections": true,
      "sideBar": true,
      "skip_h1_title": false,
      "title_cell": "Table of Contents",
      "title_sidebar": "Contents",
      "toc_cell": false,
      "toc_position": {},
      "toc_section_display": true,
      "toc_window_display": false
    }
  },
  "cells": [
    {
      "cell_type": "markdown",
      "metadata": {
        "id": "view-in-github",
        "colab_type": "text"
      },
      "source": [
        "<a href=\"https://colab.research.google.com/github/melvinte/DSPS_mtejada/blob/master/HW5/BuildingsEnergyOwners.ipynb\" target=\"_parent\"><img src=\"https://colab.research.google.com/assets/colab-badge.svg\" alt=\"Open In Colab\"/></a>"
      ]
    },
    {
      "cell_type": "code",
      "metadata": {
        "colab_type": "code",
        "id": "mwsn7ih7RWle",
        "outputId": "90dc097b-9928-4c71-a286-1cd118f71b5d",
        "colab": {
          "base_uri": "https://localhost:8080/",
          "height": 122
        }
      },
      "source": [
        "# -- link google drive\n",
        "from google.colab import drive\n",
        "drive.mount(\"/content/drive\")"
      ],
      "execution_count": 1,
      "outputs": [
        {
          "output_type": "stream",
          "text": [
            "Go to this URL in a browser: https://accounts.google.com/o/oauth2/auth?client_id=947318989803-6bn6qk8qdgf4n4g3pfee6491hc0brc4i.apps.googleusercontent.com&redirect_uri=urn%3Aietf%3Awg%3Aoauth%3A2.0%3Aoob&scope=email%20https%3A%2F%2Fwww.googleapis.com%2Fauth%2Fdocs.test%20https%3A%2F%2Fwww.googleapis.com%2Fauth%2Fdrive%20https%3A%2F%2Fwww.googleapis.com%2Fauth%2Fdrive.photos.readonly%20https%3A%2F%2Fwww.googleapis.com%2Fauth%2Fpeopleapi.readonly&response_type=code\n",
            "\n",
            "Enter your authorization code:\n",
            "··········\n",
            "Mounted at /content/drive\n"
          ],
          "name": "stdout"
        }
      ]
    },
    {
      "cell_type": "code",
      "metadata": {
        "ExecuteTime": {
          "end_time": "2019-09-24T21:52:47.068553Z",
          "start_time": "2019-09-24T21:52:47.065670Z"
        },
        "colab_type": "code",
        "id": "yav2dVuWJn_T",
        "colab": {}
      },
      "source": [
        "# -- useful imports\n",
        "import numpy as np\n",
        "import pandas as pd\n",
        "import matplotlib.pyplot as pl\n",
        "import scipy as sp\n",
        "from scipy import stats"
      ],
      "execution_count": 0,
      "outputs": []
    },
    {
      "cell_type": "markdown",
      "metadata": {
        "id": "rCnUCueiY5Xt",
        "colab_type": "text"
      },
      "source": [
        "# data retrival\n",
        "### LL84\n",
        "get the Local Law 84 (ll84) data from the URL: https://data.cityofnewyork.us/api/views/8u86-bviy/rows.csv and read it in with Pandas\n",
        "\n",
        "### Pluto\n",
        "Download the pluto csv data and store it in your google drive. \n",
        "\n",
        "You can find the data here \n",
        "https://www1.nyc.gov/site/planning/data-maps/open-data/dwn-pluto-mappluto.page\n",
        "\n",
        "IMPORTANT: store it in the path *drive/My Drive/dsps/ with the name pluto_18v2_1.csv*\n",
        "\n",
        "This path and name have to be exact. This way the grader and I will be able to run your notebook without changing anything as long as we also have stored the data in path drive/My Drive/dsps/pluto_18v2_1.csv. This is part of the _reproducibility_ requirement."
      ]
    },
    {
      "cell_type": "code",
      "metadata": {
        "id": "TTdg_HOYSj03",
        "colab_type": "code",
        "colab": {}
      },
      "source": [
        "data = pd.read_csv(\"https://data.cityofnewyork.us/api/views/8u86-bviy/rows.csv\")"
      ],
      "execution_count": 0,
      "outputs": []
    },
    {
      "cell_type": "code",
      "metadata": {
        "id": "uM57MPiNSqzR",
        "colab_type": "code",
        "colab": {}
      },
      "source": [
        "data.head()"
      ],
      "execution_count": 0,
      "outputs": []
    },
    {
      "cell_type": "code",
      "metadata": {
        "id": "VtkNYopZS0ol",
        "colab_type": "code",
        "colab": {}
      },
      "source": [
        "ls \"drive/My Drive\""
      ],
      "execution_count": 0,
      "outputs": []
    },
    {
      "cell_type": "code",
      "metadata": {
        "id": "AbRBTQ6sS8cG",
        "colab_type": "code",
        "colab": {
          "base_uri": "https://localhost:8080/",
          "height": 204
        },
        "outputId": "1f4962fc-67c7-4bf9-ca8a-829aa25a9b34"
      },
      "source": [
        "!wget https://www1.nyc.gov/site/planning/data-maps/open-data/dwn-pluto-mappluto.page -P \"drive/My Drive/DSPS_2019\""
      ],
      "execution_count": 17,
      "outputs": [
        {
          "output_type": "stream",
          "text": [
            "--2019-09-26 20:43:49--  https://www1.nyc.gov/site/planning/data-maps/open-data/dwn-pluto-mappluto.page\n",
            "Resolving www1.nyc.gov (www1.nyc.gov)... 23.67.94.59, 2600:1402:3800:290::1500, 2600:1402:3800:29d::1500\n",
            "Connecting to www1.nyc.gov (www1.nyc.gov)|23.67.94.59|:443... connected.\n",
            "HTTP request sent, awaiting response... 200 OK\n",
            "Length: 24407 (24K) [text/html]\n",
            "Saving to: ‘drive/My Drive/DSPS_2019/dwn-pluto-mappluto.page’\n",
            "\n",
            "\rdwn-pluto-mappluto.   0%[                    ]       0  --.-KB/s               \rdwn-pluto-mappluto. 100%[===================>]  23.83K  --.-KB/s    in 0.008s  \n",
            "\n",
            "2019-09-26 20:43:50 (2.94 MB/s) - ‘drive/My Drive/DSPS_2019/dwn-pluto-mappluto.page’ saved [24407/24407]\n",
            "\n"
          ],
          "name": "stdout"
        }
      ]
    },
    {
      "cell_type": "code",
      "metadata": {
        "id": "F9tp5rVcTMcD",
        "colab_type": "code",
        "colab": {
          "base_uri": "https://localhost:8080/",
          "height": 34
        },
        "outputId": "a03abc9f-432f-419d-9888-febc5a86394b"
      },
      "source": [
        "ls \"drive/My Drive/DSPS_2019\""
      ],
      "execution_count": 18,
      "outputs": [
        {
          "output_type": "stream",
          "text": [
            "dwn-pluto-mappluto.page\n"
          ],
          "name": "stdout"
        }
      ]
    },
    {
      "cell_type": "code",
      "metadata": {
        "id": "8vr1RG6bTSnb",
        "colab_type": "code",
        "colab": {
          "base_uri": "https://localhost:8080/",
          "height": 34
        },
        "outputId": "759c907a-12be-433e-b8f3-89a6f2678876"
      },
      "source": [
        ""
      ],
      "execution_count": 14,
      "outputs": [
        {
          "output_type": "stream",
          "text": [
            "mv: cannot stat 'drive/ dwn-pluto-mappluto.page': No such file or directory\n"
          ],
          "name": "stdout"
        }
      ]
    },
    {
      "cell_type": "markdown",
      "metadata": {
        "id": "Jns_yfQ2Y5Xz",
        "colab_type": "text"
      },
      "source": [
        "# data fusion\n",
        "\n",
        "### select data\n",
        "select the data for buildings _in the borough of Manhattan_ only from the pluto file (you can do it broadcasting!)\n",
        "\n",
        "### merge\n",
        "merge the pluto and ll84 dataframes. you will have to choose an appropriate column that both datasets share fo do so. The column may not have the same nbame, but should have the same _variable_."
      ]
    },
    {
      "cell_type": "markdown",
      "metadata": {
        "id": "eExs_TXwlQkT",
        "colab_type": "text"
      },
      "source": [
        "# data exploration and cleaning\n",
        "\n",
        "### extact columns\n",
        "extract the columns listed in the file \"columns.txt\" from the dataset.\n",
        "\n",
        "convert the resulting dataset to numerical, converting non-numerical values to NaN. drop rows that contain invalid values and save the resulting dataframe (_reducted_ dataframe)"
      ]
    },
    {
      "cell_type": "markdown",
      "metadata": {
        "id": "C5-nB1RdY5X5",
        "colab_type": "text"
      },
      "source": [
        "### Assess impact of data wrangling\n",
        "Describe the  datasets resulting from this data cleaning: \n",
        "\n",
        "- how many observations have you lost? \n",
        "\n",
        "- did any of the features (=columns) have inconsistent distribution between the full and reducted dataset? \n",
        "\n",
        "You can approach this question in a number of ways, and you have done this in the  homewors already (with a KS test, and by just looking at uncertainties are two examples of ways to do ut that you worked out in HW3 and HW4, the Z test might work if you can convince yourself that the full sample is the \"population\" - up to you! a quick google search would probably describe many more ways). Choose _2_ ways, describe what each does and why it is appropriate. Compare the results (indeed I did it in 4 ways and did not always get consistent results! each of these meathods measures a slightly different thing).\n",
        "\n"
      ]
    },
    {
      "cell_type": "code",
      "metadata": {
        "ExecuteTime": {
          "end_time": "2019-09-25T02:24:30.299322Z",
          "start_time": "2019-09-25T02:24:30.184734Z"
        },
        "id": "_cZwH0d4Y5X_",
        "colab_type": "code",
        "outputId": "8f9ed8ed-f4a4-4f77-f2c2-11188dd1601b",
        "colab": {
          "base_uri": "https://localhost:8080/",
          "height": 402
        }
      },
      "source": [
        "ll84pl[goodcols].describe()"
      ],
      "execution_count": 0,
      "outputs": [
        {
          "output_type": "execute_result",
          "data": {
            "text/html": [
              "<div>\n",
              "<style scoped>\n",
              "    .dataframe tbody tr th:only-of-type {\n",
              "        vertical-align: middle;\n",
              "    }\n",
              "\n",
              "    .dataframe tbody tr th {\n",
              "        vertical-align: top;\n",
              "    }\n",
              "\n",
              "    .dataframe thead th {\n",
              "        text-align: right;\n",
              "    }\n",
              "</style>\n",
              "<table border=\"1\" class=\"dataframe\">\n",
              "  <thead>\n",
              "    <tr style=\"text-align: right;\">\n",
              "      <th></th>\n",
              "      <th>Year Built</th>\n",
              "      <th>Number of Buildings - Self-reported</th>\n",
              "      <th>Occupancy</th>\n",
              "      <th>ENERGY STAR Score</th>\n",
              "      <th>Site EUI (kBtu/ft²)</th>\n",
              "      <th>Weather Normalized Site EUI (kBtu/ft²)</th>\n",
              "      <th>Weather Normalized Site Electricity Intensity (kWh/ft²)</th>\n",
              "      <th>Weather Normalized Site Natural Gas Intensity (therms/ft²)</th>\n",
              "      <th>Weather Normalized Source EUI (kBtu/ft²)</th>\n",
              "      <th>Electricity Use - Grid Purchase (kBtu)</th>\n",
              "      <th>Total GHG Emissions (Metric Tons CO2e)</th>\n",
              "      <th>Property GFA - Self-Reported (ft²)</th>\n",
              "      <th>Water Use (All Water Sources) (kgal)</th>\n",
              "      <th>Water Intensity (All Water Sources) (gal/ft²)</th>\n",
              "      <th>Source EUI (kBtu/ft²)</th>\n",
              "      <th>bldgarea</th>\n",
              "      <th>numbldgs</th>\n",
              "      <th>numfloors</th>\n",
              "      <th>unitsres</th>\n",
              "      <th>unitstotal</th>\n",
              "      <th>yearalter1</th>\n",
              "    </tr>\n",
              "  </thead>\n",
              "  <tbody>\n",
              "    <tr>\n",
              "      <th>count</th>\n",
              "      <td>5176.000000</td>\n",
              "      <td>5176.000000</td>\n",
              "      <td>5176.000000</td>\n",
              "      <td>4057.000000</td>\n",
              "      <td>5122.000000</td>\n",
              "      <td>4619.000000</td>\n",
              "      <td>4899.000000</td>\n",
              "      <td>4070.000000</td>\n",
              "      <td>4619.000000</td>\n",
              "      <td>5.101000e+03</td>\n",
              "      <td>5.160000e+03</td>\n",
              "      <td>5.176000e+03</td>\n",
              "      <td>3.388000e+03</td>\n",
              "      <td>3388.000000</td>\n",
              "      <td>5122.000000</td>\n",
              "      <td>4.290000e+04</td>\n",
              "      <td>42844.000000</td>\n",
              "      <td>42844.000000</td>\n",
              "      <td>42898.000000</td>\n",
              "      <td>42898.000000</td>\n",
              "      <td>42898.000000</td>\n",
              "    </tr>\n",
              "    <tr>\n",
              "      <th>mean</th>\n",
              "      <td>1943.956723</td>\n",
              "      <td>1.056221</td>\n",
              "      <td>98.469861</td>\n",
              "      <td>58.689426</td>\n",
              "      <td>252.626045</td>\n",
              "      <td>266.941373</td>\n",
              "      <td>10.414227</td>\n",
              "      <td>0.411818</td>\n",
              "      <td>381.910067</td>\n",
              "      <td>8.584119e+06</td>\n",
              "      <td>4.704265e+03</td>\n",
              "      <td>2.088364e+05</td>\n",
              "      <td>1.481517e+04</td>\n",
              "      <td>94.268548</td>\n",
              "      <td>364.565502</td>\n",
              "      <td>4.301289e+04</td>\n",
              "      <td>1.113762</td>\n",
              "      <td>5.872763</td>\n",
              "      <td>22.280876</td>\n",
              "      <td>25.351858</td>\n",
              "      <td>1055.207096</td>\n",
              "    </tr>\n",
              "    <tr>\n",
              "      <th>std</th>\n",
              "      <td>33.123462</td>\n",
              "      <td>0.773553</td>\n",
              "      <td>8.486776</td>\n",
              "      <td>30.809480</td>\n",
              "      <td>3124.750511</td>\n",
              "      <td>3277.960226</td>\n",
              "      <td>58.764605</td>\n",
              "      <td>2.624555</td>\n",
              "      <td>3987.815401</td>\n",
              "      <td>2.498918e+07</td>\n",
              "      <td>8.912783e+04</td>\n",
              "      <td>3.109891e+05</td>\n",
              "      <td>1.483005e+05</td>\n",
              "      <td>1126.541657</td>\n",
              "      <td>3802.615408</td>\n",
              "      <td>1.664784e+05</td>\n",
              "      <td>1.383727</td>\n",
              "      <td>6.189731</td>\n",
              "      <td>92.373077</td>\n",
              "      <td>95.386177</td>\n",
              "      <td>993.277780</td>\n",
              "    </tr>\n",
              "    <tr>\n",
              "      <th>min</th>\n",
              "      <td>1600.000000</td>\n",
              "      <td>0.000000</td>\n",
              "      <td>0.000000</td>\n",
              "      <td>1.000000</td>\n",
              "      <td>0.000000</td>\n",
              "      <td>0.000000</td>\n",
              "      <td>0.000000</td>\n",
              "      <td>0.000000</td>\n",
              "      <td>0.000000</td>\n",
              "      <td>0.000000e+00</td>\n",
              "      <td>0.000000e+00</td>\n",
              "      <td>0.000000e+00</td>\n",
              "      <td>0.000000e+00</td>\n",
              "      <td>0.000000</td>\n",
              "      <td>0.000000</td>\n",
              "      <td>0.000000e+00</td>\n",
              "      <td>0.000000</td>\n",
              "      <td>0.000000</td>\n",
              "      <td>0.000000</td>\n",
              "      <td>0.000000</td>\n",
              "      <td>0.000000</td>\n",
              "    </tr>\n",
              "    <tr>\n",
              "      <th>25%</th>\n",
              "      <td>1920.000000</td>\n",
              "      <td>1.000000</td>\n",
              "      <td>100.000000</td>\n",
              "      <td>33.000000</td>\n",
              "      <td>61.900000</td>\n",
              "      <td>64.800000</td>\n",
              "      <td>4.800000</td>\n",
              "      <td>0.000000</td>\n",
              "      <td>110.750000</td>\n",
              "      <td>1.540483e+06</td>\n",
              "      <td>4.000250e+02</td>\n",
              "      <td>7.230700e+04</td>\n",
              "      <td>2.375100e+03</td>\n",
              "      <td>22.580000</td>\n",
              "      <td>106.800000</td>\n",
              "      <td>4.390000e+03</td>\n",
              "      <td>1.000000</td>\n",
              "      <td>3.000000</td>\n",
              "      <td>1.000000</td>\n",
              "      <td>2.000000</td>\n",
              "      <td>0.000000</td>\n",
              "    </tr>\n",
              "    <tr>\n",
              "      <th>50%</th>\n",
              "      <td>1930.000000</td>\n",
              "      <td>1.000000</td>\n",
              "      <td>100.000000</td>\n",
              "      <td>66.000000</td>\n",
              "      <td>77.200000</td>\n",
              "      <td>80.800000</td>\n",
              "      <td>7.300000</td>\n",
              "      <td>0.300000</td>\n",
              "      <td>143.100000</td>\n",
              "      <td>3.180848e+06</td>\n",
              "      <td>6.545500e+02</td>\n",
              "      <td>1.150115e+05</td>\n",
              "      <td>4.327050e+03</td>\n",
              "      <td>35.925000</td>\n",
              "      <td>139.300000</td>\n",
              "      <td>8.875000e+03</td>\n",
              "      <td>1.000000</td>\n",
              "      <td>5.000000</td>\n",
              "      <td>6.000000</td>\n",
              "      <td>8.000000</td>\n",
              "      <td>1968.000000</td>\n",
              "    </tr>\n",
              "    <tr>\n",
              "      <th>75%</th>\n",
              "      <td>1967.000000</td>\n",
              "      <td>1.000000</td>\n",
              "      <td>100.000000</td>\n",
              "      <td>85.000000</td>\n",
              "      <td>98.400000</td>\n",
              "      <td>102.000000</td>\n",
              "      <td>12.400000</td>\n",
              "      <td>0.600000</td>\n",
              "      <td>188.100000</td>\n",
              "      <td>7.265680e+06</td>\n",
              "      <td>1.292225e+03</td>\n",
              "      <td>2.136252e+05</td>\n",
              "      <td>8.308225e+03</td>\n",
              "      <td>53.855000</td>\n",
              "      <td>184.975000</td>\n",
              "      <td>2.321050e+04</td>\n",
              "      <td>1.000000</td>\n",
              "      <td>6.000000</td>\n",
              "      <td>18.000000</td>\n",
              "      <td>20.000000</td>\n",
              "      <td>1988.000000</td>\n",
              "    </tr>\n",
              "    <tr>\n",
              "      <th>max</th>\n",
              "      <td>2016.000000</td>\n",
              "      <td>35.000000</td>\n",
              "      <td>100.000000</td>\n",
              "      <td>100.000000</td>\n",
              "      <td>126307.400000</td>\n",
              "      <td>126307.400000</td>\n",
              "      <td>4074.900000</td>\n",
              "      <td>131.000000</td>\n",
              "      <td>152001.300000</td>\n",
              "      <td>1.037256e+09</td>\n",
              "      <td>4.764456e+06</td>\n",
              "      <td>8.942176e+06</td>\n",
              "      <td>6.376003e+06</td>\n",
              "      <td>57699.300000</td>\n",
              "      <td>152001.300000</td>\n",
              "      <td>1.343508e+07</td>\n",
              "      <td>159.000000</td>\n",
              "      <td>104.000000</td>\n",
              "      <td>8764.000000</td>\n",
              "      <td>8812.000000</td>\n",
              "      <td>2018.000000</td>\n",
              "    </tr>\n",
              "  </tbody>\n",
              "</table>\n",
              "</div>"
            ],
            "text/plain": [
              "        Year Built  ...    yearalter1\n",
              "count  5176.000000  ...  42898.000000\n",
              "mean   1943.956723  ...   1055.207096\n",
              "std      33.123462  ...    993.277780\n",
              "min    1600.000000  ...      0.000000\n",
              "25%    1920.000000  ...      0.000000\n",
              "50%    1930.000000  ...   1968.000000\n",
              "75%    1967.000000  ...   1988.000000\n",
              "max    2016.000000  ...   2018.000000\n",
              "\n",
              "[8 rows x 21 columns]"
            ]
          },
          "metadata": {
            "tags": []
          },
          "execution_count": 99
        }
      ]
    },
    {
      "cell_type": "code",
      "metadata": {
        "id": "6J1q5XnwvtJC",
        "colab_type": "code",
        "outputId": "662719ef-43b2-4626-e6da-ee3e817d4b99",
        "colab": {
          "base_uri": "https://localhost:8080/",
          "height": 34
        }
      },
      "source": [
        "print(\"lost buildings: ... (...\\%) \")"
      ],
      "execution_count": 0,
      "outputs": [
        {
          "output_type": "stream",
          "text": [
            "lost buildings: ... (...\\%) \n"
          ],
          "name": "stdout"
        }
      ]
    },
    {
      "cell_type": "markdown",
      "metadata": {
        "id": "OBPiLSfnY5YE",
        "colab_type": "text"
      },
      "source": [
        "### plot WNEC\n",
        "Regardless of what you found above, plot the distribution of the _log base 10_ of the weather-normalized site energy consumption (WNEC) for all values larger than 0.1 (such that log10(min) is -1) for the _entire dataset_ and for the _reducted one_: do you think inference on this feature would be affected by this way of dealing with missing data affects the result?\n",
        "\n"
      ]
    },
    {
      "cell_type": "code",
      "metadata": {
        "ExecuteTime": {
          "end_time": "2019-09-25T02:33:55.288516Z",
          "start_time": "2019-09-25T02:33:55.263386Z"
        },
        "id": "hepCz2zGY5YG",
        "colab_type": "code",
        "outputId": "433a7754-e1e6-4a91-e4a6-688d4e534b4c",
        "colab": {
          "base_uri": "https://localhost:8080/",
          "height": 337
        }
      },
      "source": [
        ""
      ],
      "execution_count": 0,
      "outputs": [
        {
          "output_type": "stream",
          "text": [
            "/usr/local/lib/python3.6/dist-packages/ipykernel_launcher.py:1: RuntimeWarning: divide by zero encountered in log10\n",
            "  \"\"\"Entry point for launching an IPython kernel.\n"
          ],
          "name": "stderr"
        },
        {
          "output_type": "display_data",
          "data": {
            "image/png": "[encoded data removed]",
            "text/plain": [
              "<Figure size 432x288 with 1 Axes>"
            ]
          },
          "metadata": {
            "tags": []
          }
        }
      ]
    },
    {
      "cell_type": "markdown",
      "metadata": {
        "ExecuteTime": {
          "end_time": "2019-09-25T02:08:23.211182Z",
          "start_time": "2019-09-25T02:08:23.205135Z"
        },
        "id": "WIANEJHKY5YI",
        "colab_type": "text"
      },
      "source": [
        "# 667 and extyra credit\n",
        "plot a \"scatter matrix\" of the selected columns. Identify 4 promising \"scaling laws\" and plot them separately (a scatter plot of column1 vs column2). Does it make sense that there should be a scaling law between the 2 variables? \n",
        "\n",
        "which features should be strongly correlated or identical but are not? discuss\n",
        "\n",
        "([this](https://stackoverflow.com/questions/26975089/making-the-labels-of-the-scatterplot-vertical-and-horizontal-in-pandas) stackoverflow may come in handy)"
      ]
    },
    {
      "cell_type": "markdown",
      "metadata": {
        "id": "1fI3IMcNY5YM",
        "colab_type": "text"
      },
      "source": [
        "## all students\n",
        "At last, from the original dataset remove only the columns that are NaN in the column \"Weather Normalized Site EUI (kBtu/ft²)\"\n"
      ]
    },
    {
      "cell_type": "code",
      "metadata": {
        "ExecuteTime": {
          "end_time": "2019-09-25T02:40:28.827861Z",
          "start_time": "2019-09-25T02:38:20.245957Z"
        },
        "id": "LWaJVQG0Y5YN",
        "colab_type": "code",
        "outputId": "4feb7662-b886-47ba-cf26-9b3684c44b90",
        "colab": {
          "base_uri": "https://localhost:8080/",
          "height": 34
        }
      },
      "source": [
        "# -- drop buildings for which WN Site EUI is NaN\n",
        "wnec = \"Weather Normalized Site EUI (kBtu/ft²)\"\n",
        "...\n",
        "ll84pl.shape"
      ],
      "execution_count": 0,
      "outputs": [
        {
          "output_type": "execute_result",
          "data": {
            "text/plain": [
              "(4619, 156)"
            ]
          },
          "metadata": {
            "tags": []
          },
          "execution_count": 131
        }
      ]
    },
    {
      "cell_type": "markdown",
      "metadata": {
        "id": "vMDOfS6nY5YQ",
        "colab_type": "text"
      },
      "source": [
        "## Analysis: Owner investigation \n",
        "### Find owner of the single most energy consuming building\n",
        "\n",
        "**Find owner of the single most energy consuming building**, as measured by the \"Site Weather Normalized EUI per unit area \". \n",
        "\n",
        "**Find all the buildings that they own.**\n",
        "\n",
        "\n",
        "show the weather-normalized site energy consumption and the owner name for the top 30 consuming buildings in Manhattan"
      ]
    },
    {
      "cell_type": "code",
      "metadata": {
        "id": "l3dF3RQowmJ4",
        "colab_type": "code",
        "outputId": "b6695264-4ec1-46ce-864d-ed7602fe7915",
        "colab": {
          "base_uri": "https://localhost:8080/",
          "height": 34
        }
      },
      "source": [
        "print(\"Owner of the hisghest consuming building:...\", \n",
        "      \"They own ... buildings\")"
      ],
      "execution_count": 0,
      "outputs": [
        {
          "output_type": "stream",
          "text": [
            "Owner of the hisghest consuming building:... They own ... buildings\n"
          ],
          "name": "stdout"
        }
      ]
    },
    {
      "cell_type": "markdown",
      "metadata": {
        "ExecuteTime": {
          "end_time": "2019-09-24T18:40:17.239813Z",
          "start_time": "2019-09-24T18:40:17.235991Z"
        },
        "id": "0m4jRavdY5Yh",
        "colab_type": "text"
      },
      "source": [
        "### Find average building consumption by owner \n",
        "For all owners that own more than one building, find the average consumption for buildings owned by the same owner. Your dataframe should have 2 columns called _Weather Normalized Site EUI (kBtu/ft²)_\tand _counts_\n",
        "\n",
        "**Who owns the most energy consuming buildings on average?**\n",
        "\n",
        "**Who owns the most buildings**"
      ]
    },
    {
      "cell_type": "markdown",
      "metadata": {
        "id": "Y9amLZSHxC26",
        "colab_type": "text"
      },
      "source": [
        "# 667 and EC\n",
        "\n",
        "Universities are big realtors in NYC. The may own by different names. Find all builgings owned by NYU and COLUMBIA. replace the ownename with NYU and COLUMBIA respectively and re-aggregate the data based on these names and again find the owner of the buildings that pon average consume the most, of the highest number of buildings, and that owns the most sq footage "
      ]
    },
    {
      "cell_type": "code",
      "metadata": {
        "id": "vhpxcsYKC0B3",
        "colab_type": "code",
        "colab": {}
      },
      "source": [
        ""
      ],
      "execution_count": 0,
      "outputs": []
    }
  ]
}