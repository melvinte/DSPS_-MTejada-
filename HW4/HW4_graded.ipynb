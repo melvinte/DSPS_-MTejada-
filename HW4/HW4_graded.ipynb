{
 "cells": [
  {
   "cell_type": "markdown",
   "metadata": {
    "colab_type": "text",
    "id": "view-in-github"
   },
   "source": [
    "<a href=\"https://colab.research.google.com/github/melvinte/DSPS_mtejada/blob/master/HW4/MWrotCurve.ipynb\" target=\"_parent\"><img src=\"https://colab.research.google.com/assets/colab-badge.svg\" alt=\"Open In Colab\"/></a>"
   ]
  },
  {
   "cell_type": "markdown",
   "metadata": {
    "colab_type": "text",
    "id": "rxa6Xa3jOdCI",
    "run_control": {
     "frozen": false,
     "read_only": false
    }
   },
   "source": [
    "prepared by federica b bianco @fedhere\n",
    "for UDel DSPS PHYS 467/667\n",
    "\n",
    "# testing the significance of Dark Matter"
   ]
  },
  {
   "cell_type": "code",
   "execution_count": 1,
   "metadata": {
    "ExecuteTime": {
     "end_time": "2019-09-16T17:54:57.244596Z",
     "start_time": "2019-09-16T17:54:57.231090Z"
    },
    "colab": {
     "base_uri": "https://localhost:8080/",
     "height": 34
    },
    "colab_type": "code",
    "id": "Ya2RaOGbOdCJ",
    "outputId": "5392a5a4-2b15-4903-d1b0-bfcedc6dceda",
    "run_control": {
     "frozen": false,
     "read_only": false
    }
   },
   "outputs": [
    {
     "name": "stdout",
     "output_type": "stream",
     "text": [
      "Populating the interactive namespace from numpy and matplotlib\n"
     ]
    }
   ],
   "source": [
    "import pandas as pd\n",
    "import numpy as np\n",
    "import pylab as pl\n",
    "%pylab inline\n",
    "\n",
    "\n",
    "#package I will use for constants and units conversion \n",
    "import astropy\n",
    "\n"
   ]
  },
  {
   "cell_type": "markdown",
   "metadata": {
    "colab_type": "text",
    "id": "4qp8A2TG1Gwb"
   },
   "source": [
    "In 1970 Vera Rubin published a seminal paper: she measured the rotational speed of HII regions in several galaxies and how it changed as a function of distance to the center of the galaxy. If we believe Newtonian gravity (or GR) we expect that _once all of the mass is included_, i.e. at a radius distance from the center of the galaxy larger than the radius of the galaxy itself, the rotational speed will be proportional to $v\\propto\\frac{1}/{r}$"
   ]
  },
  {
   "cell_type": "markdown",
   "metadata": {
    "colab_type": "text",
    "id": "j-BDrNseOdCR",
    "run_control": {
     "frozen": false,
     "read_only": false
    }
   },
   "source": [
    "## Propagation of  uncertainties rules\n",
    "\n",
    "below are the basic rules for propagation of uncertainties - use [this as reference](https://github.com/fedhere/DSPS/blob/master/resources/Managing%20Errors%20and%20Uncertainty.pdf)"
   ]
  },
  {
   "cell_type": "markdown",
   "metadata": {
    "colab_type": "text",
    "id": "iCrFipBzOzqp"
   },
   "source": [
    "\n",
    "\n",
    "\n",
    "$$\n",
    "\\begin{eqnarray}\n",
    "z = x  \\pm y  ~| & ~  &dz = \\sqrt{dx^2 + dy^2} \n",
    "\\\\\n",
    "z = x * y  ~| & ~& dz = |xy|  \\sqrt{\\left(\\frac{dx}{x}\\right)^2 + \n",
    "                                \\left(\\frac{dy}{y}\\right)^2} \\\\\n",
    "z = x / y  ~| & ~& dz = \\left|\\frac{x}{y}\\right| \\sqrt{\\left(\\frac{dx}{x}\\right)^2 + \n",
    "                                                   \\left(\\frac{dy}{y}\\right)^2} \\\\\n",
    "z = x^n ~| & ~& dz = |n| ~ x^{n-1}  dx \\\\\n",
    "z = \\mathrm{c}x ~| & ~& dz = |\\mathrm{c}| ~dx \\\\\n",
    "z = f(x, y) ~| & ~& dz = \\sqrt{\\left(\\frac{\\partial f}{\\partial x}\\right)^2 dx^2 +\\left(\\frac{\\partial f}{\\partial y}\\right)^2 dy^2} \\\\\n",
    "\\end{eqnarray}\n",
    "$$\n"
   ]
  },
  {
   "cell_type": "markdown",
   "metadata": {
    "colab_type": "text",
    "id": "WcF0zlWCOdCX",
    "run_control": {
     "frozen": false,
     "read_only": false
    }
   },
   "source": [
    "# let's assume a Newtonian framework: \n",
    "the velocity of a body in orbit depends only on the gravitational field of the mass that attracts it, and we can assume that mass is concentrated in the center of mass of (the center for simplicity) the system\n",
    "\n",
    "with G the gravitational constant, $r$ the radius, and $m(r)$ the mass contained within that radius we have the orbital velocity $v$:\n"
   ]
  },
  {
   "cell_type": "markdown",
   "metadata": {
    "colab_type": "text",
    "id": "ZON0DKl5Qm2S"
   },
   "source": [
    "\n",
    "$v = \\frac{G \\cdot m(r)}{r}$\n"
   ]
  },
  {
   "cell_type": "markdown",
   "metadata": {
    "colab_type": "text",
    "id": "lVfy9lJ21xMT"
   },
   "source": [
    "Derive this $v\\propto\\frac{1}{r}$ from Newron's law $F~=~\\frac{GMm}{r^2}$. Write each formula and describe each step. You can use latex (you really just need to know ```\\frac{}``` and ```^```) and this reference\n",
    "https://www.physicsclassroom.com/calcpad/circgrav"
   ]
  },
  {
   "cell_type": "markdown",
   "metadata": {
    "colab_type": "text",
    "id": "HEB7hQojuAQt"
   },
   "source": [
    "F = $\\frac{GMm}{r^2}$ \\\\\n",
    "By Newton's second law: F = ma \\\\\n",
    "\n",
    "When a mass is in centripital motion its accerlation is equal to the following:\n",
    "\n",
    "a = $\\frac{v^2}{r}$\n",
    "\n",
    "Therefore the force acting on the moving mass is: F = $\\frac{mv^2}{r}$\n",
    "\n",
    "$\\frac{mv^2}{r}$ = $\\frac{GMm}{r^2}$\n",
    "\n",
    "Which can be simplified to:\n",
    "\n",
    "$v^2$ = $\\frac{GM}{r}$\n",
    "\n",
    "And finally:\n",
    "\n",
    "v = $\\sqrt{\\frac{GM}{r}}$\n",
    "\n",
    "Since G is a gravitational constant and M is the mass of what \n",
    "is being orbited the only variable that can change v is the radius \n",
    "r.\n",
    "\n",
    "Therefore: $v\\propto\\frac{1}{\\sqrt{r}}$"
   ]
  },
  {
   "cell_type": "markdown",
   "metadata": {
    "colab_type": "text",
    "id": "KQAEJtWuOdCb",
    "run_control": {
     "frozen": false,
     "read_only": false
    }
   },
   "source": [
    "## M31 rotational curve"
   ]
  },
  {
   "cell_type": "markdown",
   "metadata": {
    "ExecuteTime": {
     "end_time": "2019-08-02T01:34:15.029084Z",
     "start_time": "2019-08-02T01:34:15.026604Z"
    },
    "colab_type": "text",
    "id": "BTaXzFYeOdCc",
    "run_control": {
     "frozen": false,
     "read_only": false
    }
   },
   "source": [
    "### data ingestion\n",
    "( I store the original paper as a link on another computer now I have to find it again :-( - sorry I will updat the reference )\n",
    "\n",
    "Get the data from the github repository https://github.com/fedhere/DSPS/tree/master/HW4 : there are 2 files: mw.csv and m31.csv. Start with M31, the Andromeda galaxy, Vera Rubin's original target."
   ]
  },
  {
   "cell_type": "markdown",
   "metadata": {
    "colab_type": "text",
    "id": "_iFrkUYEV1SS"
   },
   "source": [
    "Note that the data contains 2 types of uncertainties: one significantly smaller than the other. The ```dv``` uncertainty is the propagation of the uncertainty in the location of the HII line. The uncertainty called ```err``` if the full error budget:  including _all_ sources of uncertainty and not just the uncertainty in measuring the location of the line. Retain both, you will test your hypothesis with each one to see if it matters which uncertainty you choose"
   ]
  },
  {
   "cell_type": "code",
   "execution_count": 2,
   "metadata": {
    "colab": {},
    "colab_type": "code",
    "id": "PFYBlhUjt8_e"
   },
   "outputs": [],
   "source": [
    "m31 = pd.read_csv(\"https://raw.githubusercontent.com/fedhere/DSPS/master/HW4/m31.csv\",header=1)\n",
    "mw = pd.read_csv(\"https://raw.githubusercontent.com/fedhere/DSPS/master/HW4/mw.csv\",header = 1)\n"
   ]
  },
  {
   "cell_type": "code",
   "execution_count": 3,
   "metadata": {
    "colab": {
     "base_uri": "https://localhost:8080/",
     "height": 204
    },
    "colab_type": "code",
    "id": "luL5UrsNQ1M1",
    "outputId": "3b757838-e431-4a61-f84e-191cb1df3ffa"
   },
   "outputs": [
    {
     "data": {
      "text/html": [
       "<div>\n",
       "<style scoped>\n",
       "    .dataframe tbody tr th:only-of-type {\n",
       "        vertical-align: middle;\n",
       "    }\n",
       "\n",
       "    .dataframe tbody tr th {\n",
       "        vertical-align: top;\n",
       "    }\n",
       "\n",
       "    .dataframe thead th {\n",
       "        text-align: right;\n",
       "    }\n",
       "</style>\n",
       "<table border=\"1\" class=\"dataframe\">\n",
       "  <thead>\n",
       "    <tr style=\"text-align: right;\">\n",
       "      <th></th>\n",
       "      <th>r</th>\n",
       "      <th>v</th>\n",
       "      <th>dv</th>\n",
       "      <th>err</th>\n",
       "    </tr>\n",
       "  </thead>\n",
       "  <tbody>\n",
       "    <tr>\n",
       "      <td>0</td>\n",
       "      <td>0.100</td>\n",
       "      <td>183.939</td>\n",
       "      <td>0.000</td>\n",
       "      <td>0.000</td>\n",
       "    </tr>\n",
       "    <tr>\n",
       "      <td>1</td>\n",
       "      <td>0.120</td>\n",
       "      <td>190.710</td>\n",
       "      <td>10.265</td>\n",
       "      <td>12.191</td>\n",
       "    </tr>\n",
       "    <tr>\n",
       "      <td>2</td>\n",
       "      <td>0.144</td>\n",
       "      <td>204.141</td>\n",
       "      <td>22.634</td>\n",
       "      <td>21.808</td>\n",
       "    </tr>\n",
       "    <tr>\n",
       "      <td>3</td>\n",
       "      <td>0.173</td>\n",
       "      <td>207.601</td>\n",
       "      <td>4.573</td>\n",
       "      <td>4.200</td>\n",
       "    </tr>\n",
       "    <tr>\n",
       "      <td>4</td>\n",
       "      <td>0.207</td>\n",
       "      <td>210.188</td>\n",
       "      <td>3.943</td>\n",
       "      <td>3.258</td>\n",
       "    </tr>\n",
       "  </tbody>\n",
       "</table>\n",
       "</div>"
      ],
      "text/plain": [
       "       r        v      dv     err\n",
       "0  0.100  183.939   0.000   0.000\n",
       "1  0.120  190.710  10.265  12.191\n",
       "2  0.144  204.141  22.634  21.808\n",
       "3  0.173  207.601   4.573   4.200\n",
       "4  0.207  210.188   3.943   3.258"
      ]
     },
     "execution_count": 3,
     "metadata": {},
     "output_type": "execute_result"
    }
   ],
   "source": [
    "m31.rename(columns = {\"#R(kpc\" : \"r\", \"V(km/s)\" : \"v\", \"St.dev.\" : \"dv\", \"St.error\" : \"err\"},inplace = True)\n",
    "m31.head()"
   ]
  },
  {
   "cell_type": "code",
   "execution_count": 4,
   "metadata": {
    "ExecuteTime": {
     "end_time": "2019-08-02T01:35:26.395158Z",
     "start_time": "2019-08-02T01:35:26.373338Z"
    },
    "colab": {
     "base_uri": "https://localhost:8080/",
     "height": 297
    },
    "colab_type": "code",
    "id": "QsNRokb1OdCh",
    "outputId": "60a5edb8-ae26-443e-cc44-807e62b5b48d",
    "run_control": {
     "frozen": false,
     "read_only": false
    }
   },
   "outputs": [
    {
     "data": {
      "text/html": [
       "<div>\n",
       "<style scoped>\n",
       "    .dataframe tbody tr th:only-of-type {\n",
       "        vertical-align: middle;\n",
       "    }\n",
       "\n",
       "    .dataframe tbody tr th {\n",
       "        vertical-align: top;\n",
       "    }\n",
       "\n",
       "    .dataframe thead th {\n",
       "        text-align: right;\n",
       "    }\n",
       "</style>\n",
       "<table border=\"1\" class=\"dataframe\">\n",
       "  <thead>\n",
       "    <tr style=\"text-align: right;\">\n",
       "      <th></th>\n",
       "      <th>r</th>\n",
       "      <th>v</th>\n",
       "      <th>dv</th>\n",
       "      <th>err</th>\n",
       "    </tr>\n",
       "  </thead>\n",
       "  <tbody>\n",
       "    <tr>\n",
       "      <td>count</td>\n",
       "      <td>55.000000</td>\n",
       "      <td>55.000000</td>\n",
       "      <td>55.000000</td>\n",
       "      <td>55.000000</td>\n",
       "    </tr>\n",
       "    <tr>\n",
       "      <td>mean</td>\n",
       "      <td>205.853182</td>\n",
       "      <td>226.079255</td>\n",
       "      <td>55.034818</td>\n",
       "      <td>16.165855</td>\n",
       "    </tr>\n",
       "    <tr>\n",
       "      <td>std</td>\n",
       "      <td>415.523904</td>\n",
       "      <td>42.799892</td>\n",
       "      <td>49.254792</td>\n",
       "      <td>14.876951</td>\n",
       "    </tr>\n",
       "    <tr>\n",
       "      <td>min</td>\n",
       "      <td>0.100000</td>\n",
       "      <td>121.974000</td>\n",
       "      <td>0.000000</td>\n",
       "      <td>0.000000</td>\n",
       "    </tr>\n",
       "    <tr>\n",
       "      <td>25%</td>\n",
       "      <td>1.177000</td>\n",
       "      <td>208.894500</td>\n",
       "      <td>11.945500</td>\n",
       "      <td>3.224000</td>\n",
       "    </tr>\n",
       "    <tr>\n",
       "      <td>50%</td>\n",
       "      <td>13.737000</td>\n",
       "      <td>229.124000</td>\n",
       "      <td>30.697000</td>\n",
       "      <td>12.065000</td>\n",
       "    </tr>\n",
       "    <tr>\n",
       "      <td>75%</td>\n",
       "      <td>161.675000</td>\n",
       "      <td>244.102500</td>\n",
       "      <td>99.980000</td>\n",
       "      <td>23.641000</td>\n",
       "    </tr>\n",
       "    <tr>\n",
       "      <td>max</td>\n",
       "      <td>1887.071000</td>\n",
       "      <td>414.942000</td>\n",
       "      <td>147.835000</td>\n",
       "      <td>54.110000</td>\n",
       "    </tr>\n",
       "  </tbody>\n",
       "</table>\n",
       "</div>"
      ],
      "text/plain": [
       "                 r           v          dv        err\n",
       "count    55.000000   55.000000   55.000000  55.000000\n",
       "mean    205.853182  226.079255   55.034818  16.165855\n",
       "std     415.523904   42.799892   49.254792  14.876951\n",
       "min       0.100000  121.974000    0.000000   0.000000\n",
       "25%       1.177000  208.894500   11.945500   3.224000\n",
       "50%      13.737000  229.124000   30.697000  12.065000\n",
       "75%     161.675000  244.102500   99.980000  23.641000\n",
       "max    1887.071000  414.942000  147.835000  54.110000"
      ]
     },
     "execution_count": 4,
     "metadata": {},
     "output_type": "execute_result"
    }
   ],
   "source": [
    "m31.describe()"
   ]
  },
  {
   "cell_type": "markdown",
   "metadata": {
    "colab_type": "text",
    "id": "Vv0Ut6vOOdCk",
    "run_control": {
     "frozen": false,
     "read_only": false
    }
   },
   "source": [
    "from https://en.wikipedia.org/wiki/Andromeda_Galaxy get the extent of the luminous component of M31 (Andromeda). The distance of the Galaxy multiplied by the angular size will give you this information from basic trigonometry (make sure you convert the units properly, using astropy). Make sure you include the uncertainties! uncertainties in the distance will give you the uncertainty in the size\n",
    "   \n",
    " "
   ]
  },
  {
   "cell_type": "code",
   "execution_count": 5,
   "metadata": {
    "colab": {},
    "colab_type": "code",
    "id": "kvIFr6D778ri"
   },
   "outputs": [],
   "source": [
    "apparentSizeM31 = 3.167 #deg 3.167/2\n",
    "distanceM31 = 778 #kpc\n",
    "distanceM31_uncertainty = 33\n"
   ]
  },
  {
   "cell_type": "markdown",
   "metadata": {},
   "source": [
    "<span style=\"color:red\">**-0.1 pt: for using diameter not radius**</span>"
   ]
  },
  {
   "cell_type": "code",
   "execution_count": 6,
   "metadata": {
    "ExecuteTime": {
     "end_time": "2019-08-02T01:35:41.413407Z",
     "start_time": "2019-08-02T01:35:41.408764Z"
    },
    "colab": {
     "base_uri": "https://localhost:8080/",
     "height": 34
    },
    "colab_type": "code",
    "id": "tzGNh98hOdCl",
    "outputId": "a64d368d-3227-4362-e163-31c6d5e04191",
    "run_control": {
     "frozen": false,
     "read_only": false
    }
   },
   "outputs": [
    {
     "name": "stdout",
     "output_type": "stream",
     "text": [
      "Angular Size of the visible component of Andromeda: 0.05527 rad\n"
     ]
    }
   ],
   "source": [
    "# note : by PEP8 standards the import should be at the top, I leave it here for hyou to see that I am using astropy.units now\n",
    "from astropy import units as u\n",
    "m31angS = apparentSizeM31 * u.degree\n",
    "print(\"Angular Size of the visible component of Andromeda: {:.5f}\".format(m31angS.to(u.rad)  ))"
   ]
  },
  {
   "cell_type": "markdown",
   "metadata": {},
   "source": [
    "<span style=\"color:red\">**-0.1 pt: too much decimal digits: do not keep more digits than original data**</span>"
   ]
  },
  {
   "cell_type": "markdown",
   "metadata": {
    "colab_type": "text",
    "id": "cOw0Y4KNWTOZ"
   },
   "source": [
    "Please make sure you print a sensible number of decimal digits! you have a  number of significant digits set by the number of digit in the info you get from wikipedia"
   ]
  },
  {
   "cell_type": "markdown",
   "metadata": {
    "colab_type": "text",
    "id": "hF2wXZ988QgS"
   },
   "source": [
    "The distance, from Wikipedia, will have an uncertainty. Convert both to kiloparsecs Kpc"
   ]
  },
  {
   "cell_type": "code",
   "execution_count": 7,
   "metadata": {
    "ExecuteTime": {
     "end_time": "2019-08-02T01:35:42.257553Z",
     "start_time": "2019-08-02T01:35:42.254539Z"
    },
    "colab": {},
    "colab_type": "code",
    "id": "7-nEP6KrOdCo",
    "run_control": {
     "frozen": false,
     "read_only": false
    }
   },
   "outputs": [],
   "source": [
    "distanceM31 = (distanceM31 * u.kpc) \n",
    "distanceM31_uncertainty = (distanceM31_uncertainty * u.kpc)"
   ]
  },
  {
   "cell_type": "code",
   "execution_count": 8,
   "metadata": {
    "ExecuteTime": {
     "end_time": "2019-08-02T01:35:42.815232Z",
     "start_time": "2019-08-02T01:35:42.810316Z"
    },
    "colab": {
     "base_uri": "https://localhost:8080/",
     "height": 34
    },
    "colab_type": "code",
    "id": "0y_V9AuFOdCv",
    "outputId": "cdebd790-6096-4ae3-93b9-c5f8776f6ef5",
    "run_control": {
     "frozen": false,
     "read_only": false
    }
   },
   "outputs": [
    {
     "name": "stdout",
     "output_type": "stream",
     "text": [
      "Size of the visible component of Andromeda: 778 kpc +/- 33 kpc\n"
     ]
    }
   ],
   "source": [
    "#print(\"First measurement outside of the visible radius:\")\n",
    "#round(m31[m31.r > m31size].r.values[0], 2) * u.kpc\n",
    "\n",
    "print(\"Size of the visible component of Andromeda: {:.0f}\".format(distanceM31) , \"+/- {:.0f}\".format(distanceM31_uncertainty) )"
   ]
  },
  {
   "cell_type": "markdown",
   "metadata": {
    "colab_type": "text",
    "id": "_pTXgdTL8jv6"
   },
   "source": [
    "Print the distance like I printed the angular size. \n",
    "\n",
    "To get the physical size of the visible component of andtomeda you can use simple trigonometry: $y = r * sin(\\alpha) ~ \\sim ~ r \\alpha $ for small angles \n",
    "\n",
    "\n",
    "Print the physical size of the Andromeda galaxy (remember decimal digits, proper formatting etc etc). \n"
   ]
  },
  {
   "cell_type": "code",
   "execution_count": 9,
   "metadata": {
    "colab": {},
    "colab_type": "code",
    "id": "1PGbvfRIkHLe"
   },
   "outputs": [],
   "source": [
    "physical_size_m31 = (distanceM31 * m31angS.to(u.rad)) / u.rad\n",
    "physical_size_m31_uncertainty = (distanceM31_uncertainty * m31angS.to(u.rad)) / u.rad"
   ]
  },
  {
   "cell_type": "code",
   "execution_count": 10,
   "metadata": {
    "colab": {
     "base_uri": "https://localhost:8080/",
     "height": 34
    },
    "colab_type": "code",
    "id": "Mc0jwM8lmYxv",
    "outputId": "03c68283-7347-494a-a7ca-b72e56b2b381"
   },
   "outputs": [
    {
     "name": "stdout",
     "output_type": "stream",
     "text": [
      "Physical Size of Andromeda: 43.0 kpc +/- 1.8 kpc\n"
     ]
    }
   ],
   "source": [
    "print(\"Physical Size of Andromeda: {:.1f}\".format(physical_size_m31), \"+/- {:.1f}\".format(physical_size_m31_uncertainty))"
   ]
  },
  {
   "cell_type": "markdown",
   "metadata": {
    "colab_type": "text",
    "id": "97o52hRhOdCy",
    "run_control": {
     "frozen": false,
     "read_only": false
    }
   },
   "source": [
    "### find the first measurement  in your data table that includes all the luminous mass. \n",
    "\n",
    "What is the smallest radius in your data where the luminous mass is completely included and what is the veolcity at that radius?\n",
    "You can do it by broadcasting (see homework 3)"
   ]
  },
  {
   "cell_type": "markdown",
   "metadata": {},
   "source": [
    "<span style=\"color:red\">**-0.25 pt: for missing the code**</span>"
   ]
  },
  {
   "cell_type": "markdown",
   "metadata": {
    "colab_type": "text",
    "id": "TVWiU84XOdDA",
    "run_control": {
     "frozen": false,
     "read_only": false
    }
   },
   "source": [
    "We expect the velocity to decrease as 1/r if all mass is included: the velocity at a radius twice as far as the radius that includes all the mass should be a factor 2 slower, three times as far a factor 3 slower. "
   ]
  },
  {
   "cell_type": "markdown",
   "metadata": {
    "colab_type": "text",
    "id": "b096Ax33SiXl"
   },
   "source": [
    "write a function that \n",
    "\n",
    "1. finds the smallest radius in the dataset that is at least N times the radius of the visible galaxy, \n",
    "\n",
    "2. takes as arguments:\n",
    "    - the data and \n",
    "    - N \n",
    "    - the size of the luminous component of the galaxy\n",
    " \n",
    "2. Returns the value of the radius and its uncertainty and the velocity and its uncertainty"
   ]
  },
  {
   "cell_type": "code",
   "execution_count": 11,
   "metadata": {
    "ExecuteTime": {
     "end_time": "2019-08-02T02:07:26.053511Z",
     "start_time": "2019-08-02T02:07:26.046677Z"
    },
    "colab": {},
    "colab_type": "code",
    "id": "-_O34Bb7OdC2",
    "run_control": {
     "frozen": false,
     "read_only": false
    }
   },
   "outputs": [],
   "source": [
    "def getradii(gal, gsize, n):\n",
    "  #Parameters: \n",
    "  #gal (type DataFrame): holds data collected on the masses within a galaxy\n",
    "  #gsize (type int or float): holds size of the galaxy whose data was collected\n",
    "  #n (type int): holds how many radii (or gsize) we are away from the galaxy\n",
    "  #\n",
    "  # In this function we remove any data smaller than n*radius of the visible\n",
    "  # galaxy\n",
    "  # and calculates the standard deviation of the radii based on the \n",
    "  # standard deviation of the velocity\n",
    "  #\n",
    "  #Returns:\n",
    "  #radius (type array of floats): holds all radii greater than or equal to \n",
    "  # n * the given radius\n",
    "  #dr (type array of floats): holds standard deviation of radius corresponding\n",
    "  #to the returned radii\n",
    "  #velocity (type array of floats): holds velocity coresponding to the radii\n",
    "  #dv (type array of floats): holds standard deviation of velocity corresponding\n",
    "  #to the returned radii\n",
    "  #error (type array of floats): holds standard error corresponding to the \n",
    "  #returned radii\n",
    "  radius, velocity, dv, error = gal[gal['r'] >= (n * (gsize))].iloc[0]\n",
    "  dr = abs(-2) * pow(velocity,-3) * dv\n",
    "  \n",
    "  return radius, dr, velocity, dv, error"
   ]
  },
  {
   "cell_type": "markdown",
   "metadata": {
    "ExecuteTime": {
     "end_time": "2019-08-01T18:13:58.231637Z",
     "start_time": "2019-08-01T18:13:58.229447Z"
    },
    "colab_type": "text",
    "id": "ogu_iquzOdC5",
    "run_control": {
     "frozen": false,
     "read_only": false
    }
   },
   "source": [
    "### data visualization"
   ]
  },
  {
   "cell_type": "markdown",
   "metadata": {
    "colab_type": "text",
    "id": "kJ6MujVJUyel"
   },
   "source": [
    "make a plot that shows\n",
    "\n",
    "1. the rotational curve of the galaxy (as a line)\n",
    "\n",
    "2. each velocity as an errorbar with error equal to err in the same color as the line in 1\n",
    "\n",
    "3. each velocity as an errorbar with error equal to dv in  the same color but a different line thickness\n",
    "\n",
    "\n",
    "4. the datapoint corresponding to N=1, 2, 3 each in a different color. \n",
    "\n",
    "5. add a legend that indicates the meaning of each color (```pl.legend()```)\n",
    "\n",
    "6. add a text that indicates the velocity and its uncertainty (dv and err) just below the largest errorbar (```pl.text()```)\n",
    "\n",
    "7. limit the x axis to the \"relevant\" portion of the data"
   ]
  },
  {
   "cell_type": "code",
   "execution_count": 12,
   "metadata": {
    "ExecuteTime": {
     "end_time": "2019-08-02T03:01:27.556063Z",
     "start_time": "2019-08-02T03:01:27.302184Z"
    },
    "colab": {
     "base_uri": "https://localhost:8080/",
     "height": 283
    },
    "colab_type": "code",
    "id": "7IMXYY8BOdC6",
    "outputId": "c8fad51e-1756-4ef2-9a58-be721cde039d",
    "run_control": {
     "frozen": false,
     "read_only": false
    }
   },
   "outputs": [
    {
     "data": {
      "image/png": "[encoded data removed]",
      "text/plain": [
       "<Figure size 432x288 with 1 Axes>"
      ]
     },
     "metadata": {
      "needs_background": "light"
     },
     "output_type": "display_data"
    }
   ],
   "source": [
    "m31Rds = physical_size_m31/2\n",
    "#Note: the size is being divded by 2 so we use the radius NOT the diameter\n",
    "def plotGal(gal, rds):\n",
    "  #Parameters:\n",
    "  #gal (type DataFrame): collected data on the velocity of masses orbitting \n",
    "  #around a galaxy for a given radius\n",
    "  #rds (type int or float): radius of the galaxy for whom the data was collected\n",
    "  #\n",
    "  #This function plots the data passed in gal. \n",
    "  #\n",
    "  #Returns:\n",
    "  #None\n",
    "    plt.errorbar(gal['r'],gal['v'],yerr = gal['err'],label = \"velocity\")\n",
    "    plt.errorbar(gal['r'],gal['v'],yerr = gal['dv'], c = 'C0', label = None)\n",
    "    colors = ['C1','C2','C3']\n",
    "    labels = ['1 radius','2 radius','3 radius']\n",
    "    for n in range(1,4):\n",
    "      radius, dr, velocity, dv, error = getradii(gal,rds,n)\n",
    "      string1 = \"v: \" + \"{0:.1f}\".format(velocity)\n",
    "      string2 = \"dv: \" + \"{0:.1f}\".format(dv)\n",
    "      plt.errorbar(radius,velocity,yerr = dv , c = colors[n-1],label = labels[n-1])\n",
    "      plt.errorbar(radius,velocity,yerr = error, c = 'k')\n",
    "      plt.text(radius-9,velocity-dv-30, string1)\n",
    "      plt.text(radius-10,velocity-dv-60, string2)\n",
    "    plt.xlim(0,100)\n",
    "    plt.ylim(0,500)\n",
    "    plt.xlabel(\"Radius (kpc)\")\n",
    "    plt.ylabel(\"Velocity (km/s)\")\n",
    "    plt.legend()\n",
    "plotGal(m31, m31Rds)"
   ]
  },
  {
   "cell_type": "markdown",
   "metadata": {
    "colab_type": "text",
    "id": "QEFT3CMfavJs"
   },
   "source": [
    "This plot shows the expected velocity of a mass as a function of radius as it orbits within the Andromeda galaxy."
   ]
  },
  {
   "cell_type": "markdown",
   "metadata": {
    "colab_type": "text",
    "id": "bIbv3YrhTo0X"
   },
   "source": [
    "Write a function that for a given dataset and a given luminous radius and a given N \n",
    "  \n",
    "  1) uses the function above to find the radius at least as large as needed and the velocity at that radius, \n",
    "  \n",
    "  2) states the expected drop in rotational velocities according to Newton's law $v\\propto 1/\\sqrt(r)$\n",
    "  \n",
    "  3) calculates the ratio of radii and the ratio of velocities at N radii from the center N=1 and N=N (input, e.g. 2, 3 etc) with uncertainties, \n",
    "  \n",
    "  4) and stated whether that ratio is consistent within the uncertainties with Newton's law $v \\propto 1/\\sqrt(r)$\n",
    "  \n",
    "Your function should print \n",
    "\n",
    "     - the expected ratio based on the radii, \n",
    "     - the calculated ratio using ```dv```, and its uncertainty, - \n",
    "     - the 3-$\\sigma$ upper and lower limits of the calculated ratio\n",
    "     - whether the expected ratio is within the $3-\\sigma$ of the calculated ratio, \n",
    "  5) and the same using ```err```  instead of ```dv```"
   ]
  },
  {
   "cell_type": "code",
   "execution_count": 13,
   "metadata": {
    "ExecuteTime": {
     "end_time": "2019-08-02T02:22:18.485172Z",
     "start_time": "2019-08-02T02:22:18.477807Z"
    },
    "colab": {
     "base_uri": "https://localhost:8080/",
     "height": 714
    },
    "colab_type": "code",
    "id": "1hhTw8N4OdDB",
    "outputId": "474e71d4-c7ee-4b07-a517-1250780e18cc",
    "run_control": {
     "frozen": false,
     "read_only": false
    }
   },
   "outputs": [
    {
     "name": "stdout",
     "output_type": "stream",
     "text": [
      "\u001b[1mUsing the Standard Deviation\u001b[0m\n",
      "\n",
      "The expected velocity based on the radius is 8.3\n",
      "The actual velocity is 237.1 ± 218.8\n",
      "The expected expected ratio based on the radius is 22.2\n",
      "The 2-σ lower and upper limits for the calculated ratio are (0.4, 10.0)\n",
      "The expected ratio IS NOT within 2-σ of the calculated ratio\n",
      "\n",
      "The expected velocity based on the radius is 5.8\n",
      "The actual velocity is 213.0 ± 264.9\n",
      "The expected expected ratio based on the radius is 31.9\n",
      "The 2-σ lower and upper limits for the calculated ratio are (0.4, 61.3)\n",
      "The expected ratio IS within 2-σ of the calculated ratio\n",
      "\n",
      "The expected velocity based on the radius is 4.8\n",
      "The actual velocity is 177.5 ± 163.5\n",
      "The expected expected ratio based on the radius is 38.3\n",
      "The 2-σ lower and upper limits for the calculated ratio are (0.5, 13.1)\n",
      "The expected ratio IS NOT within 2-σ of the calculated ratio\n",
      "\n",
      "---------------------------------------------------------------------------------------------------\n",
      "\u001b[1mUsing the Standard Error\u001b[0m\n",
      "\n",
      "The expected velocity based on the radius is 8.3\n",
      "The actual velocity is 237.1 ± 47.8\n",
      "The expected expected ratio based on the radius is 22.2\n",
      "The 2-σ lower and upper limits for the calculated ratio are (0.6, 1.0)\n",
      "The expected ratio IS NOT within 2-σ of the calculated ratio\n",
      "\n",
      "The expected velocity based on the radius is 5.8\n",
      "The actual velocity is 213.0 ± 58.6\n",
      "The expected expected ratio based on the radius is 31.9\n",
      "The 2-σ lower and upper limits for the calculated ratio are (0.7, 1.2)\n",
      "The expected ratio IS NOT within 2-σ of the calculated ratio\n",
      "\n",
      "The expected velocity based on the radius is 4.8\n",
      "The actual velocity is 177.5 ± 33.3\n",
      "The expected expected ratio based on the radius is 38.3\n",
      "The 2-σ lower and upper limits for the calculated ratio are (0.9, 1.3)\n",
      "The expected ratio IS NOT within 2-σ of the calculated ratio\n",
      "\n"
     ]
    }
   ],
   "source": [
    "def vratios(gal, rds, N, err='dv'):\n",
    "  #Paramters:\n",
    "  #gal (type DataFrame): data of velocities of a mass as a function of distance\n",
    "  #from galaxy's center\n",
    "  #rds (type int or float): radius of galaxy that the data was collected for\n",
    "  #N (type int): number of radius away from galaxy's center\n",
    "  #err (type string): controls if we use standard deviation or standard error\n",
    "  #in any and all calculations made\n",
    "  #\n",
    "  #This function calculates the expected velocity ratio based on distance from \n",
    "  #galaxy's center using Newton's Second Law, and compares it to the actual\n",
    "  #velocity ratio from the data collected.\n",
    "  #Then prints whether the data is or is not within 2sigma of the distribution\n",
    "  #\n",
    "  #Returns:\n",
    "  #None\n",
    "  radius, dr, velocity, dv, error = getradii(gal,rds,N)\n",
    "  radius_gal , velocity_gal = gal.iloc[0][:2]\n",
    "  if (err == \"stderror\"):\n",
    "    dv = error\n",
    "  \n",
    "  radius_ratio = radius / radius_gal\n",
    "  expected_v  = velocity_gal / (radius_ratio**(1/2))\n",
    "  expected_ratio = velocity_gal / expected_v\n",
    "  \n",
    "  upper_limit = velocity + 2*dv\n",
    "  lower_limit = velocity - 2*dv\n",
    "  \n",
    "  upper_ratio = velocity_gal / max(lower_limit, 3)\n",
    "  lower_ratio = velocity_gal / upper_limit\n",
    "  \n",
    "  print(\"The expected velocity based on the radius is %.1f\" % expected_v)\n",
    "  print(\"The actual velocity is %.1f \\u00B1 %.1f\" % (velocity, 2*dv))\n",
    "  print(\"The expected expected ratio based on the radius is %.1f\" % expected_ratio)  \n",
    "  print('The 2-\\u03C3 lower and upper limits for the calculated ratio are (%.1f, %.1f)' % (lower_ratio, upper_ratio))\n",
    "  message = \"IS NOT\"\n",
    "  if (lower_ratio < expected_ratio < upper_ratio):\n",
    "    message = \"IS\"\n",
    "  print(\"The expected ratio\", message, \"within 2-\\u03C3 of the calculated ratio\")\n",
    "  \n",
    "print(\"\\033[1mUsing the Standard Deviation\\033[0m\\n\")\n",
    "for n in range(1, 4):\n",
    "  vratios(m31, physical_size_m31, n)\n",
    "  print()\n",
    "  \n",
    "print(\"---------------------------------------------------------------------------------------------------\")\n",
    "print(\"\\033[1mUsing the Standard Error\\033[0m\\n\")\n",
    "for n in range(1, 4):\n",
    "  vratios(m31, physical_size_m31, n, 'stderror')\n",
    "  print()  "
   ]
  },
  {
   "cell_type": "markdown",
   "metadata": {},
   "source": [
    "<span style=\"color:red\">**-0.25 pt: check your velocity and ratio computation code and code should use ratio of v not v itself**</span>"
   ]
  },
  {
   "cell_type": "markdown",
   "metadata": {
    "ExecuteTime": {
     "end_time": "2019-08-02T00:36:41.637045Z",
     "start_time": "2019-08-02T00:36:41.634825Z"
    },
    "colab_type": "text",
    "id": "6me5k4c1OdDY",
    "run_control": {
     "frozen": false,
     "read_only": false
    }
   },
   "source": [
    "### Discuss!"
   ]
  },
  {
   "cell_type": "markdown",
   "metadata": {
    "colab_type": "text",
    "id": "bo04DYsBKGfc"
   },
   "source": [
    "In most cases when using Standard Deviation and Standard Error the expected velocity ratio fell outside of the 2 sigma range of the calculated ratio. This tells us that the model being used should most likely be discarded, and that Newton has failed us. With this information it is reasonable to begin theorizing that there is something we do not know about our universe, which is where the theory for dark matter comes into play. \n",
    "\n",
    "It is worth noting that for n = 2 when using the Standard Deviation our expected ratio was within 2 sigma of the calculated ratio, but this is meaningless because the Standard Deviation is bigger than the calculated velocity in that case. "
   ]
  },
  {
   "cell_type": "markdown",
   "metadata": {
    "colab_type": "text",
    "id": "QIHRn8UlOdDZ",
    "run_control": {
     "frozen": false,
     "read_only": false
    }
   },
   "source": [
    "## do the same for the Milky Way. If your functions were create properly you should be able to reuse them seamlessly"
   ]
  },
  {
   "cell_type": "code",
   "execution_count": 14,
   "metadata": {
    "colab": {},
    "colab_type": "code",
    "id": "NVp9cJzv-Dic"
   },
   "outputs": [],
   "source": [
    "physical_size_mw = 53.5 * u.kpc\n",
    "physical_size_mw_uncertainty = 7.5 * u.kpc"
   ]
  },
  {
   "cell_type": "code",
   "execution_count": 15,
   "metadata": {
    "colab": {
     "base_uri": "https://localhost:8080/",
     "height": 34
    },
    "colab_type": "code",
    "id": "YNQUy0aXNeuw",
    "outputId": "c13acc16-ae5e-41ff-bc91-03146f04b460"
   },
   "outputs": [
    {
     "name": "stdout",
     "output_type": "stream",
     "text": [
      "Physical Size of The Milky Way: 53.5 kpc +/- 7.5 kpc\n"
     ]
    }
   ],
   "source": [
    "print(\"Physical Size of The Milky Way: {:.1f}\".format(physical_size_mw), \"+/- {:.1f}\".format(physical_size_mw_uncertainty))"
   ]
  },
  {
   "cell_type": "code",
   "execution_count": 16,
   "metadata": {
    "colab": {
     "base_uri": "https://localhost:8080/",
     "height": 204
    },
    "colab_type": "code",
    "id": "FPxoNexjN1S9",
    "outputId": "e00722df-4727-497a-caa2-510cabcdb18d"
   },
   "outputs": [
    {
     "data": {
      "text/html": [
       "<div>\n",
       "<style scoped>\n",
       "    .dataframe tbody tr th:only-of-type {\n",
       "        vertical-align: middle;\n",
       "    }\n",
       "\n",
       "    .dataframe tbody tr th {\n",
       "        vertical-align: top;\n",
       "    }\n",
       "\n",
       "    .dataframe thead th {\n",
       "        text-align: right;\n",
       "    }\n",
       "</style>\n",
       "<table border=\"1\" class=\"dataframe\">\n",
       "  <thead>\n",
       "    <tr style=\"text-align: right;\">\n",
       "      <th></th>\n",
       "      <th>r</th>\n",
       "      <th>v</th>\n",
       "      <th>dv</th>\n",
       "      <th>err</th>\n",
       "    </tr>\n",
       "  </thead>\n",
       "  <tbody>\n",
       "    <tr>\n",
       "      <td>0</td>\n",
       "      <td>0.010</td>\n",
       "      <td>119.061</td>\n",
       "      <td>41.832</td>\n",
       "      <td>32.714</td>\n",
       "    </tr>\n",
       "    <tr>\n",
       "      <td>1</td>\n",
       "      <td>0.012</td>\n",
       "      <td>115.268</td>\n",
       "      <td>35.199</td>\n",
       "      <td>17.100</td>\n",
       "    </tr>\n",
       "    <tr>\n",
       "      <td>2</td>\n",
       "      <td>0.014</td>\n",
       "      <td>117.392</td>\n",
       "      <td>35.152</td>\n",
       "      <td>14.429</td>\n",
       "    </tr>\n",
       "    <tr>\n",
       "      <td>3</td>\n",
       "      <td>0.017</td>\n",
       "      <td>118.475</td>\n",
       "      <td>35.252</td>\n",
       "      <td>14.870</td>\n",
       "    </tr>\n",
       "    <tr>\n",
       "      <td>4</td>\n",
       "      <td>0.021</td>\n",
       "      <td>110.386</td>\n",
       "      <td>33.817</td>\n",
       "      <td>14.427</td>\n",
       "    </tr>\n",
       "  </tbody>\n",
       "</table>\n",
       "</div>"
      ],
      "text/plain": [
       "       r        v      dv     err\n",
       "0  0.010  119.061  41.832  32.714\n",
       "1  0.012  115.268  35.199  17.100\n",
       "2  0.014  117.392  35.152  14.429\n",
       "3  0.017  118.475  35.252  14.870\n",
       "4  0.021  110.386  33.817  14.427"
      ]
     },
     "execution_count": 16,
     "metadata": {},
     "output_type": "execute_result"
    }
   ],
   "source": [
    "mw.rename(columns = {\"R(kpc)\" : \"r\", \"V(km/s)\" : \"v\", \"St.dev.\" : \"dv\", \"St.error\" : \"err\"},inplace = True)\n",
    "\n",
    "mw.head()"
   ]
  },
  {
   "cell_type": "code",
   "execution_count": 17,
   "metadata": {
    "colab": {
     "base_uri": "https://localhost:8080/",
     "height": 283
    },
    "colab_type": "code",
    "id": "GAW_aozYQa9Q",
    "outputId": "b41499c4-70f7-4786-97d6-5652932f19ca"
   },
   "outputs": [
    {
     "data": {
      "image/png": "[encoded data removed]",
      "text/plain": [
       "<Figure size 432x288 with 1 Axes>"
      ]
     },
     "metadata": {
      "needs_background": "light"
     },
     "output_type": "display_data"
    }
   ],
   "source": [
    "plotGal(mw, (physical_size_mw/2)) #note the size is being divided by 2 so that we use the radius NOT the diameter"
   ]
  },
  {
   "cell_type": "markdown",
   "metadata": {
    "colab_type": "text",
    "id": "rtXXO0avbCeG"
   },
   "source": [
    "This plot shows the expected velocity of a mass as a function of radius as it orbits within the Milky Way galaxy."
   ]
  },
  {
   "cell_type": "code",
   "execution_count": 18,
   "metadata": {
    "colab": {
     "base_uri": "https://localhost:8080/",
     "height": 714
    },
    "colab_type": "code",
    "id": "pGMcCkz9QiPr",
    "outputId": "4b0cc94f-ef6f-423c-a1be-d1508bc51579"
   },
   "outputs": [
    {
     "name": "stdout",
     "output_type": "stream",
     "text": [
      "\u001b[1mUsing the Standard Deviation\u001b[0m\n",
      "\n",
      "The expected velocity based on the radius is 1.5\n",
      "The actual velocity is 178.0 ± 94.0\n",
      "The expected expected ratio based on the radius is 79.5\n",
      "The 2-σ lower and upper limits for the calculated ratio are (0.4, 1.4)\n",
      "The expected ratio IS NOT within 2-σ of the calculated ratio\n",
      "\n",
      "The expected velocity based on the radius is 1.1\n",
      "The actual velocity is 155.4 ± 154.3\n",
      "The expected expected ratio based on the radius is 104.5\n",
      "The 2-σ lower and upper limits for the calculated ratio are (0.4, 39.7)\n",
      "The expected ratio IS NOT within 2-σ of the calculated ratio\n",
      "\n",
      "The expected velocity based on the radius is 0.9\n",
      "The actual velocity is 133.6 ± 330.2\n",
      "The expected expected ratio based on the radius is 137.4\n",
      "The 2-σ lower and upper limits for the calculated ratio are (0.3, 39.7)\n",
      "The expected ratio IS NOT within 2-σ of the calculated ratio\n",
      "\n",
      "---------------------------------------------------------------------------------------------------\n",
      "\u001b[1mUsing the Standard Error\u001b[0m\n",
      "\n",
      "The expected velocity based on the radius is 1.5\n",
      "The actual velocity is 178.0 ± 32.7\n",
      "The expected expected ratio based on the radius is 79.5\n",
      "The 2-σ lower and upper limits for the calculated ratio are (0.6, 0.8)\n",
      "The expected ratio IS NOT within 2-σ of the calculated ratio\n",
      "\n",
      "The expected velocity based on the radius is 1.1\n",
      "The actual velocity is 155.4 ± 57.0\n",
      "The expected expected ratio based on the radius is 104.5\n",
      "The 2-σ lower and upper limits for the calculated ratio are (0.6, 1.2)\n",
      "The expected ratio IS NOT within 2-σ of the calculated ratio\n",
      "\n",
      "The expected velocity based on the radius is 0.9\n",
      "The actual velocity is 133.6 ± 215.8\n",
      "The expected expected ratio based on the radius is 137.4\n",
      "The 2-σ lower and upper limits for the calculated ratio are (0.3, 39.7)\n",
      "The expected ratio IS NOT within 2-σ of the calculated ratio\n",
      "\n"
     ]
    }
   ],
   "source": [
    "print(\"\\033[1mUsing the Standard Deviation\\033[0m\\n\")\n",
    "for n in range(1, 4):\n",
    "  vratios(mw, physical_size_mw, n)\n",
    "  print()\n",
    "  \n",
    "print(\"---------------------------------------------------------------------------------------------------\")\n",
    "print(\"\\033[1mUsing the Standard Error\\033[0m\\n\")\n",
    "for n in range(1, 4):\n",
    "  vratios(mw, physical_size_mw, n, 'stderror')\n",
    "  print()  "
   ]
  },
  {
   "cell_type": "markdown",
   "metadata": {
    "colab_type": "text",
    "id": "PhoWLpIwaJBz"
   },
   "source": [
    "For the Milky Way all of the tests failed to fall within the 2 sigma range, and as concluded earlier the model we are using has proven to have problems, therefore the theory for Dark Matter has been supported. "
   ]
  },
  {
   "cell_type": "markdown",
   "metadata": {},
   "source": [
    "<span style=\"color:red\">**Due to the code issue you cannot get the right conclusion**</span>"
   ]
  }
 ],
 "metadata": {
  "colab": {
   "collapsed_sections": [],
   "include_colab_link": true,
   "name": "MWrotCurve.ipynb",
   "provenance": []
  },
  "kernelspec": {
   "display_name": "Python 3",
   "language": "python",
   "name": "python3"
  },
  "language_info": {
   "codemirror_mode": {
    "name": "ipython",
    "version": 3
   },
   "file_extension": ".py",
   "mimetype": "text/x-python",
   "name": "python",
   "nbconvert_exporter": "python",
   "pygments_lexer": "ipython3",
   "version": "3.6.8"
  },
  "nbTranslate": {
   "displayLangs": [
    "*"
   ],
   "hotkey": "alt-t",
   "langInMainMenu": true,
   "sourceLang": "en",
   "targetLang": "fr",
   "useGoogleTranslate": true
  },
  "toc": {
   "base_numbering": 1,
   "colors": {
    "hover_highlight": "#DAA520",
    "running_highlight": "#FF0000",
    "selected_highlight": "#FFD700"
   },
   "moveMenuLeft": true,
   "nav_menu": {},
   "navigate_menu": true,
   "number_sections": true,
   "sideBar": true,
   "skip_h1_title": false,
   "threshold": 4,
   "title_cell": "Table of Contents",
   "title_sidebar": "Contents",
   "toc_cell": false,
   "toc_position": {
    "height": "calc(100% - 180px)",
    "left": "10px",
    "top": "150px",
    "width": "165px"
   },
   "toc_section_display": true,
   "toc_window_display": true
  }
 },
 "nbformat": 4,
 "nbformat_minor": 1
}
