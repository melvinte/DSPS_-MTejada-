{
  "nbformat": 4,
  "nbformat_minor": 0,
  "metadata": {
    "colab": {
      "name": "HW5/BuildingsEnergyOwners.ipynb",
      "provenance": [],
      "collapsed_sections": [],
      "include_colab_link": true
    },
    "kernelspec": {
      "display_name": "Python 3",
      "language": "python",
      "name": "python3"
    },
    "language_info": {
      "codemirror_mode": {
        "name": "ipython",
        "version": 3
      },
      "file_extension": ".py",
      "mimetype": "text/x-python",
      "name": "python",
      "nbconvert_exporter": "python",
      "pygments_lexer": "ipython3",
      "version": "3.7.3"
    },
    "latex_envs": {
      "LaTeX_envs_menu_present": true,
      "autoclose": false,
      "autocomplete": true,
      "bibliofile": "biblio.bib",
      "cite_by": "apalike",
      "current_citInitial": 1,
      "eqLabelWithNumbers": true,
      "eqNumInitial": 1,
      "hotkeys": {
        "equation": "Ctrl-E",
        "itemize": "Ctrl-I"
      },
      "labels_anchors": false,
      "latex_user_defs": false,
      "report_style_numbering": false,
      "user_envs_cfg": false
    },
    "nbTranslate": {
      "displayLangs": [
        "*"
      ],
      "hotkey": "alt-t",
      "langInMainMenu": true,
      "sourceLang": "en",
      "targetLang": "fr",
      "useGoogleTranslate": true
    },
    "toc": {
      "base_numbering": 1,
      "nav_menu": {},
      "number_sections": true,
      "sideBar": true,
      "skip_h1_title": false,
      "title_cell": "Table of Contents",
      "title_sidebar": "Contents",
      "toc_cell": false,
      "toc_position": {},
      "toc_section_display": true,
      "toc_window_display": false
    }
  },
  "cells": [
    {
      "cell_type": "markdown",
      "metadata": {
        "id": "view-in-github",
        "colab_type": "text"
      },
      "source": [
        "<a href=\"https://colab.research.google.com/github/melvinte/DSPS_mtejada/blob/master/HW5_BuildingsEnergyOwners.ipynb\" target=\"_parent\"><img src=\"https://colab.research.google.com/assets/colab-badge.svg\" alt=\"Open In Colab\"/></a>"
      ]
    },
    {
      "cell_type": "code",
      "metadata": {
        "colab_type": "code",
        "id": "mwsn7ih7RWle",
        "outputId": "fdaf66be-d53e-4397-dd9d-deb1fa00d73e",
        "colab": {
          "base_uri": "https://localhost:8080/",
          "height": 122
        }
      },
      "source": [
        "# -- link google drive\n",
        "from google.colab import drive\n",
        "drive.mount(\"/content/drive\")\n",
        "#Note: this was commented out because at times i need to re run all my cells\n",
        "#and redoing this action was hurting the performance"
      ],
      "execution_count": 1,
      "outputs": [
        {
          "output_type": "stream",
          "text": [
            "Go to this URL in a browser: https://accounts.google.com/o/oauth2/auth?client_id=947318989803-6bn6qk8qdgf4n4g3pfee6491hc0brc4i.apps.googleusercontent.com&redirect_uri=urn%3Aietf%3Awg%3Aoauth%3A2.0%3Aoob&scope=email%20https%3A%2F%2Fwww.googleapis.com%2Fauth%2Fdocs.test%20https%3A%2F%2Fwww.googleapis.com%2Fauth%2Fdrive%20https%3A%2F%2Fwww.googleapis.com%2Fauth%2Fdrive.photos.readonly%20https%3A%2F%2Fwww.googleapis.com%2Fauth%2Fpeopleapi.readonly&response_type=code\n",
            "\n",
            "Enter your authorization code:\n",
            "··········\n",
            "Mounted at /content/drive\n"
          ],
          "name": "stdout"
        }
      ]
    },
    {
      "cell_type": "code",
      "metadata": {
        "ExecuteTime": {
          "end_time": "2019-09-24T21:52:47.068553Z",
          "start_time": "2019-09-24T21:52:47.065670Z"
        },
        "colab_type": "code",
        "id": "yav2dVuWJn_T",
        "colab": {}
      },
      "source": [
        "# -- useful imports\n",
        "import numpy as np\n",
        "import pandas as pd\n",
        "import matplotlib.pyplot as pl\n",
        "import scipy as sp\n",
        "from scipy import stats\n",
        "import os"
      ],
      "execution_count": 0,
      "outputs": []
    },
    {
      "cell_type": "code",
      "metadata": {
        "id": "j_gbjAIi_-0A",
        "colab_type": "code",
        "colab": {}
      },
      "source": [
        "#from google.colab import files"
      ],
      "execution_count": 0,
      "outputs": []
    },
    {
      "cell_type": "markdown",
      "metadata": {
        "id": "rCnUCueiY5Xt",
        "colab_type": "text"
      },
      "source": [
        "# data retrival\n",
        "### LL84\n",
        "get the Local Law 84 (ll84) data from the URL: https://data.cityofnewyork.us/api/views/8u86-bviy/rows.csv and read it in with Pandas\n",
        "\n",
        "### Pluto\n",
        "Download the pluto csv data and store it in your google drive. \n",
        "\n",
        "You can find the data here \n",
        "https://www1.nyc.gov/site/planning/data-maps/open-data/dwn-pluto-mappluto.page\n",
        "\n",
        "IMPORTANT: store it in the path *drive/My Drive/dsps/ with the name pluto_18v2_1.csv*\n",
        "\n",
        "This path and name have to be exact. This way the grader and I will be able to run your notebook without changing anything as long as we also have stored the data in path drive/My Drive/dsps/pluto_18v2_1.csv. This is part of the _reproducibility_ requirement."
      ]
    },
    {
      "cell_type": "code",
      "metadata": {
        "id": "TTdg_HOYSj03",
        "colab_type": "code",
        "colab": {}
      },
      "source": [
        "ll84_data = pd.read_csv(\"https://data.cityofnewyork.us/api/views/8u86-bviy/rows.csv\")"
      ],
      "execution_count": 0,
      "outputs": []
    },
    {
      "cell_type": "code",
      "metadata": {
        "id": "uM57MPiNSqzR",
        "colab_type": "code",
        "outputId": "37deb082-b591-4f66-a50c-bf6c868a551e",
        "colab": {
          "base_uri": "https://localhost:8080/",
          "height": 598
        }
      },
      "source": [
        "ll84_data.head()"
      ],
      "execution_count": 5,
      "outputs": [
        {
          "output_type": "execute_result",
          "data": {
            "text/html": [
              "<div>\n",
              "<style scoped>\n",
              "    .dataframe tbody tr th:only-of-type {\n",
              "        vertical-align: middle;\n",
              "    }\n",
              "\n",
              "    .dataframe tbody tr th {\n",
              "        vertical-align: top;\n",
              "    }\n",
              "\n",
              "    .dataframe thead th {\n",
              "        text-align: right;\n",
              "    }\n",
              "</style>\n",
              "<table border=\"1\" class=\"dataframe\">\n",
              "  <thead>\n",
              "    <tr style=\"text-align: right;\">\n",
              "      <th></th>\n",
              "      <th>Order</th>\n",
              "      <th>Property Id</th>\n",
              "      <th>Property Name</th>\n",
              "      <th>Parent Property Id</th>\n",
              "      <th>Parent Property Name</th>\n",
              "      <th>BBL - 10 digits</th>\n",
              "      <th>NYC Borough, Block and Lot (BBL) self-reported</th>\n",
              "      <th>NYC Building Identification Number (BIN)</th>\n",
              "      <th>Address 1 (self-reported)</th>\n",
              "      <th>Address 2</th>\n",
              "      <th>Postal Code</th>\n",
              "      <th>Street Number</th>\n",
              "      <th>Street Name</th>\n",
              "      <th>Borough</th>\n",
              "      <th>DOF Gross Floor Area</th>\n",
              "      <th>Primary Property Type - Self Selected</th>\n",
              "      <th>List of All Property Use Types at Property</th>\n",
              "      <th>Largest Property Use Type</th>\n",
              "      <th>Largest Property Use Type - Gross Floor Area (ft²)</th>\n",
              "      <th>2nd Largest Property Use Type</th>\n",
              "      <th>2nd Largest Property Use - Gross Floor Area (ft²)</th>\n",
              "      <th>3rd Largest Property Use Type</th>\n",
              "      <th>3rd Largest Property Use Type - Gross Floor Area (ft²)</th>\n",
              "      <th>Year Built</th>\n",
              "      <th>Number of Buildings - Self-reported</th>\n",
              "      <th>Occupancy</th>\n",
              "      <th>Metered Areas (Energy)</th>\n",
              "      <th>Metered Areas  (Water)</th>\n",
              "      <th>ENERGY STAR Score</th>\n",
              "      <th>Site EUI (kBtu/ft²)</th>\n",
              "      <th>Weather Normalized Site EUI (kBtu/ft²)</th>\n",
              "      <th>Weather Normalized Site Electricity Intensity (kWh/ft²)</th>\n",
              "      <th>Weather Normalized Site Natural Gas Intensity (therms/ft²)</th>\n",
              "      <th>Weather Normalized Source EUI (kBtu/ft²)</th>\n",
              "      <th>Fuel Oil #1 Use (kBtu)</th>\n",
              "      <th>Fuel Oil #2 Use (kBtu)</th>\n",
              "      <th>Fuel Oil #4 Use (kBtu)</th>\n",
              "      <th>Fuel Oil #5 &amp; 6 Use (kBtu)</th>\n",
              "      <th>Diesel #2 Use (kBtu)</th>\n",
              "      <th>District Steam Use (kBtu)</th>\n",
              "      <th>Natural Gas Use (kBtu)</th>\n",
              "      <th>Weather Normalized Site Natural Gas Use (therms)</th>\n",
              "      <th>Electricity Use - Grid Purchase (kBtu)</th>\n",
              "      <th>Weather Normalized Site Electricity (kWh)</th>\n",
              "      <th>Total GHG Emissions (Metric Tons CO2e)</th>\n",
              "      <th>Direct GHG Emissions (Metric Tons CO2e)</th>\n",
              "      <th>Indirect GHG Emissions (Metric Tons CO2e)</th>\n",
              "      <th>Property GFA - Self-Reported (ft²)</th>\n",
              "      <th>Water Use (All Water Sources) (kgal)</th>\n",
              "      <th>Water Intensity (All Water Sources) (gal/ft²)</th>\n",
              "      <th>Source EUI (kBtu/ft²)</th>\n",
              "      <th>Release Date</th>\n",
              "      <th>Water Required?</th>\n",
              "      <th>DOF Benchmarking Submission Status</th>\n",
              "      <th>Latitude</th>\n",
              "      <th>Longitude</th>\n",
              "      <th>Community Board</th>\n",
              "      <th>Council District</th>\n",
              "      <th>Census Tract</th>\n",
              "      <th>NTA</th>\n",
              "    </tr>\n",
              "  </thead>\n",
              "  <tbody>\n",
              "    <tr>\n",
              "      <th>0</th>\n",
              "      <td>1</td>\n",
              "      <td>13286</td>\n",
              "      <td>201/205</td>\n",
              "      <td>13286</td>\n",
              "      <td>201/205</td>\n",
              "      <td>1.013160e+09</td>\n",
              "      <td>1013160001</td>\n",
              "      <td>1037549</td>\n",
              "      <td>201/205  East  42nd  st.</td>\n",
              "      <td>Not Available</td>\n",
              "      <td>10017</td>\n",
              "      <td>675.0</td>\n",
              "      <td>3 AVENUE</td>\n",
              "      <td>Manhattan</td>\n",
              "      <td>289356.0</td>\n",
              "      <td>Office</td>\n",
              "      <td>Office</td>\n",
              "      <td>Office</td>\n",
              "      <td>293447.0</td>\n",
              "      <td>Not Available</td>\n",
              "      <td>Not Available</td>\n",
              "      <td>Not Available</td>\n",
              "      <td>Not Available</td>\n",
              "      <td>1963</td>\n",
              "      <td>2</td>\n",
              "      <td>100</td>\n",
              "      <td>Whole Building</td>\n",
              "      <td>Not Available</td>\n",
              "      <td>Not Available</td>\n",
              "      <td>305.6</td>\n",
              "      <td>303.1</td>\n",
              "      <td>37.8</td>\n",
              "      <td>Not Available</td>\n",
              "      <td>614.2</td>\n",
              "      <td>Not Available</td>\n",
              "      <td>Not Available</td>\n",
              "      <td>Not Available</td>\n",
              "      <td>Not Available</td>\n",
              "      <td>Not Available</td>\n",
              "      <td>5.15506751E7</td>\n",
              "      <td>Not Available</td>\n",
              "      <td>Not Available</td>\n",
              "      <td>38139374.2</td>\n",
              "      <td>1.10827705E7</td>\n",
              "      <td>6962.2</td>\n",
              "      <td>0.0</td>\n",
              "      <td>6962.2</td>\n",
              "      <td>762051</td>\n",
              "      <td>Not Available</td>\n",
              "      <td>Not Available</td>\n",
              "      <td>619.4</td>\n",
              "      <td>05/01/2017 05:32:03 PM</td>\n",
              "      <td>No</td>\n",
              "      <td>In Compliance</td>\n",
              "      <td>40.750791</td>\n",
              "      <td>-73.973963</td>\n",
              "      <td>6.0</td>\n",
              "      <td>4.0</td>\n",
              "      <td>88.0</td>\n",
              "      <td>Turtle Bay-East Midtown                       ...</td>\n",
              "    </tr>\n",
              "    <tr>\n",
              "      <th>1</th>\n",
              "      <td>2</td>\n",
              "      <td>28400</td>\n",
              "      <td>NYP Columbia (West Campus)</td>\n",
              "      <td>28400</td>\n",
              "      <td>NYP Columbia (West Campus)</td>\n",
              "      <td>1.021380e+09</td>\n",
              "      <td>1-02138-0040</td>\n",
              "      <td>1084198; 1084387;1084385; 1084386; 1084388; 10...</td>\n",
              "      <td>622 168th Street</td>\n",
              "      <td>Not Available</td>\n",
              "      <td>10032</td>\n",
              "      <td>180.0</td>\n",
              "      <td>FT WASHINGTON AVENUE</td>\n",
              "      <td>Manhattan</td>\n",
              "      <td>3693539.0</td>\n",
              "      <td>Hospital (General Medical &amp; Surgical)</td>\n",
              "      <td>Hospital (General Medical &amp; Surgical)</td>\n",
              "      <td>Hospital (General Medical &amp; Surgical)</td>\n",
              "      <td>3889181.0</td>\n",
              "      <td>Not Available</td>\n",
              "      <td>Not Available</td>\n",
              "      <td>Not Available</td>\n",
              "      <td>Not Available</td>\n",
              "      <td>1969</td>\n",
              "      <td>12</td>\n",
              "      <td>100</td>\n",
              "      <td>Whole Building</td>\n",
              "      <td>Whole Building</td>\n",
              "      <td>55</td>\n",
              "      <td>229.8</td>\n",
              "      <td>228.8</td>\n",
              "      <td>24.8</td>\n",
              "      <td>2.4</td>\n",
              "      <td>401.1</td>\n",
              "      <td>Not Available</td>\n",
              "      <td>1.96248472E7</td>\n",
              "      <td>Not Available</td>\n",
              "      <td>Not Available</td>\n",
              "      <td>Not Available</td>\n",
              "      <td>-3.914148026E8</td>\n",
              "      <td>933073441</td>\n",
              "      <td>9330734.4</td>\n",
              "      <td>332365924.0</td>\n",
              "      <td>9.62613121E7</td>\n",
              "      <td>55870.4</td>\n",
              "      <td>51016.4</td>\n",
              "      <td>4854.1</td>\n",
              "      <td>3889181</td>\n",
              "      <td>Not Available</td>\n",
              "      <td>Not Available</td>\n",
              "      <td>404.3</td>\n",
              "      <td>04/27/2017 11:23:27 AM</td>\n",
              "      <td>No</td>\n",
              "      <td>In Compliance</td>\n",
              "      <td>40.841402</td>\n",
              "      <td>-73.942568</td>\n",
              "      <td>12.0</td>\n",
              "      <td>10.0</td>\n",
              "      <td>251.0</td>\n",
              "      <td>Washington Heights South                      ...</td>\n",
              "    </tr>\n",
              "    <tr>\n",
              "      <th>2</th>\n",
              "      <td>3</td>\n",
              "      <td>4778226</td>\n",
              "      <td>MSCHoNY North</td>\n",
              "      <td>28400</td>\n",
              "      <td>NYP Columbia (West Campus)</td>\n",
              "      <td>1.021380e+09</td>\n",
              "      <td>1-02138-0030</td>\n",
              "      <td>1063380</td>\n",
              "      <td>3975 Broadway</td>\n",
              "      <td>Not Available</td>\n",
              "      <td>10032</td>\n",
              "      <td>3975.0</td>\n",
              "      <td>BROADWAY</td>\n",
              "      <td>Manhattan</td>\n",
              "      <td>152765.0</td>\n",
              "      <td>Hospital (General Medical &amp; Surgical)</td>\n",
              "      <td>Hospital (General Medical &amp; Surgical)</td>\n",
              "      <td>Hospital (General Medical &amp; Surgical)</td>\n",
              "      <td>231342.0</td>\n",
              "      <td>Not Available</td>\n",
              "      <td>Not Available</td>\n",
              "      <td>Not Available</td>\n",
              "      <td>Not Available</td>\n",
              "      <td>1924</td>\n",
              "      <td>1</td>\n",
              "      <td>100</td>\n",
              "      <td>Not Available</td>\n",
              "      <td>Not Available</td>\n",
              "      <td>Not Available</td>\n",
              "      <td>NaN</td>\n",
              "      <td>Not Available</td>\n",
              "      <td>Not Available</td>\n",
              "      <td>Not Available</td>\n",
              "      <td>Not Available</td>\n",
              "      <td>Not Available</td>\n",
              "      <td>Not Available</td>\n",
              "      <td>Not Available</td>\n",
              "      <td>Not Available</td>\n",
              "      <td>Not Available</td>\n",
              "      <td>Not Available</td>\n",
              "      <td>Not Available</td>\n",
              "      <td>Not Available</td>\n",
              "      <td>NaN</td>\n",
              "      <td>Not Available</td>\n",
              "      <td>0.0</td>\n",
              "      <td>0.0</td>\n",
              "      <td>0.0</td>\n",
              "      <td>231342</td>\n",
              "      <td>Not Available</td>\n",
              "      <td>Not Available</td>\n",
              "      <td>NaN</td>\n",
              "      <td>04/27/2017 11:23:27 AM</td>\n",
              "      <td>No</td>\n",
              "      <td>In Compliance</td>\n",
              "      <td>40.840427</td>\n",
              "      <td>-73.940249</td>\n",
              "      <td>12.0</td>\n",
              "      <td>10.0</td>\n",
              "      <td>251.0</td>\n",
              "      <td>Washington Heights South                      ...</td>\n",
              "    </tr>\n",
              "    <tr>\n",
              "      <th>3</th>\n",
              "      <td>4</td>\n",
              "      <td>4778267</td>\n",
              "      <td>Herbert Irving Pavilion &amp; Millstein Hospital</td>\n",
              "      <td>28400</td>\n",
              "      <td>NYP Columbia (West Campus)</td>\n",
              "      <td>1.021390e+09</td>\n",
              "      <td>1-02139-0001</td>\n",
              "      <td>1087281; 1076746</td>\n",
              "      <td>161 Fort Washington Ave</td>\n",
              "      <td>177 Fort Washington Ave</td>\n",
              "      <td>10032</td>\n",
              "      <td>161.0</td>\n",
              "      <td>FT WASHINGTON AVENUE</td>\n",
              "      <td>Manhattan</td>\n",
              "      <td>891040.0</td>\n",
              "      <td>Hospital (General Medical &amp; Surgical)</td>\n",
              "      <td>Hospital (General Medical &amp; Surgical)</td>\n",
              "      <td>Hospital (General Medical &amp; Surgical)</td>\n",
              "      <td>1305748.0</td>\n",
              "      <td>Not Available</td>\n",
              "      <td>Not Available</td>\n",
              "      <td>Not Available</td>\n",
              "      <td>Not Available</td>\n",
              "      <td>1971</td>\n",
              "      <td>1</td>\n",
              "      <td>100</td>\n",
              "      <td>Not Available</td>\n",
              "      <td>Not Available</td>\n",
              "      <td>Not Available</td>\n",
              "      <td>NaN</td>\n",
              "      <td>Not Available</td>\n",
              "      <td>Not Available</td>\n",
              "      <td>Not Available</td>\n",
              "      <td>Not Available</td>\n",
              "      <td>Not Available</td>\n",
              "      <td>Not Available</td>\n",
              "      <td>Not Available</td>\n",
              "      <td>Not Available</td>\n",
              "      <td>Not Available</td>\n",
              "      <td>Not Available</td>\n",
              "      <td>Not Available</td>\n",
              "      <td>Not Available</td>\n",
              "      <td>NaN</td>\n",
              "      <td>Not Available</td>\n",
              "      <td>0.0</td>\n",
              "      <td>0.0</td>\n",
              "      <td>0.0</td>\n",
              "      <td>1305748</td>\n",
              "      <td>Not Available</td>\n",
              "      <td>Not Available</td>\n",
              "      <td>NaN</td>\n",
              "      <td>04/27/2017 11:23:27 AM</td>\n",
              "      <td>No</td>\n",
              "      <td>In Compliance</td>\n",
              "      <td>40.840746</td>\n",
              "      <td>-73.942854</td>\n",
              "      <td>12.0</td>\n",
              "      <td>10.0</td>\n",
              "      <td>255.0</td>\n",
              "      <td>Washington Heights South                      ...</td>\n",
              "    </tr>\n",
              "    <tr>\n",
              "      <th>4</th>\n",
              "      <td>5</td>\n",
              "      <td>4778288</td>\n",
              "      <td>Neuro Institute</td>\n",
              "      <td>28400</td>\n",
              "      <td>NYP Columbia (West Campus)</td>\n",
              "      <td>1.021390e+09</td>\n",
              "      <td>1-02139-0085</td>\n",
              "      <td>1063403</td>\n",
              "      <td>710 West 168th Street</td>\n",
              "      <td>Not Available</td>\n",
              "      <td>10032</td>\n",
              "      <td>193.0</td>\n",
              "      <td>FT WASHINGTON AVENUE</td>\n",
              "      <td>Manhattan</td>\n",
              "      <td>211400.0</td>\n",
              "      <td>Hospital (General Medical &amp; Surgical)</td>\n",
              "      <td>Hospital (General Medical &amp; Surgical)</td>\n",
              "      <td>Hospital (General Medical &amp; Surgical)</td>\n",
              "      <td>179694.0</td>\n",
              "      <td>Not Available</td>\n",
              "      <td>Not Available</td>\n",
              "      <td>Not Available</td>\n",
              "      <td>Not Available</td>\n",
              "      <td>1932</td>\n",
              "      <td>1</td>\n",
              "      <td>100</td>\n",
              "      <td>Not Available</td>\n",
              "      <td>Not Available</td>\n",
              "      <td>Not Available</td>\n",
              "      <td>NaN</td>\n",
              "      <td>Not Available</td>\n",
              "      <td>Not Available</td>\n",
              "      <td>Not Available</td>\n",
              "      <td>Not Available</td>\n",
              "      <td>Not Available</td>\n",
              "      <td>Not Available</td>\n",
              "      <td>Not Available</td>\n",
              "      <td>Not Available</td>\n",
              "      <td>Not Available</td>\n",
              "      <td>Not Available</td>\n",
              "      <td>Not Available</td>\n",
              "      <td>Not Available</td>\n",
              "      <td>NaN</td>\n",
              "      <td>Not Available</td>\n",
              "      <td>0.0</td>\n",
              "      <td>0.0</td>\n",
              "      <td>0.0</td>\n",
              "      <td>179694</td>\n",
              "      <td>Not Available</td>\n",
              "      <td>Not Available</td>\n",
              "      <td>NaN</td>\n",
              "      <td>04/27/2017 11:23:27 AM</td>\n",
              "      <td>No</td>\n",
              "      <td>In Compliance</td>\n",
              "      <td>40.841559</td>\n",
              "      <td>-73.942528</td>\n",
              "      <td>12.0</td>\n",
              "      <td>10.0</td>\n",
              "      <td>255.0</td>\n",
              "      <td>Washington Heights South                      ...</td>\n",
              "    </tr>\n",
              "  </tbody>\n",
              "</table>\n",
              "</div>"
            ],
            "text/plain": [
              "   Order  ...                                                NTA\n",
              "0      1  ...  Turtle Bay-East Midtown                       ...\n",
              "1      2  ...  Washington Heights South                      ...\n",
              "2      3  ...  Washington Heights South                      ...\n",
              "3      4  ...  Washington Heights South                      ...\n",
              "4      5  ...  Washington Heights South                      ...\n",
              "\n",
              "[5 rows x 60 columns]"
            ]
          },
          "metadata": {
            "tags": []
          },
          "execution_count": 5
        }
      ]
    },
    {
      "cell_type": "code",
      "metadata": {
        "id": "b4cIm2t7dWer",
        "colab_type": "code",
        "outputId": "032c8e55-9836-44e8-f9f5-aa9fb12c4904",
        "colab": {
          "base_uri": "https://localhost:8080/",
          "height": 34
        }
      },
      "source": [
        "ll84_data.shape"
      ],
      "execution_count": 6,
      "outputs": [
        {
          "output_type": "execute_result",
          "data": {
            "text/plain": [
              "(11746, 60)"
            ]
          },
          "metadata": {
            "tags": []
          },
          "execution_count": 6
        }
      ]
    },
    {
      "cell_type": "code",
      "metadata": {
        "id": "VtkNYopZS0ol",
        "colab_type": "code",
        "colab": {}
      },
      "source": [
        "ls \"drive/My Drive\""
      ],
      "execution_count": 0,
      "outputs": []
    },
    {
      "cell_type": "code",
      "metadata": {
        "id": "0malVMwTUwa8",
        "colab_type": "code",
        "colab": {}
      },
      "source": [
        "#mkdir \"drive/My Drive/dsps\"\n",
        "#Note: this was commented out because at times i need to re run all my cells\n",
        "#and redoing this action was hurting the performance"
      ],
      "execution_count": 0,
      "outputs": []
    },
    {
      "cell_type": "code",
      "metadata": {
        "id": "F9tp5rVcTMcD",
        "colab_type": "code",
        "outputId": "914142ca-f1cd-46f2-cbc5-8e8d7e012917",
        "colab": {
          "base_uri": "https://localhost:8080/",
          "height": 34
        }
      },
      "source": [
        "ls \"drive/My Drive/dsps\""
      ],
      "execution_count": 8,
      "outputs": [
        {
          "output_type": "stream",
          "text": [
            "nyc_pluto_19v1_csv.zip  pluto_18v2_1.csv  PLUTODD19v1.pdf  PlutoReadme19v1.pdf\n"
          ],
          "name": "stdout"
        }
      ]
    },
    {
      "cell_type": "code",
      "metadata": {
        "id": "CbCtM9rTDKOf",
        "colab_type": "code",
        "colab": {}
      },
      "source": [
        "#!wget https://www1.nyc.gov/assets/planning/download/zip/data-maps/open-data/nyc_pluto_19v1_csv.zip\n",
        "#Note: this was commented out because at times i need to re run all my cells\n",
        "#and redoing this action was hurting the performance"
      ],
      "execution_count": 0,
      "outputs": []
    },
    {
      "cell_type": "code",
      "metadata": {
        "id": "ynt0H5TADZJ6",
        "colab_type": "code",
        "outputId": "0ca43963-e7d0-4a17-a55c-0dda380f8fbe",
        "colab": {
          "base_uri": "https://localhost:8080/",
          "height": 85
        }
      },
      "source": [
        "#!unzip nyc_pluto_19v1_csv.zip"
      ],
      "execution_count": 0,
      "outputs": [
        {
          "output_type": "stream",
          "text": [
            "Archive:  nyc_pluto_19v1_csv.zip\n",
            "  inflating: pluto_19v1.csv          \n",
            "  inflating: PLUTODD19v1.pdf         \n",
            "  inflating: PlutoReadme19v1.pdf     \n"
          ],
          "name": "stdout"
        }
      ]
    },
    {
      "cell_type": "code",
      "metadata": {
        "id": "2wygfzktFXIF",
        "colab_type": "code",
        "outputId": "48acbc01-82e2-4da4-e831-ccec0b78bc4a",
        "colab": {
          "base_uri": "https://localhost:8080/",
          "height": 34
        }
      },
      "source": [
        "cd \"drive/My Drive/dsps\""
      ],
      "execution_count": 9,
      "outputs": [
        {
          "output_type": "stream",
          "text": [
            "/content/drive/My Drive/dsps\n"
          ],
          "name": "stdout"
        }
      ]
    },
    {
      "cell_type": "code",
      "metadata": {
        "id": "wWjNRUoHBZ-W",
        "colab_type": "code",
        "colab": {
          "base_uri": "https://localhost:8080/",
          "height": 34
        },
        "outputId": "d782e164-8a55-4a60-c1fd-afd6bced0575"
      },
      "source": [
        "ls"
      ],
      "execution_count": 10,
      "outputs": [
        {
          "output_type": "stream",
          "text": [
            "nyc_pluto_19v1_csv.zip  pluto_18v2_1.csv  PLUTODD19v1.pdf  PlutoReadme19v1.pdf\n"
          ],
          "name": "stdout"
        }
      ]
    },
    {
      "cell_type": "code",
      "metadata": {
        "id": "TAm0cablFhaY",
        "colab_type": "code",
        "outputId": "ffa6424a-45ce-44e6-e469-ef451453c454",
        "colab": {
          "base_uri": "https://localhost:8080/",
          "height": 71
        }
      },
      "source": [
        "pluto_data = pd.read_csv(\"pluto_18v2_1.csv\")"
      ],
      "execution_count": 11,
      "outputs": [
        {
          "output_type": "stream",
          "text": [
            "/usr/local/lib/python3.6/dist-packages/IPython/core/interactiveshell.py:2718: DtypeWarning: Columns (16,17,18,20,22) have mixed types. Specify dtype option on import or set low_memory=False.\n",
            "  interactivity=interactivity, compiler=compiler, result=result)\n"
          ],
          "name": "stderr"
        }
      ]
    },
    {
      "cell_type": "code",
      "metadata": {
        "id": "kFX7Qvc2G6WV",
        "colab_type": "code",
        "outputId": "3b59dce2-21ac-49dc-c777-00adde819c6c",
        "colab": {
          "base_uri": "https://localhost:8080/",
          "height": 440
        }
      },
      "source": [
        "pluto_data.head()"
      ],
      "execution_count": 12,
      "outputs": [
        {
          "output_type": "execute_result",
          "data": {
            "text/html": [
              "<div>\n",
              "<style scoped>\n",
              "    .dataframe tbody tr th:only-of-type {\n",
              "        vertical-align: middle;\n",
              "    }\n",
              "\n",
              "    .dataframe tbody tr th {\n",
              "        vertical-align: top;\n",
              "    }\n",
              "\n",
              "    .dataframe thead th {\n",
              "        text-align: right;\n",
              "    }\n",
              "</style>\n",
              "<table border=\"1\" class=\"dataframe\">\n",
              "  <thead>\n",
              "    <tr style=\"text-align: right;\">\n",
              "      <th></th>\n",
              "      <th>borough</th>\n",
              "      <th>block</th>\n",
              "      <th>lot</th>\n",
              "      <th>cd</th>\n",
              "      <th>ct2010</th>\n",
              "      <th>cb2010</th>\n",
              "      <th>schooldist</th>\n",
              "      <th>council</th>\n",
              "      <th>zipcode</th>\n",
              "      <th>firecomp</th>\n",
              "      <th>policeprct</th>\n",
              "      <th>healtharea</th>\n",
              "      <th>sanitboro</th>\n",
              "      <th>sanitsub</th>\n",
              "      <th>address</th>\n",
              "      <th>zonedist1</th>\n",
              "      <th>zonedist2</th>\n",
              "      <th>zonedist3</th>\n",
              "      <th>zonedist4</th>\n",
              "      <th>overlay1</th>\n",
              "      <th>overlay2</th>\n",
              "      <th>spdist1</th>\n",
              "      <th>spdist2</th>\n",
              "      <th>spdist3</th>\n",
              "      <th>ltdheight</th>\n",
              "      <th>splitzone</th>\n",
              "      <th>bldgclass</th>\n",
              "      <th>landuse</th>\n",
              "      <th>easements</th>\n",
              "      <th>ownertype</th>\n",
              "      <th>ownername</th>\n",
              "      <th>lotarea</th>\n",
              "      <th>bldgarea</th>\n",
              "      <th>comarea</th>\n",
              "      <th>resarea</th>\n",
              "      <th>officearea</th>\n",
              "      <th>retailarea</th>\n",
              "      <th>garagearea</th>\n",
              "      <th>strgearea</th>\n",
              "      <th>factryarea</th>\n",
              "      <th>...</th>\n",
              "      <th>assessland</th>\n",
              "      <th>assesstot</th>\n",
              "      <th>exempttot</th>\n",
              "      <th>yearbuilt</th>\n",
              "      <th>yearalter1</th>\n",
              "      <th>yearalter2</th>\n",
              "      <th>histdist</th>\n",
              "      <th>landmark</th>\n",
              "      <th>builtfar</th>\n",
              "      <th>residfar</th>\n",
              "      <th>commfar</th>\n",
              "      <th>facilfar</th>\n",
              "      <th>borocode</th>\n",
              "      <th>bbl</th>\n",
              "      <th>condono</th>\n",
              "      <th>tract2010</th>\n",
              "      <th>xcoord</th>\n",
              "      <th>ycoord</th>\n",
              "      <th>zonemap</th>\n",
              "      <th>zmcode</th>\n",
              "      <th>sanborn</th>\n",
              "      <th>taxmap</th>\n",
              "      <th>edesignum</th>\n",
              "      <th>appbbl</th>\n",
              "      <th>appdate</th>\n",
              "      <th>plutomapid</th>\n",
              "      <th>version</th>\n",
              "      <th>sanitdistrict</th>\n",
              "      <th>healthcenterdistrict</th>\n",
              "      <th>firm07_flag</th>\n",
              "      <th>pfirm15_flag</th>\n",
              "      <th>rpaddate</th>\n",
              "      <th>dcasdate</th>\n",
              "      <th>zoningdate</th>\n",
              "      <th>landmkdate</th>\n",
              "      <th>basempdate</th>\n",
              "      <th>masdate</th>\n",
              "      <th>polidate</th>\n",
              "      <th>edesigdate</th>\n",
              "      <th>geom</th>\n",
              "    </tr>\n",
              "  </thead>\n",
              "  <tbody>\n",
              "    <tr>\n",
              "      <th>0</th>\n",
              "      <td>MN</td>\n",
              "      <td>1103</td>\n",
              "      <td>36</td>\n",
              "      <td>104.0</td>\n",
              "      <td>135.0</td>\n",
              "      <td>1003.0</td>\n",
              "      <td>2.0</td>\n",
              "      <td>6.0</td>\n",
              "      <td>10019.0</td>\n",
              "      <td>E040</td>\n",
              "      <td>18.0</td>\n",
              "      <td>4500.0</td>\n",
              "      <td>1.0</td>\n",
              "      <td>3B</td>\n",
              "      <td>801 11 AVENUE</td>\n",
              "      <td>M2-3</td>\n",
              "      <td>NaN</td>\n",
              "      <td>NaN</td>\n",
              "      <td>NaN</td>\n",
              "      <td>NaN</td>\n",
              "      <td>NaN</td>\n",
              "      <td>CL</td>\n",
              "      <td>NaN</td>\n",
              "      <td>NaN</td>\n",
              "      <td>NaN</td>\n",
              "      <td>N</td>\n",
              "      <td>G8</td>\n",
              "      <td>5.0</td>\n",
              "      <td>0.0</td>\n",
              "      <td>NaN</td>\n",
              "      <td>801 11TH AVE.,</td>\n",
              "      <td>26817.0</td>\n",
              "      <td>57805.0</td>\n",
              "      <td>57805.0</td>\n",
              "      <td>0.0</td>\n",
              "      <td>0.0</td>\n",
              "      <td>12000.0</td>\n",
              "      <td>30737.0</td>\n",
              "      <td>0.0</td>\n",
              "      <td>0.0</td>\n",
              "      <td>...</td>\n",
              "      <td>2313900.0</td>\n",
              "      <td>4700700.0</td>\n",
              "      <td>0.0</td>\n",
              "      <td>1920.0</td>\n",
              "      <td>2006.0</td>\n",
              "      <td>2011.0</td>\n",
              "      <td>NaN</td>\n",
              "      <td>NaN</td>\n",
              "      <td>2.16</td>\n",
              "      <td>0.0</td>\n",
              "      <td>2.0</td>\n",
              "      <td>0.0</td>\n",
              "      <td>1</td>\n",
              "      <td>1011030036</td>\n",
              "      <td>NaN</td>\n",
              "      <td>135.0</td>\n",
              "      <td>986332.0</td>\n",
              "      <td>219627.0</td>\n",
              "      <td>8c</td>\n",
              "      <td>NaN</td>\n",
              "      <td>106W002</td>\n",
              "      <td>10405.0</td>\n",
              "      <td>NaN</td>\n",
              "      <td>NaN</td>\n",
              "      <td>NaN</td>\n",
              "      <td>1</td>\n",
              "      <td>19v1</td>\n",
              "      <td>4.0</td>\n",
              "      <td>15.0</td>\n",
              "      <td>NaN</td>\n",
              "      <td>NaN</td>\n",
              "      <td>07/06/2019</td>\n",
              "      <td>11/15/2018</td>\n",
              "      <td>07/29/2019</td>\n",
              "      <td>07/05/2019</td>\n",
              "      <td>07/26/2019</td>\n",
              "      <td>NaN</td>\n",
              "      <td>NaN</td>\n",
              "      <td>05/31/2019</td>\n",
              "      <td>0106000020E61000000100000001030000000100000007...</td>\n",
              "    </tr>\n",
              "    <tr>\n",
              "      <th>1</th>\n",
              "      <td>MN</td>\n",
              "      <td>1109</td>\n",
              "      <td>100</td>\n",
              "      <td>104.0</td>\n",
              "      <td>135.0</td>\n",
              "      <td>1000.0</td>\n",
              "      <td>2.0</td>\n",
              "      <td>3.0</td>\n",
              "      <td>10019.0</td>\n",
              "      <td>E040</td>\n",
              "      <td>18.0</td>\n",
              "      <td>4500.0</td>\n",
              "      <td>1.0</td>\n",
              "      <td>3B</td>\n",
              "      <td>PIER</td>\n",
              "      <td>M2-3</td>\n",
              "      <td>NaN</td>\n",
              "      <td>NaN</td>\n",
              "      <td>NaN</td>\n",
              "      <td>NaN</td>\n",
              "      <td>NaN</td>\n",
              "      <td>NaN</td>\n",
              "      <td>NaN</td>\n",
              "      <td>NaN</td>\n",
              "      <td>NaN</td>\n",
              "      <td>N</td>\n",
              "      <td>T9</td>\n",
              "      <td>7.0</td>\n",
              "      <td>0.0</td>\n",
              "      <td>X</td>\n",
              "      <td>NYS DEPT  OF ENVIR CONSV</td>\n",
              "      <td>172842.0</td>\n",
              "      <td>105562.0</td>\n",
              "      <td>105562.0</td>\n",
              "      <td>0.0</td>\n",
              "      <td>0.0</td>\n",
              "      <td>0.0</td>\n",
              "      <td>0.0</td>\n",
              "      <td>0.0</td>\n",
              "      <td>0.0</td>\n",
              "      <td>...</td>\n",
              "      <td>16200000.0</td>\n",
              "      <td>34528500.0</td>\n",
              "      <td>34528500.0</td>\n",
              "      <td>2002.0</td>\n",
              "      <td>0.0</td>\n",
              "      <td>0.0</td>\n",
              "      <td>NaN</td>\n",
              "      <td>NaN</td>\n",
              "      <td>0.61</td>\n",
              "      <td>0.0</td>\n",
              "      <td>2.0</td>\n",
              "      <td>0.0</td>\n",
              "      <td>1</td>\n",
              "      <td>1011090100</td>\n",
              "      <td>NaN</td>\n",
              "      <td>135.0</td>\n",
              "      <td>985279.0</td>\n",
              "      <td>219475.0</td>\n",
              "      <td>8c</td>\n",
              "      <td>NaN</td>\n",
              "      <td>106W073</td>\n",
              "      <td>10405.0</td>\n",
              "      <td>NaN</td>\n",
              "      <td>1.011100e+09</td>\n",
              "      <td>05/23/2011</td>\n",
              "      <td>1</td>\n",
              "      <td>19v1</td>\n",
              "      <td>4.0</td>\n",
              "      <td>15.0</td>\n",
              "      <td>1.0</td>\n",
              "      <td>1.0</td>\n",
              "      <td>07/06/2019</td>\n",
              "      <td>11/15/2018</td>\n",
              "      <td>07/29/2019</td>\n",
              "      <td>07/05/2019</td>\n",
              "      <td>07/26/2019</td>\n",
              "      <td>NaN</td>\n",
              "      <td>NaN</td>\n",
              "      <td>05/31/2019</td>\n",
              "      <td>0106000020E6100000010000000103000000010000000A...</td>\n",
              "    </tr>\n",
              "    <tr>\n",
              "      <th>2</th>\n",
              "      <td>MN</td>\n",
              "      <td>1121</td>\n",
              "      <td>29</td>\n",
              "      <td>107.0</td>\n",
              "      <td>153.0</td>\n",
              "      <td>6000.0</td>\n",
              "      <td>3.0</td>\n",
              "      <td>6.0</td>\n",
              "      <td>10023.0</td>\n",
              "      <td>L035</td>\n",
              "      <td>20.0</td>\n",
              "      <td>4000.0</td>\n",
              "      <td>1.0</td>\n",
              "      <td>1A</td>\n",
              "      <td>80 CENTRAL PARK WEST</td>\n",
              "      <td>R10A</td>\n",
              "      <td>R8B</td>\n",
              "      <td>NaN</td>\n",
              "      <td>NaN</td>\n",
              "      <td>NaN</td>\n",
              "      <td>NaN</td>\n",
              "      <td>NaN</td>\n",
              "      <td>NaN</td>\n",
              "      <td>NaN</td>\n",
              "      <td>NaN</td>\n",
              "      <td>Y</td>\n",
              "      <td>D4</td>\n",
              "      <td>3.0</td>\n",
              "      <td>0.0</td>\n",
              "      <td>NaN</td>\n",
              "      <td>80 CPW APT CORP</td>\n",
              "      <td>15002.0</td>\n",
              "      <td>225552.0</td>\n",
              "      <td>31500.0</td>\n",
              "      <td>194052.0</td>\n",
              "      <td>7000.0</td>\n",
              "      <td>0.0</td>\n",
              "      <td>24500.0</td>\n",
              "      <td>0.0</td>\n",
              "      <td>0.0</td>\n",
              "      <td>...</td>\n",
              "      <td>6001650.0</td>\n",
              "      <td>26984250.0</td>\n",
              "      <td>399257.0</td>\n",
              "      <td>1968.0</td>\n",
              "      <td>0.0</td>\n",
              "      <td>0.0</td>\n",
              "      <td>Upper West Side / Central Park West Historic D...</td>\n",
              "      <td>NaN</td>\n",
              "      <td>15.03</td>\n",
              "      <td>10.0</td>\n",
              "      <td>0.0</td>\n",
              "      <td>10.0</td>\n",
              "      <td>1</td>\n",
              "      <td>1011210029</td>\n",
              "      <td>NaN</td>\n",
              "      <td>153.0</td>\n",
              "      <td>990305.0</td>\n",
              "      <td>221271.0</td>\n",
              "      <td>8c</td>\n",
              "      <td>NaN</td>\n",
              "      <td>106W026</td>\n",
              "      <td>10406.0</td>\n",
              "      <td>NaN</td>\n",
              "      <td>NaN</td>\n",
              "      <td>NaN</td>\n",
              "      <td>1</td>\n",
              "      <td>19v1</td>\n",
              "      <td>7.0</td>\n",
              "      <td>15.0</td>\n",
              "      <td>NaN</td>\n",
              "      <td>NaN</td>\n",
              "      <td>07/06/2019</td>\n",
              "      <td>11/15/2018</td>\n",
              "      <td>07/29/2019</td>\n",
              "      <td>07/05/2019</td>\n",
              "      <td>07/26/2019</td>\n",
              "      <td>NaN</td>\n",
              "      <td>NaN</td>\n",
              "      <td>05/31/2019</td>\n",
              "      <td>0106000020E61000000100000001030000000100000009...</td>\n",
              "    </tr>\n",
              "    <tr>\n",
              "      <th>3</th>\n",
              "      <td>MN</td>\n",
              "      <td>1099</td>\n",
              "      <td>12</td>\n",
              "      <td>104.0</td>\n",
              "      <td>135.0</td>\n",
              "      <td>2005.0</td>\n",
              "      <td>2.0</td>\n",
              "      <td>3.0</td>\n",
              "      <td>10019.0</td>\n",
              "      <td>E040</td>\n",
              "      <td>18.0</td>\n",
              "      <td>4500.0</td>\n",
              "      <td>1.0</td>\n",
              "      <td>3B</td>\n",
              "      <td>631 WEST 51 STREET</td>\n",
              "      <td>M2-4</td>\n",
              "      <td>NaN</td>\n",
              "      <td>NaN</td>\n",
              "      <td>NaN</td>\n",
              "      <td>NaN</td>\n",
              "      <td>NaN</td>\n",
              "      <td>CL</td>\n",
              "      <td>NaN</td>\n",
              "      <td>NaN</td>\n",
              "      <td>NaN</td>\n",
              "      <td>N</td>\n",
              "      <td>E7</td>\n",
              "      <td>6.0</td>\n",
              "      <td>0.0</td>\n",
              "      <td>NaN</td>\n",
              "      <td>630 WEST 52ND LLC</td>\n",
              "      <td>9050.0</td>\n",
              "      <td>36184.0</td>\n",
              "      <td>36184.0</td>\n",
              "      <td>0.0</td>\n",
              "      <td>0.0</td>\n",
              "      <td>0.0</td>\n",
              "      <td>0.0</td>\n",
              "      <td>36184.0</td>\n",
              "      <td>0.0</td>\n",
              "      <td>...</td>\n",
              "      <td>794250.0</td>\n",
              "      <td>3680550.0</td>\n",
              "      <td>0.0</td>\n",
              "      <td>1946.0</td>\n",
              "      <td>0.0</td>\n",
              "      <td>2016.0</td>\n",
              "      <td>NaN</td>\n",
              "      <td>NaN</td>\n",
              "      <td>4.00</td>\n",
              "      <td>0.0</td>\n",
              "      <td>5.0</td>\n",
              "      <td>0.0</td>\n",
              "      <td>1</td>\n",
              "      <td>1010990012</td>\n",
              "      <td>NaN</td>\n",
              "      <td>135.0</td>\n",
              "      <td>985450.0</td>\n",
              "      <td>218920.0</td>\n",
              "      <td>8c</td>\n",
              "      <td>NaN</td>\n",
              "      <td>105N050</td>\n",
              "      <td>10405.0</td>\n",
              "      <td>NaN</td>\n",
              "      <td>NaN</td>\n",
              "      <td>NaN</td>\n",
              "      <td>1</td>\n",
              "      <td>19v1</td>\n",
              "      <td>4.0</td>\n",
              "      <td>15.0</td>\n",
              "      <td>NaN</td>\n",
              "      <td>NaN</td>\n",
              "      <td>07/06/2019</td>\n",
              "      <td>11/15/2018</td>\n",
              "      <td>07/29/2019</td>\n",
              "      <td>07/05/2019</td>\n",
              "      <td>07/26/2019</td>\n",
              "      <td>NaN</td>\n",
              "      <td>NaN</td>\n",
              "      <td>05/31/2019</td>\n",
              "      <td>0106000020E61000000100000001030000000100000009...</td>\n",
              "    </tr>\n",
              "    <tr>\n",
              "      <th>4</th>\n",
              "      <td>BK</td>\n",
              "      <td>5751</td>\n",
              "      <td>49</td>\n",
              "      <td>310.0</td>\n",
              "      <td>212.0</td>\n",
              "      <td>3002.0</td>\n",
              "      <td>20.0</td>\n",
              "      <td>38.0</td>\n",
              "      <td>11219.0</td>\n",
              "      <td>E284</td>\n",
              "      <td>68.0</td>\n",
              "      <td>8020.0</td>\n",
              "      <td>3.0</td>\n",
              "      <td>4C</td>\n",
              "      <td>1073 66 STREET</td>\n",
              "      <td>R6B</td>\n",
              "      <td>NaN</td>\n",
              "      <td>NaN</td>\n",
              "      <td>NaN</td>\n",
              "      <td>C1-3</td>\n",
              "      <td>NaN</td>\n",
              "      <td>NaN</td>\n",
              "      <td>NaN</td>\n",
              "      <td>NaN</td>\n",
              "      <td>NaN</td>\n",
              "      <td>N</td>\n",
              "      <td>C0</td>\n",
              "      <td>2.0</td>\n",
              "      <td>0.0</td>\n",
              "      <td>NaN</td>\n",
              "      <td>CHEN, QI BIN</td>\n",
              "      <td>2000.0</td>\n",
              "      <td>3600.0</td>\n",
              "      <td>0.0</td>\n",
              "      <td>2400.0</td>\n",
              "      <td>0.0</td>\n",
              "      <td>0.0</td>\n",
              "      <td>0.0</td>\n",
              "      <td>0.0</td>\n",
              "      <td>0.0</td>\n",
              "      <td>...</td>\n",
              "      <td>23580.0</td>\n",
              "      <td>84960.0</td>\n",
              "      <td>0.0</td>\n",
              "      <td>1930.0</td>\n",
              "      <td>0.0</td>\n",
              "      <td>0.0</td>\n",
              "      <td>NaN</td>\n",
              "      <td>NaN</td>\n",
              "      <td>1.80</td>\n",
              "      <td>2.0</td>\n",
              "      <td>0.0</td>\n",
              "      <td>2.0</td>\n",
              "      <td>3</td>\n",
              "      <td>3057510049</td>\n",
              "      <td>NaN</td>\n",
              "      <td>212.0</td>\n",
              "      <td>982378.0</td>\n",
              "      <td>168230.0</td>\n",
              "      <td>22a</td>\n",
              "      <td>NaN</td>\n",
              "      <td>311 067</td>\n",
              "      <td>31709.0</td>\n",
              "      <td>NaN</td>\n",
              "      <td>NaN</td>\n",
              "      <td>NaN</td>\n",
              "      <td>1</td>\n",
              "      <td>19v1</td>\n",
              "      <td>10.0</td>\n",
              "      <td>31.0</td>\n",
              "      <td>NaN</td>\n",
              "      <td>NaN</td>\n",
              "      <td>07/06/2019</td>\n",
              "      <td>11/15/2018</td>\n",
              "      <td>07/29/2019</td>\n",
              "      <td>07/05/2019</td>\n",
              "      <td>07/26/2019</td>\n",
              "      <td>NaN</td>\n",
              "      <td>NaN</td>\n",
              "      <td>05/31/2019</td>\n",
              "      <td>0106000020E6100000010000000103000000010000000A...</td>\n",
              "    </tr>\n",
              "  </tbody>\n",
              "</table>\n",
              "<p>5 rows × 95 columns</p>\n",
              "</div>"
            ],
            "text/plain": [
              "  borough  block  ...  edesigdate                                               geom\n",
              "0      MN   1103  ...  05/31/2019  0106000020E61000000100000001030000000100000007...\n",
              "1      MN   1109  ...  05/31/2019  0106000020E6100000010000000103000000010000000A...\n",
              "2      MN   1121  ...  05/31/2019  0106000020E61000000100000001030000000100000009...\n",
              "3      MN   1099  ...  05/31/2019  0106000020E61000000100000001030000000100000009...\n",
              "4      BK   5751  ...  05/31/2019  0106000020E6100000010000000103000000010000000A...\n",
              "\n",
              "[5 rows x 95 columns]"
            ]
          },
          "metadata": {
            "tags": []
          },
          "execution_count": 12
        }
      ]
    },
    {
      "cell_type": "markdown",
      "metadata": {
        "id": "Jns_yfQ2Y5Xz",
        "colab_type": "text"
      },
      "source": [
        "# data fusion\n",
        "\n",
        "### select data\n",
        "select the data for buildings _in the borough of Manhattan_ only from the pluto file (you can do it broadcasting!)\n",
        "\n",
        "### merge\n",
        "merge the pluto and ll84 dataframes. you will have to choose an appropriate column that both datasets share fo do so. The column may not have the same nbame, but should have the same _variable_."
      ]
    },
    {
      "cell_type": "code",
      "metadata": {
        "id": "q8VRKKu2bqLH",
        "colab_type": "code",
        "outputId": "524db70b-56cc-42c9-84cf-af9e3228442d",
        "colab": {
          "base_uri": "https://localhost:8080/",
          "height": 34
        }
      },
      "source": [
        "good_ll84_data = ll84_data[ll84_data['Borough'] == 'Manhattan']\n",
        "good_pluto_data = pluto_data[pluto_data['borough'] == 'MN']\n",
        "good_pluto_data.shape"
      ],
      "execution_count": 13,
      "outputs": [
        {
          "output_type": "execute_result",
          "data": {
            "text/plain": [
              "(42962, 95)"
            ]
          },
          "metadata": {
            "tags": []
          },
          "execution_count": 13
        }
      ]
    },
    {
      "cell_type": "code",
      "metadata": {
        "id": "ApZvGUHPb-0d",
        "colab_type": "code",
        "outputId": "6b5048d0-35e8-4a24-c6d2-1ebdb8e834d7",
        "colab": {
          "base_uri": "https://localhost:8080/",
          "height": 34
        }
      },
      "source": [
        "good_ll84_data.shape"
      ],
      "execution_count": 14,
      "outputs": [
        {
          "output_type": "execute_result",
          "data": {
            "text/plain": [
              "(5176, 60)"
            ]
          },
          "metadata": {
            "tags": []
          },
          "execution_count": 14
        }
      ]
    },
    {
      "cell_type": "code",
      "metadata": {
        "id": "R_A3HEupI0n4",
        "colab_type": "code",
        "outputId": "3aac104b-a678-47d3-d537-1f96d36053e3",
        "colab": {
          "base_uri": "https://localhost:8080/",
          "height": 34
        }
      },
      "source": [
        "merged = pd.merge(good_pluto_data,good_ll84_data,left_on = 'bbl',right_on = 'BBL - 10 digits')\n",
        "merged.shape"
      ],
      "execution_count": 49,
      "outputs": [
        {
          "output_type": "execute_result",
          "data": {
            "text/plain": [
              "(5149, 155)"
            ]
          },
          "metadata": {
            "tags": []
          },
          "execution_count": 49
        }
      ]
    },
    {
      "cell_type": "code",
      "metadata": {
        "id": "wSKO0M-5Ibs7",
        "colab_type": "code",
        "colab": {
          "base_uri": "https://localhost:8080/",
          "height": 593
        },
        "outputId": "87a582fe-ecbe-4f40-d497-d8762d20757b"
      },
      "source": [
        "merged.head()"
      ],
      "execution_count": 16,
      "outputs": [
        {
          "output_type": "execute_result",
          "data": {
            "text/html": [
              "<div>\n",
              "<style scoped>\n",
              "    .dataframe tbody tr th:only-of-type {\n",
              "        vertical-align: middle;\n",
              "    }\n",
              "\n",
              "    .dataframe tbody tr th {\n",
              "        vertical-align: top;\n",
              "    }\n",
              "\n",
              "    .dataframe thead th {\n",
              "        text-align: right;\n",
              "    }\n",
              "</style>\n",
              "<table border=\"1\" class=\"dataframe\">\n",
              "  <thead>\n",
              "    <tr style=\"text-align: right;\">\n",
              "      <th></th>\n",
              "      <th>borough</th>\n",
              "      <th>block</th>\n",
              "      <th>lot</th>\n",
              "      <th>cd</th>\n",
              "      <th>ct2010</th>\n",
              "      <th>cb2010</th>\n",
              "      <th>schooldist</th>\n",
              "      <th>council</th>\n",
              "      <th>zipcode</th>\n",
              "      <th>firecomp</th>\n",
              "      <th>policeprct</th>\n",
              "      <th>healtharea</th>\n",
              "      <th>sanitboro</th>\n",
              "      <th>sanitsub</th>\n",
              "      <th>address</th>\n",
              "      <th>zonedist1</th>\n",
              "      <th>zonedist2</th>\n",
              "      <th>zonedist3</th>\n",
              "      <th>zonedist4</th>\n",
              "      <th>overlay1</th>\n",
              "      <th>overlay2</th>\n",
              "      <th>spdist1</th>\n",
              "      <th>spdist2</th>\n",
              "      <th>spdist3</th>\n",
              "      <th>ltdheight</th>\n",
              "      <th>splitzone</th>\n",
              "      <th>bldgclass</th>\n",
              "      <th>landuse</th>\n",
              "      <th>easements</th>\n",
              "      <th>ownertype</th>\n",
              "      <th>ownername</th>\n",
              "      <th>lotarea</th>\n",
              "      <th>bldgarea</th>\n",
              "      <th>comarea</th>\n",
              "      <th>resarea</th>\n",
              "      <th>officearea</th>\n",
              "      <th>retailarea</th>\n",
              "      <th>garagearea</th>\n",
              "      <th>strgearea</th>\n",
              "      <th>factryarea</th>\n",
              "      <th>...</th>\n",
              "      <th>2nd Largest Property Use - Gross Floor Area (ft²)</th>\n",
              "      <th>3rd Largest Property Use Type</th>\n",
              "      <th>3rd Largest Property Use Type - Gross Floor Area (ft²)</th>\n",
              "      <th>Year Built</th>\n",
              "      <th>Number of Buildings - Self-reported</th>\n",
              "      <th>Occupancy</th>\n",
              "      <th>Metered Areas (Energy)</th>\n",
              "      <th>Metered Areas  (Water)</th>\n",
              "      <th>ENERGY STAR Score</th>\n",
              "      <th>Site EUI (kBtu/ft²)</th>\n",
              "      <th>Weather Normalized Site EUI (kBtu/ft²)</th>\n",
              "      <th>Weather Normalized Site Electricity Intensity (kWh/ft²)</th>\n",
              "      <th>Weather Normalized Site Natural Gas Intensity (therms/ft²)</th>\n",
              "      <th>Weather Normalized Source EUI (kBtu/ft²)</th>\n",
              "      <th>Fuel Oil #1 Use (kBtu)</th>\n",
              "      <th>Fuel Oil #2 Use (kBtu)</th>\n",
              "      <th>Fuel Oil #4 Use (kBtu)</th>\n",
              "      <th>Fuel Oil #5 &amp; 6 Use (kBtu)</th>\n",
              "      <th>Diesel #2 Use (kBtu)</th>\n",
              "      <th>District Steam Use (kBtu)</th>\n",
              "      <th>Natural Gas Use (kBtu)</th>\n",
              "      <th>Weather Normalized Site Natural Gas Use (therms)</th>\n",
              "      <th>Electricity Use - Grid Purchase (kBtu)</th>\n",
              "      <th>Weather Normalized Site Electricity (kWh)</th>\n",
              "      <th>Total GHG Emissions (Metric Tons CO2e)</th>\n",
              "      <th>Direct GHG Emissions (Metric Tons CO2e)</th>\n",
              "      <th>Indirect GHG Emissions (Metric Tons CO2e)</th>\n",
              "      <th>Property GFA - Self-Reported (ft²)</th>\n",
              "      <th>Water Use (All Water Sources) (kgal)</th>\n",
              "      <th>Water Intensity (All Water Sources) (gal/ft²)</th>\n",
              "      <th>Source EUI (kBtu/ft²)</th>\n",
              "      <th>Release Date</th>\n",
              "      <th>Water Required?</th>\n",
              "      <th>DOF Benchmarking Submission Status</th>\n",
              "      <th>Latitude</th>\n",
              "      <th>Longitude</th>\n",
              "      <th>Community Board</th>\n",
              "      <th>Council District</th>\n",
              "      <th>Census Tract</th>\n",
              "      <th>NTA</th>\n",
              "    </tr>\n",
              "  </thead>\n",
              "  <tbody>\n",
              "    <tr>\n",
              "      <th>0</th>\n",
              "      <td>MN</td>\n",
              "      <td>1121</td>\n",
              "      <td>29</td>\n",
              "      <td>107.0</td>\n",
              "      <td>153.0</td>\n",
              "      <td>6000.0</td>\n",
              "      <td>3.0</td>\n",
              "      <td>6.0</td>\n",
              "      <td>10023.0</td>\n",
              "      <td>L035</td>\n",
              "      <td>20.0</td>\n",
              "      <td>4000.0</td>\n",
              "      <td>1.0</td>\n",
              "      <td>1A</td>\n",
              "      <td>80 CENTRAL PARK WEST</td>\n",
              "      <td>R10A</td>\n",
              "      <td>R8B</td>\n",
              "      <td>NaN</td>\n",
              "      <td>NaN</td>\n",
              "      <td>NaN</td>\n",
              "      <td>NaN</td>\n",
              "      <td>NaN</td>\n",
              "      <td>NaN</td>\n",
              "      <td>NaN</td>\n",
              "      <td>NaN</td>\n",
              "      <td>Y</td>\n",
              "      <td>D4</td>\n",
              "      <td>3.0</td>\n",
              "      <td>0.0</td>\n",
              "      <td>NaN</td>\n",
              "      <td>80 CPW APT CORP</td>\n",
              "      <td>15002.0</td>\n",
              "      <td>225552.0</td>\n",
              "      <td>31500.0</td>\n",
              "      <td>194052.0</td>\n",
              "      <td>7000.0</td>\n",
              "      <td>0.0</td>\n",
              "      <td>24500.0</td>\n",
              "      <td>0.0</td>\n",
              "      <td>0.0</td>\n",
              "      <td>...</td>\n",
              "      <td>Not Available</td>\n",
              "      <td>Not Available</td>\n",
              "      <td>Not Available</td>\n",
              "      <td>1968</td>\n",
              "      <td>1</td>\n",
              "      <td>100</td>\n",
              "      <td>Whole Building</td>\n",
              "      <td>Whole Building</td>\n",
              "      <td>11</td>\n",
              "      <td>121.3</td>\n",
              "      <td>120.1</td>\n",
              "      <td>8.1</td>\n",
              "      <td>0.9</td>\n",
              "      <td>184</td>\n",
              "      <td>Not Available</td>\n",
              "      <td>Not Available</td>\n",
              "      <td>Not Available</td>\n",
              "      <td>Not Available</td>\n",
              "      <td>Not Available</td>\n",
              "      <td>Not Available</td>\n",
              "      <td>1.48260263E7</td>\n",
              "      <td>146683.1</td>\n",
              "      <td>4435636.6</td>\n",
              "      <td>1290307.5</td>\n",
              "      <td>1199.1</td>\n",
              "      <td>787.5</td>\n",
              "      <td>411.6</td>\n",
              "      <td>158828</td>\n",
              "      <td>5981.4</td>\n",
              "      <td>37.66</td>\n",
              "      <td>185.7</td>\n",
              "      <td>05/01/2017 02:58:14 PM</td>\n",
              "      <td>Yes</td>\n",
              "      <td>In Compliance</td>\n",
              "      <td>40.773754</td>\n",
              "      <td>-73.977767</td>\n",
              "      <td>7.0</td>\n",
              "      <td>6.0</td>\n",
              "      <td>153.0</td>\n",
              "      <td>Lincoln Square                                ...</td>\n",
              "    </tr>\n",
              "    <tr>\n",
              "      <th>1</th>\n",
              "      <td>MN</td>\n",
              "      <td>1127</td>\n",
              "      <td>29</td>\n",
              "      <td>107.0</td>\n",
              "      <td>161.0</td>\n",
              "      <td>4000.0</td>\n",
              "      <td>3.0</td>\n",
              "      <td>6.0</td>\n",
              "      <td>10023.0</td>\n",
              "      <td>L025</td>\n",
              "      <td>20.0</td>\n",
              "      <td>3500.0</td>\n",
              "      <td>1.0</td>\n",
              "      <td>2Q</td>\n",
              "      <td>145 CENTRAL PARK WEST</td>\n",
              "      <td>R10A</td>\n",
              "      <td>R8B</td>\n",
              "      <td>NaN</td>\n",
              "      <td>NaN</td>\n",
              "      <td>NaN</td>\n",
              "      <td>NaN</td>\n",
              "      <td>NaN</td>\n",
              "      <td>NaN</td>\n",
              "      <td>NaN</td>\n",
              "      <td>NaN</td>\n",
              "      <td>Y</td>\n",
              "      <td>D4</td>\n",
              "      <td>3.0</td>\n",
              "      <td>0.0</td>\n",
              "      <td>NaN</td>\n",
              "      <td>SAN REMO TENANTS CORP</td>\n",
              "      <td>34532.0</td>\n",
              "      <td>490265.0</td>\n",
              "      <td>10000.0</td>\n",
              "      <td>480265.0</td>\n",
              "      <td>10000.0</td>\n",
              "      <td>0.0</td>\n",
              "      <td>0.0</td>\n",
              "      <td>0.0</td>\n",
              "      <td>0.0</td>\n",
              "      <td>...</td>\n",
              "      <td>Not Available</td>\n",
              "      <td>Not Available</td>\n",
              "      <td>Not Available</td>\n",
              "      <td>1930</td>\n",
              "      <td>1</td>\n",
              "      <td>100</td>\n",
              "      <td>Whole Building</td>\n",
              "      <td>Not Available</td>\n",
              "      <td>89</td>\n",
              "      <td>46.5</td>\n",
              "      <td>Not Available</td>\n",
              "      <td>Not Available</td>\n",
              "      <td>0.2</td>\n",
              "      <td>Not Available</td>\n",
              "      <td>Not Available</td>\n",
              "      <td>Not Available</td>\n",
              "      <td>Not Available</td>\n",
              "      <td>Not Available</td>\n",
              "      <td>Not Available</td>\n",
              "      <td>Not Available</td>\n",
              "      <td>1.24171322E7</td>\n",
              "      <td>124171.3</td>\n",
              "      <td>11197665.8</td>\n",
              "      <td>Not Available</td>\n",
              "      <td>1698.7</td>\n",
              "      <td>659.5</td>\n",
              "      <td>1039.1</td>\n",
              "      <td>507774</td>\n",
              "      <td>10395.8</td>\n",
              "      <td>20.47</td>\n",
              "      <td>94.9</td>\n",
              "      <td>05/01/2017 10:35:35 PM</td>\n",
              "      <td>Yes</td>\n",
              "      <td>In Compliance</td>\n",
              "      <td>40.777854</td>\n",
              "      <td>-73.974772</td>\n",
              "      <td>7.0</td>\n",
              "      <td>6.0</td>\n",
              "      <td>161.0</td>\n",
              "      <td>Upper West Side                               ...</td>\n",
              "    </tr>\n",
              "    <tr>\n",
              "      <th>2</th>\n",
              "      <td>MN</td>\n",
              "      <td>1129</td>\n",
              "      <td>50</td>\n",
              "      <td>107.0</td>\n",
              "      <td>161.0</td>\n",
              "      <td>2000.0</td>\n",
              "      <td>3.0</td>\n",
              "      <td>6.0</td>\n",
              "      <td>10024.0</td>\n",
              "      <td>L025</td>\n",
              "      <td>20.0</td>\n",
              "      <td>3500.0</td>\n",
              "      <td>1.0</td>\n",
              "      <td>2A</td>\n",
              "      <td>40 WEST 77 STREET</td>\n",
              "      <td>R10A</td>\n",
              "      <td>NaN</td>\n",
              "      <td>NaN</td>\n",
              "      <td>NaN</td>\n",
              "      <td>NaN</td>\n",
              "      <td>NaN</td>\n",
              "      <td>NaN</td>\n",
              "      <td>NaN</td>\n",
              "      <td>NaN</td>\n",
              "      <td>NaN</td>\n",
              "      <td>N</td>\n",
              "      <td>D4</td>\n",
              "      <td>3.0</td>\n",
              "      <td>0.0</td>\n",
              "      <td>NaN</td>\n",
              "      <td>4077 OWNERS CORP</td>\n",
              "      <td>14493.0</td>\n",
              "      <td>162676.0</td>\n",
              "      <td>3000.0</td>\n",
              "      <td>159676.0</td>\n",
              "      <td>3000.0</td>\n",
              "      <td>0.0</td>\n",
              "      <td>0.0</td>\n",
              "      <td>0.0</td>\n",
              "      <td>0.0</td>\n",
              "      <td>...</td>\n",
              "      <td>Not Available</td>\n",
              "      <td>Not Available</td>\n",
              "      <td>Not Available</td>\n",
              "      <td>1928</td>\n",
              "      <td>1</td>\n",
              "      <td>100</td>\n",
              "      <td>Whole Building</td>\n",
              "      <td>Whole Building</td>\n",
              "      <td>100</td>\n",
              "      <td>64.6</td>\n",
              "      <td>69.6</td>\n",
              "      <td>4</td>\n",
              "      <td>0.6</td>\n",
              "      <td>101.6</td>\n",
              "      <td>Not Available</td>\n",
              "      <td>Not Available</td>\n",
              "      <td>Not Available</td>\n",
              "      <td>Not Available</td>\n",
              "      <td>Not Available</td>\n",
              "      <td>Not Available</td>\n",
              "      <td>8208163.6</td>\n",
              "      <td>91110.7</td>\n",
              "      <td>2306487.2</td>\n",
              "      <td>649924.5</td>\n",
              "      <td>650.0</td>\n",
              "      <td>436.0</td>\n",
              "      <td>214.0</td>\n",
              "      <td>162676</td>\n",
              "      <td>4933.5</td>\n",
              "      <td>30.33</td>\n",
              "      <td>97.5</td>\n",
              "      <td>04/21/2017 04:16:54 PM</td>\n",
              "      <td>Yes</td>\n",
              "      <td>In Compliance</td>\n",
              "      <td>40.780141</td>\n",
              "      <td>-73.975201</td>\n",
              "      <td>7.0</td>\n",
              "      <td>6.0</td>\n",
              "      <td>161.0</td>\n",
              "      <td>Upper West Side                               ...</td>\n",
              "    </tr>\n",
              "    <tr>\n",
              "      <th>3</th>\n",
              "      <td>MN</td>\n",
              "      <td>1166</td>\n",
              "      <td>135</td>\n",
              "      <td>107.0</td>\n",
              "      <td>163.0</td>\n",
              "      <td>5003.0</td>\n",
              "      <td>3.0</td>\n",
              "      <td>6.0</td>\n",
              "      <td>10023.0</td>\n",
              "      <td>L025</td>\n",
              "      <td>20.0</td>\n",
              "      <td>3400.0</td>\n",
              "      <td>1.0</td>\n",
              "      <td>2B</td>\n",
              "      <td>200 WEST 75 STREET</td>\n",
              "      <td>C4-6A</td>\n",
              "      <td>NaN</td>\n",
              "      <td>NaN</td>\n",
              "      <td>NaN</td>\n",
              "      <td>NaN</td>\n",
              "      <td>NaN</td>\n",
              "      <td>EC-3</td>\n",
              "      <td>NaN</td>\n",
              "      <td>NaN</td>\n",
              "      <td>NaN</td>\n",
              "      <td>N</td>\n",
              "      <td>J5</td>\n",
              "      <td>5.0</td>\n",
              "      <td>0.0</td>\n",
              "      <td>NaN</td>\n",
              "      <td>UNAVAILABLE OWNER</td>\n",
              "      <td>19242.0</td>\n",
              "      <td>99663.0</td>\n",
              "      <td>99663.0</td>\n",
              "      <td>0.0</td>\n",
              "      <td>5588.0</td>\n",
              "      <td>0.0</td>\n",
              "      <td>0.0</td>\n",
              "      <td>0.0</td>\n",
              "      <td>0.0</td>\n",
              "      <td>...</td>\n",
              "      <td>Not Available</td>\n",
              "      <td>Not Available</td>\n",
              "      <td>Not Available</td>\n",
              "      <td>1929</td>\n",
              "      <td>1</td>\n",
              "      <td>100</td>\n",
              "      <td>Whole Building</td>\n",
              "      <td>Not Available</td>\n",
              "      <td>Not Available</td>\n",
              "      <td>52.4</td>\n",
              "      <td>57.3</td>\n",
              "      <td>3</td>\n",
              "      <td>Not Available</td>\n",
              "      <td>79.6</td>\n",
              "      <td>Not Available</td>\n",
              "      <td>2412271.5</td>\n",
              "      <td>Not Available</td>\n",
              "      <td>Not Available</td>\n",
              "      <td>Not Available</td>\n",
              "      <td>Not Available</td>\n",
              "      <td>Not Available</td>\n",
              "      <td>Not Available</td>\n",
              "      <td>596332.9</td>\n",
              "      <td>171749.4</td>\n",
              "      <td>234.4</td>\n",
              "      <td>179.0</td>\n",
              "      <td>55.3</td>\n",
              "      <td>57422</td>\n",
              "      <td>Not Available</td>\n",
              "      <td>Not Available</td>\n",
              "      <td>75.0</td>\n",
              "      <td>05/01/2017 02:58:14 PM</td>\n",
              "      <td>Yes</td>\n",
              "      <td>In Compliance</td>\n",
              "      <td>40.780617</td>\n",
              "      <td>-73.980364</td>\n",
              "      <td>7.0</td>\n",
              "      <td>6.0</td>\n",
              "      <td>163.0</td>\n",
              "      <td>Upper West Side                               ...</td>\n",
              "    </tr>\n",
              "    <tr>\n",
              "      <th>4</th>\n",
              "      <td>MN</td>\n",
              "      <td>1167</td>\n",
              "      <td>1</td>\n",
              "      <td>107.0</td>\n",
              "      <td>163.0</td>\n",
              "      <td>4000.0</td>\n",
              "      <td>3.0</td>\n",
              "      <td>6.0</td>\n",
              "      <td>10023.0</td>\n",
              "      <td>L025</td>\n",
              "      <td>20.0</td>\n",
              "      <td>3400.0</td>\n",
              "      <td>1.0</td>\n",
              "      <td>2B</td>\n",
              "      <td>320 WEST END AVENUE</td>\n",
              "      <td>R10A</td>\n",
              "      <td>NaN</td>\n",
              "      <td>NaN</td>\n",
              "      <td>NaN</td>\n",
              "      <td>NaN</td>\n",
              "      <td>NaN</td>\n",
              "      <td>NaN</td>\n",
              "      <td>NaN</td>\n",
              "      <td>NaN</td>\n",
              "      <td>NaN</td>\n",
              "      <td>N</td>\n",
              "      <td>D4</td>\n",
              "      <td>3.0</td>\n",
              "      <td>0.0</td>\n",
              "      <td>NaN</td>\n",
              "      <td>320 OWNERS CORP C/O HOFFMAN MANAGEMENT</td>\n",
              "      <td>6525.0</td>\n",
              "      <td>77008.0</td>\n",
              "      <td>600.0</td>\n",
              "      <td>76408.0</td>\n",
              "      <td>600.0</td>\n",
              "      <td>0.0</td>\n",
              "      <td>0.0</td>\n",
              "      <td>0.0</td>\n",
              "      <td>0.0</td>\n",
              "      <td>...</td>\n",
              "      <td>Not Available</td>\n",
              "      <td>Not Available</td>\n",
              "      <td>Not Available</td>\n",
              "      <td>1924</td>\n",
              "      <td>1</td>\n",
              "      <td>100</td>\n",
              "      <td>Whole Building</td>\n",
              "      <td>Not Available</td>\n",
              "      <td>76</td>\n",
              "      <td>66.1</td>\n",
              "      <td>65.7</td>\n",
              "      <td>3.4</td>\n",
              "      <td>0.5</td>\n",
              "      <td>93</td>\n",
              "      <td>Not Available</td>\n",
              "      <td>Not Available</td>\n",
              "      <td>Not Available</td>\n",
              "      <td>Not Available</td>\n",
              "      <td>Not Available</td>\n",
              "      <td>Not Available</td>\n",
              "      <td>4429538.5</td>\n",
              "      <td>44295.4</td>\n",
              "      <td>976693.5</td>\n",
              "      <td>276398.7</td>\n",
              "      <td>325.9</td>\n",
              "      <td>235.3</td>\n",
              "      <td>90.6</td>\n",
              "      <td>81821</td>\n",
              "      <td>3489.8</td>\n",
              "      <td>42.65</td>\n",
              "      <td>94.3</td>\n",
              "      <td>05/01/2017 04:50:09 PM</td>\n",
              "      <td>Yes</td>\n",
              "      <td>In Compliance</td>\n",
              "      <td>40.781849</td>\n",
              "      <td>-73.982982</td>\n",
              "      <td>7.0</td>\n",
              "      <td>6.0</td>\n",
              "      <td>163.0</td>\n",
              "      <td>Upper West Side                               ...</td>\n",
              "    </tr>\n",
              "  </tbody>\n",
              "</table>\n",
              "<p>5 rows × 155 columns</p>\n",
              "</div>"
            ],
            "text/plain": [
              "  borough  ...                                                NTA\n",
              "0      MN  ...  Lincoln Square                                ...\n",
              "1      MN  ...  Upper West Side                               ...\n",
              "2      MN  ...  Upper West Side                               ...\n",
              "3      MN  ...  Upper West Side                               ...\n",
              "4      MN  ...  Upper West Side                               ...\n",
              "\n",
              "[5 rows x 155 columns]"
            ]
          },
          "metadata": {
            "tags": []
          },
          "execution_count": 16
        }
      ]
    },
    {
      "cell_type": "markdown",
      "metadata": {
        "id": "eExs_TXwlQkT",
        "colab_type": "text"
      },
      "source": [
        "# data exploration and cleaning\n",
        "\n",
        "### extact columns\n",
        "extract the columns listed in the file \"columns.txt\" from the dataset.\n",
        "\n",
        "convert the resulting dataset to numerical, converting non-numerical values to NaN. drop rows that contain invalid values and save the resulting dataframe (_reducted_ dataframe)"
      ]
    },
    {
      "cell_type": "code",
      "metadata": {
        "id": "FFVP1g-MKyh7",
        "colab_type": "code",
        "outputId": "a195d4ea-1ccb-43fa-e50b-b5cef7c05988",
        "colab": {
          "base_uri": "https://localhost:8080/",
          "height": 411
        }
      },
      "source": [
        "columns_table = pd.read_table(\"https://raw.githubusercontent.com/fedhere/DSPS/master/HW5/columns.txt\",header = None);\n",
        "columns = columns_table[0].values.tolist();\n",
        "print(columns)\n",
        "\n",
        "numbers = merged[columns];\n",
        "numbers = numbers.convert_objects(convert_numeric = True);\n",
        "reducted = numbers.dropna(thresh = 22);\n",
        "reducted.head()"
      ],
      "execution_count": 17,
      "outputs": [
        {
          "output_type": "stream",
          "text": [
            "/usr/local/lib/python3.6/dist-packages/ipykernel_launcher.py:1: FutureWarning: read_table is deprecated, use read_csv instead, passing sep='\\t'.\n",
            "  \"\"\"Entry point for launching an IPython kernel.\n",
            "/usr/local/lib/python3.6/dist-packages/ipykernel_launcher.py:6: FutureWarning: convert_objects is deprecated.  To re-infer data dtypes for object columns, use DataFrame.infer_objects()\n",
            "For all other conversions use the data-type specific converters pd.to_datetime, pd.to_timedelta and pd.to_numeric.\n",
            "  \n"
          ],
          "name": "stderr"
        },
        {
          "output_type": "stream",
          "text": [
            "['DOF Gross Floor Area', 'Year Built', 'Number of Buildings - Self-reported', 'Occupancy', 'ENERGY STAR Score', 'Site EUI (kBtu/ft²)', 'Weather Normalized Site EUI (kBtu/ft²)', 'Weather Normalized Site Electricity Intensity (kWh/ft²)', 'Weather Normalized Site Natural Gas Intensity (therms/ft²)', 'Weather Normalized Source EUI (kBtu/ft²)', 'Electricity Use - Grid Purchase (kBtu)', 'Total GHG Emissions (Metric Tons CO2e)', 'Property GFA - Self-Reported (ft²)', 'Water Use (All Water Sources) (kgal)', 'Water Intensity (All Water Sources) (gal/ft²)', 'Source EUI (kBtu/ft²)', 'bldgarea', 'numbldgs', 'numfloors', 'unitsres', 'unitstotal', 'yearalter1']\n"
          ],
          "name": "stdout"
        },
        {
          "output_type": "execute_result",
          "data": {
            "text/html": [
              "<div>\n",
              "<style scoped>\n",
              "    .dataframe tbody tr th:only-of-type {\n",
              "        vertical-align: middle;\n",
              "    }\n",
              "\n",
              "    .dataframe tbody tr th {\n",
              "        vertical-align: top;\n",
              "    }\n",
              "\n",
              "    .dataframe thead th {\n",
              "        text-align: right;\n",
              "    }\n",
              "</style>\n",
              "<table border=\"1\" class=\"dataframe\">\n",
              "  <thead>\n",
              "    <tr style=\"text-align: right;\">\n",
              "      <th></th>\n",
              "      <th>DOF Gross Floor Area</th>\n",
              "      <th>Year Built</th>\n",
              "      <th>Number of Buildings - Self-reported</th>\n",
              "      <th>Occupancy</th>\n",
              "      <th>ENERGY STAR Score</th>\n",
              "      <th>Site EUI (kBtu/ft²)</th>\n",
              "      <th>Weather Normalized Site EUI (kBtu/ft²)</th>\n",
              "      <th>Weather Normalized Site Electricity Intensity (kWh/ft²)</th>\n",
              "      <th>Weather Normalized Site Natural Gas Intensity (therms/ft²)</th>\n",
              "      <th>Weather Normalized Source EUI (kBtu/ft²)</th>\n",
              "      <th>Electricity Use - Grid Purchase (kBtu)</th>\n",
              "      <th>Total GHG Emissions (Metric Tons CO2e)</th>\n",
              "      <th>Property GFA - Self-Reported (ft²)</th>\n",
              "      <th>Water Use (All Water Sources) (kgal)</th>\n",
              "      <th>Water Intensity (All Water Sources) (gal/ft²)</th>\n",
              "      <th>Source EUI (kBtu/ft²)</th>\n",
              "      <th>bldgarea</th>\n",
              "      <th>numbldgs</th>\n",
              "      <th>numfloors</th>\n",
              "      <th>unitsres</th>\n",
              "      <th>unitstotal</th>\n",
              "      <th>yearalter1</th>\n",
              "    </tr>\n",
              "  </thead>\n",
              "  <tbody>\n",
              "    <tr>\n",
              "      <th>0</th>\n",
              "      <td>225552.0</td>\n",
              "      <td>1968</td>\n",
              "      <td>1</td>\n",
              "      <td>100</td>\n",
              "      <td>11.0</td>\n",
              "      <td>121.3</td>\n",
              "      <td>120.1</td>\n",
              "      <td>8.1</td>\n",
              "      <td>0.9</td>\n",
              "      <td>184.0</td>\n",
              "      <td>4435636.6</td>\n",
              "      <td>1199.1</td>\n",
              "      <td>158828</td>\n",
              "      <td>5981.4</td>\n",
              "      <td>37.66</td>\n",
              "      <td>185.7</td>\n",
              "      <td>225552.0</td>\n",
              "      <td>1.0</td>\n",
              "      <td>24.0</td>\n",
              "      <td>165.0</td>\n",
              "      <td>168.0</td>\n",
              "      <td>0.0</td>\n",
              "    </tr>\n",
              "    <tr>\n",
              "      <th>2</th>\n",
              "      <td>162676.0</td>\n",
              "      <td>1928</td>\n",
              "      <td>1</td>\n",
              "      <td>100</td>\n",
              "      <td>100.0</td>\n",
              "      <td>64.6</td>\n",
              "      <td>69.6</td>\n",
              "      <td>4.0</td>\n",
              "      <td>0.6</td>\n",
              "      <td>101.6</td>\n",
              "      <td>2306487.2</td>\n",
              "      <td>650.0</td>\n",
              "      <td>162676</td>\n",
              "      <td>4933.5</td>\n",
              "      <td>30.33</td>\n",
              "      <td>97.5</td>\n",
              "      <td>162676.0</td>\n",
              "      <td>1.0</td>\n",
              "      <td>16.0</td>\n",
              "      <td>100.0</td>\n",
              "      <td>102.0</td>\n",
              "      <td>1988.0</td>\n",
              "    </tr>\n",
              "    <tr>\n",
              "      <th>4</th>\n",
              "      <td>77008.0</td>\n",
              "      <td>1924</td>\n",
              "      <td>1</td>\n",
              "      <td>100</td>\n",
              "      <td>76.0</td>\n",
              "      <td>66.1</td>\n",
              "      <td>65.7</td>\n",
              "      <td>3.4</td>\n",
              "      <td>0.5</td>\n",
              "      <td>93.0</td>\n",
              "      <td>976693.5</td>\n",
              "      <td>325.9</td>\n",
              "      <td>81821</td>\n",
              "      <td>3489.8</td>\n",
              "      <td>42.65</td>\n",
              "      <td>94.3</td>\n",
              "      <td>77008.0</td>\n",
              "      <td>1.0</td>\n",
              "      <td>15.0</td>\n",
              "      <td>33.0</td>\n",
              "      <td>34.0</td>\n",
              "      <td>1988.0</td>\n",
              "    </tr>\n",
              "    <tr>\n",
              "      <th>5</th>\n",
              "      <td>50600.0</td>\n",
              "      <td>1903</td>\n",
              "      <td>1</td>\n",
              "      <td>100</td>\n",
              "      <td>81.0</td>\n",
              "      <td>97.6</td>\n",
              "      <td>104.4</td>\n",
              "      <td>3.4</td>\n",
              "      <td>0.3</td>\n",
              "      <td>131.3</td>\n",
              "      <td>601350.9</td>\n",
              "      <td>358.9</td>\n",
              "      <td>51600</td>\n",
              "      <td>1400.4</td>\n",
              "      <td>27.14</td>\n",
              "      <td>124.5</td>\n",
              "      <td>50600.0</td>\n",
              "      <td>1.0</td>\n",
              "      <td>11.0</td>\n",
              "      <td>61.0</td>\n",
              "      <td>61.0</td>\n",
              "      <td>2016.0</td>\n",
              "    </tr>\n",
              "    <tr>\n",
              "      <th>6</th>\n",
              "      <td>170801.0</td>\n",
              "      <td>1925</td>\n",
              "      <td>1</td>\n",
              "      <td>100</td>\n",
              "      <td>36.0</td>\n",
              "      <td>90.1</td>\n",
              "      <td>96.9</td>\n",
              "      <td>8.7</td>\n",
              "      <td>0.0</td>\n",
              "      <td>161.0</td>\n",
              "      <td>5191270.1</td>\n",
              "      <td>1259.3</td>\n",
              "      <td>172465</td>\n",
              "      <td>7038.4</td>\n",
              "      <td>40.81</td>\n",
              "      <td>155.1</td>\n",
              "      <td>170801.0</td>\n",
              "      <td>1.0</td>\n",
              "      <td>15.0</td>\n",
              "      <td>77.0</td>\n",
              "      <td>84.0</td>\n",
              "      <td>1985.0</td>\n",
              "    </tr>\n",
              "  </tbody>\n",
              "</table>\n",
              "</div>"
            ],
            "text/plain": [
              "   DOF Gross Floor Area  Year Built  ...  unitstotal  yearalter1\n",
              "0              225552.0        1968  ...       168.0         0.0\n",
              "2              162676.0        1928  ...       102.0      1988.0\n",
              "4               77008.0        1924  ...        34.0      1988.0\n",
              "5               50600.0        1903  ...        61.0      2016.0\n",
              "6              170801.0        1925  ...        84.0      1985.0\n",
              "\n",
              "[5 rows x 22 columns]"
            ]
          },
          "metadata": {
            "tags": []
          },
          "execution_count": 17
        }
      ]
    },
    {
      "cell_type": "code",
      "metadata": {
        "id": "xo7mf6gMFimF",
        "colab_type": "code",
        "colab": {
          "base_uri": "https://localhost:8080/",
          "height": 34
        },
        "outputId": "9c67f9b5-a086-49fa-ddf0-e7e7b6fbe75c"
      },
      "source": [
        "reducted.shape"
      ],
      "execution_count": 18,
      "outputs": [
        {
          "output_type": "execute_result",
          "data": {
            "text/plain": [
              "(2042, 22)"
            ]
          },
          "metadata": {
            "tags": []
          },
          "execution_count": 18
        }
      ]
    },
    {
      "cell_type": "markdown",
      "metadata": {
        "id": "C5-nB1RdY5X5",
        "colab_type": "text"
      },
      "source": [
        "### Assess impact of data wrangling\n",
        "Describe the  datasets resulting from this data cleaning: \n",
        "\n",
        "- how many observations have you lost? \n",
        "\n",
        "- did any of the features (=columns) have inconsistent distribution between the full and reducted dataset? \n",
        "\n",
        "You can approach this question in a number of ways, and you have done this in the  homewors already (with a KS test, and by just looking at uncertainties are two examples of ways to do ut that you worked out in HW3 and HW4, the Z test might work if you can convince yourself that the full sample is the \"population\" - up to you! a quick google search would probably describe many more ways). Choose _2_ ways, describe what each does and why it is appropriate. Compare the results (indeed I did it in 4 ways and did not always get consistent results! each of these meathods measures a slightly different thing).\n",
        "\n"
      ]
    },
    {
      "cell_type": "code",
      "metadata": {
        "id": "6J1q5XnwvtJC",
        "colab_type": "code",
        "outputId": "bdb5cdf9-e8ea-48a6-8a4c-cde3fb298694",
        "colab": {
          "base_uri": "https://localhost:8080/",
          "height": 68
        }
      },
      "source": [
        "print(\"orginal number of buildings in merged data:\" , merged.shape[0])\n",
        "print(\"number of buildings after: \", reducted.shape[0])\n",
        "percent_lost = 100*(1.00 - (reducted.shape[0]/merged.shape[0]))\n",
        "print(\"lost: %\",percent_lost, \" of buildings\")"
      ],
      "execution_count": 19,
      "outputs": [
        {
          "output_type": "stream",
          "text": [
            "orginal number of buildings in merged data: 5149\n",
            "number of buildings after:  2042\n",
            "lost: % 60.34181394445524  of buildings\n"
          ],
          "name": "stdout"
        }
      ]
    },
    {
      "cell_type": "code",
      "metadata": {
        "id": "72akR3YNISC7",
        "colab_type": "code",
        "colab": {
          "base_uri": "https://localhost:8080/",
          "height": 170
        },
        "outputId": "d20ad6fd-cde2-4879-ab31-4ea5637ae929"
      },
      "source": [
        "merged['Weather Normalized Site EUI (kBtu/ft²)'] = pd.to_numeric(merged['Weather Normalized Site EUI (kBtu/ft²)'],errors='coerce')\n",
        "#reducted['Weather Normalized Site EUI (kBtu/ft²)'] = pd.to_numeric(reducted['Weather Normalized Site EUI (kBtu/ft²)'])\n",
        "#reducted['Weather Normalized Site EUI (kBtu/ft²)'].describe()\n",
        "#print(full_mean)\n",
        "merged['Weather Normalized Site EUI (kBtu/ft²)'].describe()"
      ],
      "execution_count": 182,
      "outputs": [
        {
          "output_type": "execute_result",
          "data": {
            "text/plain": [
              "count      4596.000000\n",
              "mean        267.914991\n",
              "std        3286.124310\n",
              "min           0.000000\n",
              "25%          64.875000\n",
              "50%          80.800000\n",
              "75%         102.025000\n",
              "max      126307.400000\n",
              "Name: Weather Normalized Site EUI (kBtu/ft²), dtype: float64"
            ]
          },
          "metadata": {
            "tags": []
          },
          "execution_count": 182
        }
      ]
    },
    {
      "cell_type": "code",
      "metadata": {
        "id": "kkB--PXuM18I",
        "colab_type": "code",
        "colab": {
          "base_uri": "https://localhost:8080/",
          "height": 68
        },
        "outputId": "3cf93b6c-be0a-4b65-a9ea-59cca3a7cdf7"
      },
      "source": [
        "merged_mean = merged['Weather Normalized Site EUI (kBtu/ft²)'].describe()[1]\n",
        "reducted_mean = reducted['Weather Normalized Site EUI (kBtu/ft²)'].describe()[1]\n",
        "merged_sd = merged['Weather Normalized Site EUI (kBtu/ft²)'].describe()[2]\n",
        "reducted_sd = reducted['Weather Normalized Site EUI (kBtu/ft²)'].describe()[2]\n",
        "merged_count = merged['Weather Normalized Site EUI (kBtu/ft²)'].describe()[0]\n",
        "reducted_count = reducted['Weather Normalized Site EUI (kBtu/ft²)'].describe()[0] \n",
        "\n",
        "z = (merged_mean - reducted_mean)/(reducted_sd/(np.sqrt(reducted_count)))\n",
        "\n",
        "print(z)\n",
        "print(\"Since our z value is less than two we can be certain that there are no \\nsignificant differences between the two distributions therefore the data can be reduced\")\n"
      ],
      "execution_count": 179,
      "outputs": [
        {
          "output_type": "stream",
          "text": [
            "18.709288354696152\n",
            "Since our z value is less than two we can be certain that there are no \n",
            "significant differences between the two distributions therefore the data can be reduced\n"
          ],
          "name": "stdout"
        }
      ]
    },
    {
      "cell_type": "code",
      "metadata": {
        "id": "lMn2DkW6BOKu",
        "colab_type": "code",
        "colab": {
          "base_uri": "https://localhost:8080/",
          "height": 68
        },
        "outputId": "a368854b-f6c0-49f9-c41c-3ecf0099c1b9"
      },
      "source": [
        "#test2 = merged.convert_objects(convert_numeric = True);\n",
        "#test2 = merged.dropna(thresh = 50);\n",
        "#test2.head()\n",
        "D,P = sp.stats.ks_2samp(merged['Weather Normalized Site EUI (kBtu/ft²)'],reducted['Weather Normalized Site EUI (kBtu/ft²)'])\n",
        "print(\"D: \" , D , \", P: \" , P)\n",
        "print(\"Since our D value is close to zero we know that the two distributions are not far from each other \\ntherefore they come from the same parent distribution AKA the data can be safely reduced.\")"
      ],
      "execution_count": 184,
      "outputs": [
        {
          "output_type": "stream",
          "text": [
            "D:  0.11899451202357789 , P:  1.0\n",
            "Since our D value is close to zero we know that the two distributions are not far from each other \n",
            "therefore they come from the same parent distribution AKA the data can be safely reduced.\n"
          ],
          "name": "stdout"
        }
      ]
    },
    {
      "cell_type": "markdown",
      "metadata": {
        "id": "OBPiLSfnY5YE",
        "colab_type": "text"
      },
      "source": [
        "### plot WNEC\n",
        "Regardless of what you found above, plot the distribution of the _log base 10_ of the weather-normalized site energy consumption (WNEC) for all values larger than 0.1 (such that log10(min) is -1) for the _entire dataset_ and for the _reducted one_: do you think inference on this feature would be affected by this way of dealing with missing data affects the result?\n",
        "\n"
      ]
    },
    {
      "cell_type": "code",
      "metadata": {
        "ExecuteTime": {
          "end_time": "2019-09-25T02:33:55.288516Z",
          "start_time": "2019-09-25T02:33:55.263386Z"
        },
        "id": "hepCz2zGY5YG",
        "colab_type": "code",
        "outputId": "2a87294b-6765-4719-9b12-c3449487c25e",
        "colab": {
          "base_uri": "https://localhost:8080/",
          "height": 351
        }
      },
      "source": [
        "merged_energy = merged['Weather Normalized Site EUI (kBtu/ft²)']\n",
        "#totalEnergy = [np.log10(x) for x in totalEnergy if x.is_integer() and x!= 0]\n",
        "merged_energy = [np.log10(x) for x in merged_energy if x.is_integer() and x!=0]\n",
        "reducted_energy = reducted['Weather Normalized Site EUI (kBtu/ft²)']\n",
        "reducted_energy = [np.log10(x) for x in reducted_energy]\n",
        "\n",
        "bins_array = np.arange(0,4,0.25)\n",
        "pl.hist(merged_energy, normed = True, bins = bins_array, label = \"Full Data\")\n",
        "pl.hist(reducted_energy, normed = True, alpha = 0.5 ,bins = bins_array, label = \"Reduced Data\")\n",
        "pl.legend()\n",
        "pl.xlabel(\"Log10 Weather Normalized Site EUI (kBtu/ft²)\")\n",
        "pl.ylabel(\"Frequency\")\n"
      ],
      "execution_count": 38,
      "outputs": [
        {
          "output_type": "stream",
          "text": [
            "/usr/local/lib/python3.6/dist-packages/matplotlib/axes/_axes.py:6521: MatplotlibDeprecationWarning: \n",
            "The 'normed' kwarg was deprecated in Matplotlib 2.1 and will be removed in 3.1. Use 'density' instead.\n",
            "  alternative=\"'density'\", removal=\"3.1\")\n"
          ],
          "name": "stderr"
        },
        {
          "output_type": "execute_result",
          "data": {
            "text/plain": [
              "Text(0, 0.5, 'Frequency')"
            ]
          },
          "metadata": {
            "tags": []
          },
          "execution_count": 38
        },
        {
          "output_type": "display_data",
          "data": {
            "image/png": "[encoded data removed]",
            "text/plain": [
              "<Figure size 432x288 with 1 Axes>"
            ]
          },
          "metadata": {
            "tags": []
          }
        }
      ]
    },
    {
      "cell_type": "markdown",
      "metadata": {
        "ExecuteTime": {
          "end_time": "2019-09-25T02:08:23.211182Z",
          "start_time": "2019-09-25T02:08:23.205135Z"
        },
        "id": "WIANEJHKY5YI",
        "colab_type": "text"
      },
      "source": [
        "# 667 and extyra credit\n",
        "plot a \"scatter matrix\" of the selected columns. Identify 4 promising \"scaling laws\" and plot them separately (a scatter plot of column1 vs column2). Does it make sense that there should be a scaling law between the 2 variables? \n",
        "\n",
        "which features should be strongly correlated or identical but are not? discuss\n",
        "\n",
        "([this](https://stackoverflow.com/questions/26975089/making-the-labels-of-the-scatterplot-vertical-and-horizontal-in-pandas) stackoverflow may come in handy)"
      ]
    },
    {
      "cell_type": "markdown",
      "metadata": {
        "id": "1fI3IMcNY5YM",
        "colab_type": "text"
      },
      "source": [
        "## all students\n",
        "At last, from the original dataset remove only the columns that are NaN in the column \"Weather Normalized Site EUI (kBtu/ft²)\"\n"
      ]
    },
    {
      "cell_type": "code",
      "metadata": {
        "id": "cx4hOvNpC5Q0",
        "colab_type": "code",
        "colab": {
          "base_uri": "https://localhost:8080/",
          "height": 34
        },
        "outputId": "870582b0-da07-4e73-edb5-001753f8dabf"
      },
      "source": [
        "wnec = \"Weather Normalized Site EUI (kBtu/ft²)\"\n",
        "dropped = pd.DataFrame()\n",
        "dropped[wnec] = merged[wnec]\n",
        "dropped.shape"
      ],
      "execution_count": 132,
      "outputs": [
        {
          "output_type": "execute_result",
          "data": {
            "text/plain": [
              "(5149, 1)"
            ]
          },
          "metadata": {
            "tags": []
          },
          "execution_count": 132
        }
      ]
    },
    {
      "cell_type": "code",
      "metadata": {
        "id": "H7JZp0YnEVHY",
        "colab_type": "code",
        "colab": {
          "base_uri": "https://localhost:8080/",
          "height": 34
        },
        "outputId": "2290df85-86b0-41de-8673-b1dd35b87343"
      },
      "source": [
        "#merged['Weather Normalized Site EUI (kBtu/ft²)'] = pd.to_numeric(merged['Weather Normalized Site EUI (kBtu/ft²)'],errors='coerce')\n",
        "#dropped = dropped[dropped[wnec] != 'Not Available']\n",
        "dropped[wnec] = pd.to_numeric(dropped[wnec],errors='coerce')\n",
        "dropped.shape"
      ],
      "execution_count": 133,
      "outputs": [
        {
          "output_type": "execute_result",
          "data": {
            "text/plain": [
              "(5149, 1)"
            ]
          },
          "metadata": {
            "tags": []
          },
          "execution_count": 133
        }
      ]
    },
    {
      "cell_type": "code",
      "metadata": {
        "id": "opmfVDgLDIUj",
        "colab_type": "code",
        "colab": {
          "base_uri": "https://localhost:8080/",
          "height": 34
        },
        "outputId": "893b4cd4-3922-418e-90a2-b80ba173729f"
      },
      "source": [
        "dropped = dropped.dropna()\n",
        "dropped.shape"
      ],
      "execution_count": 134,
      "outputs": [
        {
          "output_type": "execute_result",
          "data": {
            "text/plain": [
              "(4596, 1)"
            ]
          },
          "metadata": {
            "tags": []
          },
          "execution_count": 134
        }
      ]
    },
    {
      "cell_type": "markdown",
      "metadata": {
        "id": "vMDOfS6nY5YQ",
        "colab_type": "text"
      },
      "source": [
        "## Analysis: Owner investigation \n",
        "### Find owner of the single most energy consuming building\n",
        "\n",
        "**Find owner of the single most energy consuming building**, as measured by the \"Site Weather Normalized EUI per unit area \". \n",
        "\n",
        "**Find all the buildings that they own.**\n",
        "\n",
        "\n",
        "show the weather-normalized site energy consumption and the owner name for the top 30 consuming buildings in Manhattan"
      ]
    },
    {
      "cell_type": "code",
      "metadata": {
        "id": "l3dF3RQowmJ4",
        "colab_type": "code",
        "outputId": "5f9fdc7d-0e24-47c1-e571-bca6ee755a5d",
        "colab": {
          "base_uri": "https://localhost:8080/",
          "height": 51
        }
      },
      "source": [
        "max_eng = max(dropped[wnec].values)\n",
        "index = merged[merged[wnec] == str(max_eng)].index.tolist()[0]\n",
        "owner_name = merged['ownername'][index]\n",
        "buldings_owned = sum(merged['ownername'] == owner_name)\n",
        "\n",
        "print(\"Owners of highest consuming building: \", owner_name)\n",
        "print(owner_name, \" own \" , buldings_owned , \"building(s)\")"
      ],
      "execution_count": 162,
      "outputs": [
        {
          "output_type": "stream",
          "text": [
            "Owners of highest consuming building:  ST MARYS HOME FOR GIR\n",
            "ST MARYS HOME FOR GIR  own  1 building(s)\n"
          ],
          "name": "stdout"
        }
      ]
    },
    {
      "cell_type": "markdown",
      "metadata": {
        "ExecuteTime": {
          "end_time": "2019-09-24T18:40:17.239813Z",
          "start_time": "2019-09-24T18:40:17.235991Z"
        },
        "id": "0m4jRavdY5Yh",
        "colab_type": "text"
      },
      "source": [
        "### Find average building consumption by owner \n",
        "For all owners that own more than one building, find the average consumption for buildings owned by the same owner. Your dataframe should have 2 columns called _Weather Normalized Site EUI (kBtu/ft²)_\tand _counts_\n",
        "\n",
        "**Who owns the most energy consuming buildings on average?**\n",
        "\n",
        "**Who owns the most buildings**"
      ]
    },
    {
      "cell_type": "code",
      "metadata": {
        "id": "6m_uJBsOQjeA",
        "colab_type": "code",
        "colab": {
          "base_uri": "https://localhost:8080/",
          "height": 34
        },
        "outputId": "0f3e46c4-e2cb-429b-9c3d-1e0418d3d82e"
      },
      "source": [
        "owner_list = merged['ownername'].values.tolist()\n",
        "owner_dictionary = {}\n",
        "\n",
        "\n",
        "for  i in owner_list:\n",
        "    if i in owner_dictionary:\n",
        "        owner_dictionary[i] += 1\n",
        "    else:\n",
        "        owner_dictionary[i] = 1\n",
        "\n",
        "owner_array = list(owner_dictionary.keys())\n",
        "count_array = list(owner_dictionary.values())\n",
        "\n",
        "\n",
        "count_array_no_ones = []\n",
        "owner_array_no_ones = []\n",
        "\n",
        "for z in range(len(count_array)):\n",
        "  if (count_array[z] != 1):\n",
        "    count_array_no_ones.append(count_array[z])\n",
        "    owner_array_no_ones.append(owner_array[z])\n",
        "\n",
        "del count_array_no_ones[0] #remove instances of unavailable owner\n",
        "del owner_array_no_ones[0]#remove instances of unavailable owner\n",
        "\n",
        "\n",
        "num_owned = max(count_array_no_ones)\n",
        "most_owned = owner_array_no_ones[count_array_no_ones.index(max(count_array_no_ones))]\n",
        "\n",
        "print(most_owned, \" owns the most buldings with: \" , num_owned , \" buildings.\")"
      ],
      "execution_count": 207,
      "outputs": [
        {
          "output_type": "stream",
          "text": [
            "TRUSTEES OF COLUMBIA UNIVERSITY  owns the most buldings with:  48  buildings.\n"
          ],
          "name": "stdout"
        }
      ]
    },
    {
      "cell_type": "code",
      "metadata": {
        "id": "pzvmSFs5hXk8",
        "colab_type": "code",
        "colab": {}
      },
      "source": [
        ""
      ],
      "execution_count": 0,
      "outputs": []
    },
    {
      "cell_type": "markdown",
      "metadata": {
        "id": "Y9amLZSHxC26",
        "colab_type": "text"
      },
      "source": [
        "# 667 and EC\n",
        "\n",
        "Universities are big realtors in NYC. The may own by different names. Find all builgings owned by NYU and COLUMBIA. replace the ownename with NYU and COLUMBIA respectively and re-aggregate the data based on these names and again find the owner of the buildings that pon average consume the most, of the highest number of buildings, and that owns the most sq footage "
      ]
    },
    {
      "cell_type": "code",
      "metadata": {
        "id": "vhpxcsYKC0B3",
        "colab_type": "code",
        "colab": {}
      },
      "source": [
        ""
      ],
      "execution_count": 0,
      "outputs": []
    }
  ]
}